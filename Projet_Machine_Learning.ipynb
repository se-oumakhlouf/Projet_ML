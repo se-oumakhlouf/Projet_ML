{
 "cells": [
  {
   "cell_type": "markdown",
   "id": "7b13879e",
   "metadata": {},
   "source": [
    "# Projet Machine Learning sur la base DVF"
   ]
  },
  {
   "cell_type": "markdown",
   "id": "4491c8b3",
   "metadata": {},
   "source": [
    "## Oumakhlouf Selym\n",
    "## Marchand Florian"
   ]
  },
  {
   "cell_type": "code",
   "execution_count": 4,
   "id": "824cabd2",
   "metadata": {},
   "outputs": [],
   "source": [
    "import numpy as np\n",
    "import matplotlib\n",
    "import matplotlib.pyplot as plt\n",
    "import pandas as pd\n",
    "import tensorflow as tf"
   ]
  },
  {
   "cell_type": "markdown",
   "id": "31bbbd0d",
   "metadata": {},
   "source": [
    "# 1. Introduction\n"
   ]
  },
  {
   "cell_type": "markdown",
   "id": "d4e356c9",
   "metadata": {},
   "source": [
    "Prédire au mieux le prix d’un appartement à partir de\n",
    "ses autres caractéristiques.\n",
    "\n",
    "On va utiliser la base de données DVF."
   ]
  },
  {
   "cell_type": "markdown",
   "id": "33939005",
   "metadata": {},
   "source": [
    "# 2. Analyse des Données"
   ]
  },
  {
   "cell_type": "code",
   "execution_count": 5,
   "id": "8e0f44ad",
   "metadata": {},
   "outputs": [],
   "source": [
    "dvf = pd.read_csv('./DVF_train.csv', dtype={'code_departement':'str', 'code_postal': 'str'})"
   ]
  },
  {
   "cell_type": "code",
   "execution_count": 6,
   "id": "94d72574",
   "metadata": {},
   "outputs": [
    {
     "data": {
      "text/html": [
       "<div>\n",
       "<style scoped>\n",
       "    .dataframe tbody tr th:only-of-type {\n",
       "        vertical-align: middle;\n",
       "    }\n",
       "\n",
       "    .dataframe tbody tr th {\n",
       "        vertical-align: top;\n",
       "    }\n",
       "\n",
       "    .dataframe thead th {\n",
       "        text-align: right;\n",
       "    }\n",
       "</style>\n",
       "<table border=\"1\" class=\"dataframe\">\n",
       "  <thead>\n",
       "    <tr style=\"text-align: right;\">\n",
       "      <th></th>\n",
       "      <th>Unnamed: 0</th>\n",
       "      <th>date_mutation</th>\n",
       "      <th>valeur_fonciere</th>\n",
       "      <th>code_postal</th>\n",
       "      <th>code_departement</th>\n",
       "      <th>type_local</th>\n",
       "      <th>surface_reelle_bati</th>\n",
       "      <th>nombre_pieces_principales</th>\n",
       "      <th>surface_terrain</th>\n",
       "      <th>longitude</th>\n",
       "      <th>latitude</th>\n",
       "    </tr>\n",
       "  </thead>\n",
       "  <tbody>\n",
       "    <tr>\n",
       "      <th>0</th>\n",
       "      <td>3612399</td>\n",
       "      <td>2023-08-03</td>\n",
       "      <td>165410.0</td>\n",
       "      <td>94160.0</td>\n",
       "      <td>94</td>\n",
       "      <td>Appartement</td>\n",
       "      <td>17.0</td>\n",
       "      <td>1.0</td>\n",
       "      <td>NaN</td>\n",
       "      <td>2.416612</td>\n",
       "      <td>48.840466</td>\n",
       "    </tr>\n",
       "    <tr>\n",
       "      <th>1</th>\n",
       "      <td>2979296</td>\n",
       "      <td>2023-05-23</td>\n",
       "      <td>170900.0</td>\n",
       "      <td>78300.0</td>\n",
       "      <td>78</td>\n",
       "      <td>Appartement</td>\n",
       "      <td>80.0</td>\n",
       "      <td>4.0</td>\n",
       "      <td>NaN</td>\n",
       "      <td>2.040845</td>\n",
       "      <td>48.926907</td>\n",
       "    </tr>\n",
       "    <tr>\n",
       "      <th>2</th>\n",
       "      <td>545016</td>\n",
       "      <td>2023-05-31</td>\n",
       "      <td>16000.0</td>\n",
       "      <td>16000.0</td>\n",
       "      <td>16</td>\n",
       "      <td>Appartement</td>\n",
       "      <td>20.0</td>\n",
       "      <td>1.0</td>\n",
       "      <td>NaN</td>\n",
       "      <td>0.170911</td>\n",
       "      <td>45.651279</td>\n",
       "    </tr>\n",
       "    <tr>\n",
       "      <th>3</th>\n",
       "      <td>2497199</td>\n",
       "      <td>2023-06-29</td>\n",
       "      <td>240000.0</td>\n",
       "      <td>65400.0</td>\n",
       "      <td>65</td>\n",
       "      <td>Appartement</td>\n",
       "      <td>75.0</td>\n",
       "      <td>3.0</td>\n",
       "      <td>621.0</td>\n",
       "      <td>-0.068876</td>\n",
       "      <td>42.988343</td>\n",
       "    </tr>\n",
       "    <tr>\n",
       "      <th>4</th>\n",
       "      <td>3207821</td>\n",
       "      <td>2023-02-16</td>\n",
       "      <td>522000.0</td>\n",
       "      <td>84400.0</td>\n",
       "      <td>84</td>\n",
       "      <td>Maison</td>\n",
       "      <td>165.0</td>\n",
       "      <td>5.0</td>\n",
       "      <td>1000.0</td>\n",
       "      <td>5.384564</td>\n",
       "      <td>43.911069</td>\n",
       "    </tr>\n",
       "    <tr>\n",
       "      <th>...</th>\n",
       "      <td>...</td>\n",
       "      <td>...</td>\n",
       "      <td>...</td>\n",
       "      <td>...</td>\n",
       "      <td>...</td>\n",
       "      <td>...</td>\n",
       "      <td>...</td>\n",
       "      <td>...</td>\n",
       "      <td>...</td>\n",
       "      <td>...</td>\n",
       "      <td>...</td>\n",
       "    </tr>\n",
       "    <tr>\n",
       "      <th>703768</th>\n",
       "      <td>1045273</td>\n",
       "      <td>2023-01-03</td>\n",
       "      <td>60000.0</td>\n",
       "      <td>30000.0</td>\n",
       "      <td>30</td>\n",
       "      <td>Appartement</td>\n",
       "      <td>22.0</td>\n",
       "      <td>1.0</td>\n",
       "      <td>NaN</td>\n",
       "      <td>4.396774</td>\n",
       "      <td>43.854210</td>\n",
       "    </tr>\n",
       "    <tr>\n",
       "      <th>703769</th>\n",
       "      <td>1837384</td>\n",
       "      <td>2023-04-07</td>\n",
       "      <td>250000.0</td>\n",
       "      <td>46230.0</td>\n",
       "      <td>46</td>\n",
       "      <td>Maison</td>\n",
       "      <td>140.0</td>\n",
       "      <td>4.0</td>\n",
       "      <td>500.0</td>\n",
       "      <td>1.546814</td>\n",
       "      <td>44.344308</td>\n",
       "    </tr>\n",
       "    <tr>\n",
       "      <th>703770</th>\n",
       "      <td>579086</td>\n",
       "      <td>2023-05-24</td>\n",
       "      <td>558000.0</td>\n",
       "      <td>17139.0</td>\n",
       "      <td>17</td>\n",
       "      <td>Maison</td>\n",
       "      <td>135.0</td>\n",
       "      <td>6.0</td>\n",
       "      <td>657.0</td>\n",
       "      <td>-1.056342</td>\n",
       "      <td>46.192404</td>\n",
       "    </tr>\n",
       "    <tr>\n",
       "      <th>703771</th>\n",
       "      <td>1722782</td>\n",
       "      <td>2023-04-11</td>\n",
       "      <td>360000.0</td>\n",
       "      <td>44230.0</td>\n",
       "      <td>44</td>\n",
       "      <td>Maison</td>\n",
       "      <td>74.0</td>\n",
       "      <td>4.0</td>\n",
       "      <td>363.0</td>\n",
       "      <td>-1.489895</td>\n",
       "      <td>47.198482</td>\n",
       "    </tr>\n",
       "    <tr>\n",
       "      <th>703772</th>\n",
       "      <td>2952636</td>\n",
       "      <td>2023-10-31</td>\n",
       "      <td>258450.0</td>\n",
       "      <td>77660.0</td>\n",
       "      <td>77</td>\n",
       "      <td>Maison</td>\n",
       "      <td>75.0</td>\n",
       "      <td>4.0</td>\n",
       "      <td>77.0</td>\n",
       "      <td>3.020058</td>\n",
       "      <td>48.956774</td>\n",
       "    </tr>\n",
       "  </tbody>\n",
       "</table>\n",
       "<p>703773 rows × 11 columns</p>\n",
       "</div>"
      ],
      "text/plain": [
       "        Unnamed: 0 date_mutation  valeur_fonciere code_postal  \\\n",
       "0          3612399    2023-08-03         165410.0     94160.0   \n",
       "1          2979296    2023-05-23         170900.0     78300.0   \n",
       "2           545016    2023-05-31          16000.0     16000.0   \n",
       "3          2497199    2023-06-29         240000.0     65400.0   \n",
       "4          3207821    2023-02-16         522000.0     84400.0   \n",
       "...            ...           ...              ...         ...   \n",
       "703768     1045273    2023-01-03          60000.0     30000.0   \n",
       "703769     1837384    2023-04-07         250000.0     46230.0   \n",
       "703770      579086    2023-05-24         558000.0     17139.0   \n",
       "703771     1722782    2023-04-11         360000.0     44230.0   \n",
       "703772     2952636    2023-10-31         258450.0     77660.0   \n",
       "\n",
       "       code_departement   type_local  surface_reelle_bati  \\\n",
       "0                    94  Appartement                 17.0   \n",
       "1                    78  Appartement                 80.0   \n",
       "2                    16  Appartement                 20.0   \n",
       "3                    65  Appartement                 75.0   \n",
       "4                    84       Maison                165.0   \n",
       "...                 ...          ...                  ...   \n",
       "703768               30  Appartement                 22.0   \n",
       "703769               46       Maison                140.0   \n",
       "703770               17       Maison                135.0   \n",
       "703771               44       Maison                 74.0   \n",
       "703772               77       Maison                 75.0   \n",
       "\n",
       "        nombre_pieces_principales  surface_terrain  longitude   latitude  \n",
       "0                             1.0              NaN   2.416612  48.840466  \n",
       "1                             4.0              NaN   2.040845  48.926907  \n",
       "2                             1.0              NaN   0.170911  45.651279  \n",
       "3                             3.0            621.0  -0.068876  42.988343  \n",
       "4                             5.0           1000.0   5.384564  43.911069  \n",
       "...                           ...              ...        ...        ...  \n",
       "703768                        1.0              NaN   4.396774  43.854210  \n",
       "703769                        4.0            500.0   1.546814  44.344308  \n",
       "703770                        6.0            657.0  -1.056342  46.192404  \n",
       "703771                        4.0            363.0  -1.489895  47.198482  \n",
       "703772                        4.0             77.0   3.020058  48.956774  \n",
       "\n",
       "[703773 rows x 11 columns]"
      ]
     },
     "execution_count": 6,
     "metadata": {},
     "output_type": "execute_result"
    }
   ],
   "source": [
    "dvf"
   ]
  },
  {
   "cell_type": "code",
   "execution_count": 30,
   "id": "115decad",
   "metadata": {},
   "outputs": [
    {
     "name": "stdout",
     "output_type": "stream",
     "text": [
      "La base de données DVF est une base de données contenant 703773 lignes contenant chacune 11 elements.\n"
     ]
    }
   ],
   "source": [
    "print(f\"La base de données DVF est une base de données contenant {dvf.shape[0]} lignes contenant chacune {dvf.shape[1]} elements.\")"
   ]
  },
  {
   "cell_type": "markdown",
   "id": "caf17fab",
   "metadata": {},
   "source": [
    "On remarque que les departements d'outre-mer ne sont pas present et que les deux departements de corses sont reunit sur le 20eme departement."
   ]
  },
  {
   "cell_type": "code",
   "execution_count": null,
   "id": "094d64f6",
   "metadata": {},
   "outputs": [],
   "source": []
  },
  {
   "cell_type": "code",
   "execution_count": 52,
   "id": "f80479bd",
   "metadata": {},
   "outputs": [],
   "source": [
    "max_transac = dvf['valeur_fonciere'].describe().apply(lambda x: format(x,'f'))['max']\n",
    "min_transac = dvf['valeur_fonciere'].describe().apply(lambda x: format(x,'f'))['min']"
   ]
  },
  {
   "cell_type": "code",
   "execution_count": 6,
   "id": "f6d41ba3",
   "metadata": {},
   "outputs": [
    {
     "name": "stdout",
     "output_type": "stream",
     "text": [
      "La transaction la plus elevée sur cette base est de 9900000.0€\n",
      "La transaction la plus faible sur cette base est de 10000.0€\n"
     ]
    }
   ],
   "source": [
    "print(f\"La transaction la plus elevée sur cette base est de {float(max_transac)}€\")\n",
    "print(f\"La transaction la plus faible sur cette base est de {float(min_transac)}€\")"
   ]
  },
  {
   "cell_type": "markdown",
   "id": "86e5d97b",
   "metadata": {},
   "source": [
    "L'etendue etant beaucoup trop elevé (de 10_000 a 9_900_000), utiliser la mediane pourrai etre plus reprensentatif de la realité par moment."
   ]
  },
  {
   "cell_type": "code",
   "execution_count": 12,
   "id": "69197eec",
   "metadata": {},
   "outputs": [],
   "source": [
    "avg_dep = [dvf['valeur_fonciere'].loc[dvf['code_departement'] == str(i)].mean() for i in range(1,96)]\n",
    "size_dep = [dvf.loc[dvf['code_departement'] == str(i)].shape[0] for i in range(1,96)]\n"
   ]
  },
  {
   "cell_type": "code",
   "execution_count": 13,
   "id": "be535a5e",
   "metadata": {},
   "outputs": [],
   "source": [
    "avg_dep_sorted = sorted(avg_dep)\n",
    "avg_dep_sorted.reverse()"
   ]
  },
  {
   "cell_type": "code",
   "execution_count": 14,
   "id": "a6d0a675",
   "metadata": {},
   "outputs": [
    {
     "name": "stdout",
     "output_type": "stream",
     "text": [
      "Le departement du 92 est le 1er dont les transactions sont les plus couteuses avec en moyenne 996875.16€\n",
      "Le departement du 75 est le 2ème dont les transactions sont les plus couteuses avec en moyenne 945219.32€\n",
      "Le departement du 94 est le 3ème dont les transactions sont les plus couteuses avec en moyenne 842270.65€\n",
      "Le departement du 6 est le 4ème dont les transactions sont les plus couteuses avec en moyenne 593832.99€\n",
      "Le departement du 69 est le 5ème dont les transactions sont les plus couteuses avec en moyenne 570812.74€\n",
      "Le departement du 78 est le 6ème dont les transactions sont les plus couteuses avec en moyenne 558901.65€\n",
      "Le departement du 83 est le 7ème dont les transactions sont les plus couteuses avec en moyenne 556157.36€\n",
      "Le departement du 73 est le 8ème dont les transactions sont les plus couteuses avec en moyenne 550525.49€\n",
      "Le departement du 74 est le 9ème dont les transactions sont les plus couteuses avec en moyenne 545276.43€\n",
      "Le departement du 95 est le 10ème dont les transactions sont les plus couteuses avec en moyenne 545146.75€\n"
     ]
    }
   ],
   "source": [
    "for i in range(10):\n",
    "    print(f\"Le departement du {avg_dep.index(avg_dep_sorted[i]) + 1} est le {i+1}{'er' if i == 0 else 'ème'} dont les transactions sont les plus couteuses avec en moyenne {round(avg_dep_sorted[i],2)}€\")"
   ]
  },
  {
   "cell_type": "code",
   "execution_count": null,
   "id": "74b45560",
   "metadata": {},
   "outputs": [],
   "source": []
  },
  {
   "cell_type": "code",
   "execution_count": 15,
   "id": "b3933fbb",
   "metadata": {},
   "outputs": [],
   "source": [
    "def posByCost(dep):\n",
    "    '''\n",
    "    Cette fonction permet de determiner quelle est la position \n",
    "    d'un departement par rapport au cout moyen des transactions.\n",
    "    renvoie la position, prix moyen, nombre de transactions\n",
    "    '''\n",
    "    avg = avg_dep[dep-1]\n",
    "    return avg_dep_sorted.index(avg) +1, round(avg, 2), size_dep[dep-1]"
   ]
  },
  {
   "cell_type": "code",
   "execution_count": 16,
   "id": "be310d2a",
   "metadata": {},
   "outputs": [
    {
     "data": {
      "text/plain": [
       "(27, np.float64(358483.02), 13986)"
      ]
     },
     "execution_count": 16,
     "metadata": {},
     "output_type": "execute_result"
    }
   ],
   "source": [
    "posByCost(77)"
   ]
  },
  {
   "cell_type": "code",
   "execution_count": 17,
   "id": "635ca354",
   "metadata": {},
   "outputs": [],
   "source": [
    "dvf['type_local_encoded'], _ = pd.factorize(dvf['type_local'])  #  permet d'ajouter le type_local dans la matrice de correlation "
   ]
  },
  {
   "cell_type": "code",
   "execution_count": 18,
   "id": "a9664b47",
   "metadata": {},
   "outputs": [
    {
     "data": {
      "text/html": [
       "<div>\n",
       "<style scoped>\n",
       "    .dataframe tbody tr th:only-of-type {\n",
       "        vertical-align: middle;\n",
       "    }\n",
       "\n",
       "    .dataframe tbody tr th {\n",
       "        vertical-align: top;\n",
       "    }\n",
       "\n",
       "    .dataframe thead th {\n",
       "        text-align: right;\n",
       "    }\n",
       "</style>\n",
       "<table border=\"1\" class=\"dataframe\">\n",
       "  <thead>\n",
       "    <tr style=\"text-align: right;\">\n",
       "      <th></th>\n",
       "      <th>valeur_fonciere</th>\n",
       "      <th>surface_reelle_bati</th>\n",
       "      <th>nombre_pieces_principales</th>\n",
       "      <th>surface_terrain</th>\n",
       "      <th>type_local_encoded</th>\n",
       "      <th>longitude</th>\n",
       "      <th>latitude</th>\n",
       "    </tr>\n",
       "  </thead>\n",
       "  <tbody>\n",
       "    <tr>\n",
       "      <th>valeur_fonciere</th>\n",
       "      <td>1.000000</td>\n",
       "      <td>0.053334</td>\n",
       "      <td>-0.005101</td>\n",
       "      <td>0.125885</td>\n",
       "      <td>-0.272653</td>\n",
       "      <td>0.088359</td>\n",
       "      <td>-0.035193</td>\n",
       "    </tr>\n",
       "    <tr>\n",
       "      <th>surface_reelle_bati</th>\n",
       "      <td>0.053334</td>\n",
       "      <td>1.000000</td>\n",
       "      <td>0.762907</td>\n",
       "      <td>0.055395</td>\n",
       "      <td>0.346472</td>\n",
       "      <td>-0.017826</td>\n",
       "      <td>-0.036606</td>\n",
       "    </tr>\n",
       "    <tr>\n",
       "      <th>nombre_pieces_principales</th>\n",
       "      <td>-0.005101</td>\n",
       "      <td>0.762907</td>\n",
       "      <td>1.000000</td>\n",
       "      <td>0.019770</td>\n",
       "      <td>0.378748</td>\n",
       "      <td>-0.036096</td>\n",
       "      <td>0.045846</td>\n",
       "    </tr>\n",
       "    <tr>\n",
       "      <th>surface_terrain</th>\n",
       "      <td>0.125885</td>\n",
       "      <td>0.055395</td>\n",
       "      <td>0.019770</td>\n",
       "      <td>1.000000</td>\n",
       "      <td>-0.025177</td>\n",
       "      <td>-0.001257</td>\n",
       "      <td>-0.018876</td>\n",
       "    </tr>\n",
       "    <tr>\n",
       "      <th>type_local_encoded</th>\n",
       "      <td>-0.272653</td>\n",
       "      <td>0.346472</td>\n",
       "      <td>0.378748</td>\n",
       "      <td>-0.025177</td>\n",
       "      <td>1.000000</td>\n",
       "      <td>-0.135025</td>\n",
       "      <td>0.036722</td>\n",
       "    </tr>\n",
       "    <tr>\n",
       "      <th>longitude</th>\n",
       "      <td>0.088359</td>\n",
       "      <td>-0.017826</td>\n",
       "      <td>-0.036096</td>\n",
       "      <td>-0.001257</td>\n",
       "      <td>-0.135025</td>\n",
       "      <td>1.000000</td>\n",
       "      <td>-0.196716</td>\n",
       "    </tr>\n",
       "    <tr>\n",
       "      <th>latitude</th>\n",
       "      <td>-0.035193</td>\n",
       "      <td>-0.036606</td>\n",
       "      <td>0.045846</td>\n",
       "      <td>-0.018876</td>\n",
       "      <td>0.036722</td>\n",
       "      <td>-0.196716</td>\n",
       "      <td>1.000000</td>\n",
       "    </tr>\n",
       "  </tbody>\n",
       "</table>\n",
       "</div>"
      ],
      "text/plain": [
       "                           valeur_fonciere  surface_reelle_bati  \\\n",
       "valeur_fonciere                   1.000000             0.053334   \n",
       "surface_reelle_bati               0.053334             1.000000   \n",
       "nombre_pieces_principales        -0.005101             0.762907   \n",
       "surface_terrain                   0.125885             0.055395   \n",
       "type_local_encoded               -0.272653             0.346472   \n",
       "longitude                         0.088359            -0.017826   \n",
       "latitude                         -0.035193            -0.036606   \n",
       "\n",
       "                           nombre_pieces_principales  surface_terrain  \\\n",
       "valeur_fonciere                            -0.005101         0.125885   \n",
       "surface_reelle_bati                         0.762907         0.055395   \n",
       "nombre_pieces_principales                   1.000000         0.019770   \n",
       "surface_terrain                             0.019770         1.000000   \n",
       "type_local_encoded                          0.378748        -0.025177   \n",
       "longitude                                  -0.036096        -0.001257   \n",
       "latitude                                    0.045846        -0.018876   \n",
       "\n",
       "                           type_local_encoded  longitude  latitude  \n",
       "valeur_fonciere                     -0.272653   0.088359 -0.035193  \n",
       "surface_reelle_bati                  0.346472  -0.017826 -0.036606  \n",
       "nombre_pieces_principales            0.378748  -0.036096  0.045846  \n",
       "surface_terrain                     -0.025177  -0.001257 -0.018876  \n",
       "type_local_encoded                   1.000000  -0.135025  0.036722  \n",
       "longitude                           -0.135025   1.000000 -0.196716  \n",
       "latitude                             0.036722  -0.196716  1.000000  "
      ]
     },
     "execution_count": 18,
     "metadata": {},
     "output_type": "execute_result"
    }
   ],
   "source": [
    "dvf_corr = dvf[['valeur_fonciere','code_postal', 'surface_reelle_bati', 'nombre_pieces_principales','surface_terrain', 'type_local_encoded', 'longitude', 'latitude']].dropna().corr(numeric_only=True)  # supprime les valeur manquant et calcule la matrice de correlation\n",
    "\n",
    "dvf_corr\n"
   ]
  },
  {
   "cell_type": "markdown",
   "id": "89bf4f82",
   "metadata": {},
   "source": [
    "Sur cette matrice de correlation (on cherche les données les plus correlés aux valeurs foncieres), la donnée qui semble etre le plus correlé au prix est le type d'habitation (bien que ca reste une faible correlation a -0.27). Les autres données ont une correlation bien trop faible qu'elles en deviennent negligeable."
   ]
  },
  {
   "cell_type": "code",
   "execution_count": 19,
   "id": "9e0516bb",
   "metadata": {},
   "outputs": [
    {
     "data": {
      "text/html": [
       "<div>\n",
       "<style scoped>\n",
       "    .dataframe tbody tr th:only-of-type {\n",
       "        vertical-align: middle;\n",
       "    }\n",
       "\n",
       "    .dataframe tbody tr th {\n",
       "        vertical-align: top;\n",
       "    }\n",
       "\n",
       "    .dataframe thead th {\n",
       "        text-align: right;\n",
       "    }\n",
       "</style>\n",
       "<table border=\"1\" class=\"dataframe\">\n",
       "  <thead>\n",
       "    <tr style=\"text-align: right;\">\n",
       "      <th></th>\n",
       "      <th>valeur_fonciere</th>\n",
       "      <th>surface_reelle_bati</th>\n",
       "      <th>nombre_pieces_principales</th>\n",
       "      <th>surface_terrain</th>\n",
       "      <th>type_local_encoded</th>\n",
       "      <th>longitude</th>\n",
       "      <th>latitude</th>\n",
       "    </tr>\n",
       "  </thead>\n",
       "  <tbody>\n",
       "    <tr>\n",
       "      <th>valeur_fonciere</th>\n",
       "      <td>1.000000</td>\n",
       "      <td>0.278397</td>\n",
       "      <td>0.222784</td>\n",
       "      <td>0.237819</td>\n",
       "      <td>-0.168407</td>\n",
       "      <td>0.076845</td>\n",
       "      <td>-0.103693</td>\n",
       "    </tr>\n",
       "    <tr>\n",
       "      <th>surface_reelle_bati</th>\n",
       "      <td>0.278397</td>\n",
       "      <td>1.000000</td>\n",
       "      <td>0.791092</td>\n",
       "      <td>0.303503</td>\n",
       "      <td>0.415089</td>\n",
       "      <td>-0.036391</td>\n",
       "      <td>-0.032916</td>\n",
       "    </tr>\n",
       "    <tr>\n",
       "      <th>nombre_pieces_principales</th>\n",
       "      <td>0.222784</td>\n",
       "      <td>0.791092</td>\n",
       "      <td>1.000000</td>\n",
       "      <td>0.223554</td>\n",
       "      <td>0.398806</td>\n",
       "      <td>-0.038457</td>\n",
       "      <td>0.052064</td>\n",
       "    </tr>\n",
       "    <tr>\n",
       "      <th>surface_terrain</th>\n",
       "      <td>0.237819</td>\n",
       "      <td>0.303503</td>\n",
       "      <td>0.223554</td>\n",
       "      <td>1.000000</td>\n",
       "      <td>0.110379</td>\n",
       "      <td>-0.050965</td>\n",
       "      <td>-0.063921</td>\n",
       "    </tr>\n",
       "    <tr>\n",
       "      <th>type_local_encoded</th>\n",
       "      <td>-0.168407</td>\n",
       "      <td>0.415089</td>\n",
       "      <td>0.398806</td>\n",
       "      <td>0.110379</td>\n",
       "      <td>1.000000</td>\n",
       "      <td>-0.136729</td>\n",
       "      <td>0.033559</td>\n",
       "    </tr>\n",
       "    <tr>\n",
       "      <th>longitude</th>\n",
       "      <td>0.076845</td>\n",
       "      <td>-0.036391</td>\n",
       "      <td>-0.038457</td>\n",
       "      <td>-0.050965</td>\n",
       "      <td>-0.136729</td>\n",
       "      <td>1.000000</td>\n",
       "      <td>-0.155518</td>\n",
       "    </tr>\n",
       "    <tr>\n",
       "      <th>latitude</th>\n",
       "      <td>-0.103693</td>\n",
       "      <td>-0.032916</td>\n",
       "      <td>0.052064</td>\n",
       "      <td>-0.063921</td>\n",
       "      <td>0.033559</td>\n",
       "      <td>-0.155518</td>\n",
       "      <td>1.000000</td>\n",
       "    </tr>\n",
       "  </tbody>\n",
       "</table>\n",
       "</div>"
      ],
      "text/plain": [
       "                           valeur_fonciere  surface_reelle_bati  \\\n",
       "valeur_fonciere                   1.000000             0.278397   \n",
       "surface_reelle_bati               0.278397             1.000000   \n",
       "nombre_pieces_principales         0.222784             0.791092   \n",
       "surface_terrain                   0.237819             0.303503   \n",
       "type_local_encoded               -0.168407             0.415089   \n",
       "longitude                         0.076845            -0.036391   \n",
       "latitude                         -0.103693            -0.032916   \n",
       "\n",
       "                           nombre_pieces_principales  surface_terrain  \\\n",
       "valeur_fonciere                             0.222784         0.237819   \n",
       "surface_reelle_bati                         0.791092         0.303503   \n",
       "nombre_pieces_principales                   1.000000         0.223554   \n",
       "surface_terrain                             0.223554         1.000000   \n",
       "type_local_encoded                          0.398806         0.110379   \n",
       "longitude                                  -0.038457        -0.050965   \n",
       "latitude                                    0.052064        -0.063921   \n",
       "\n",
       "                           type_local_encoded  longitude  latitude  \n",
       "valeur_fonciere                     -0.168407   0.076845 -0.103693  \n",
       "surface_reelle_bati                  0.415089  -0.036391 -0.032916  \n",
       "nombre_pieces_principales            0.398806  -0.038457  0.052064  \n",
       "surface_terrain                      0.110379  -0.050965 -0.063921  \n",
       "type_local_encoded                   1.000000  -0.136729  0.033559  \n",
       "longitude                           -0.136729   1.000000 -0.155518  \n",
       "latitude                             0.033559  -0.155518  1.000000  "
      ]
     },
     "execution_count": 19,
     "metadata": {},
     "output_type": "execute_result"
    }
   ],
   "source": [
    "dvf_corr = dvf[['valeur_fonciere','code_postal', 'surface_reelle_bati', 'nombre_pieces_principales','surface_terrain', 'type_local_encoded', 'longitude', 'latitude']].dropna().corr(numeric_only=True, method='spearman')  # supprime les valeur manquant et calcule la matrice de correlation\n",
    "\n",
    "\n",
    "dvf_corr"
   ]
  },
  {
   "cell_type": "markdown",
   "id": "7e79383a",
   "metadata": {},
   "source": [
    "En changeant le modele de correlation, la surface reelle bati, le nombre de pieces principales et la surface du terrain prennent un peu d'importance mais reste des correlation faible (et logique, un appartement plus grand avec plus de pieces est naturellement plus couteux si les autres données sont similaire).\n",
    "\n",
    "\n",
    "Pour resumer la valeur fonciere n'est pas lié a une donné en particulier mais plus ou moins a l'ensemble des données representant un bien. Par exemple la longitude et la latitude seul n'ont aucun impact sur le prix mais reunis (coordonnées donc departement), ont obtient un liens un plus plus solide et ainsi de suite plus ont ajoute de precision sur le bien."
   ]
  },
  {
   "cell_type": "code",
   "execution_count": null,
   "id": "80c29083",
   "metadata": {},
   "outputs": [],
   "source": []
  },
  {
   "cell_type": "code",
   "execution_count": 41,
   "id": "0741e3b1",
   "metadata": {},
   "outputs": [
    {
     "data": {
      "image/png": "[encoded data removed]",
      "text/plain": [
       "<Figure size 640x480 with 1 Axes>"
      ]
     },
     "metadata": {},
     "output_type": "display_data"
    }
   ],
   "source": [
    "fig, ax = plt.subplots()\n",
    "dataframe = dvf.loc[dvf['valeur_fonciere'] >= 3_000_000]\n",
    "z = ax.scatter(data = dataframe, \n",
    "               x='longitude', y='latitude', \n",
    "               alpha=0.5)\n",
    "\n",
    "ax.set(title='Prix immobilier France', xlabel='longitude', ylabel='latitude')\n",
    "plt.show()"
   ]
  },
  {
   "cell_type": "markdown",
   "id": "1b0be4f3",
   "metadata": {},
   "source": [
    "On peut observer que la plupart des logements a plus de 3_000_000 € sont situés en Ile de france et sur les litoraux (surtout Sud-Est)."
   ]
  },
  {
   "cell_type": "code",
   "execution_count": 20,
   "id": "853c581b",
   "metadata": {},
   "outputs": [],
   "source": [
    "dvf['prix_m2'] = dvf['valeur_fonciere'] / dvf['surface_reelle_bati']"
   ]
  },
  {
   "cell_type": "code",
   "execution_count": 21,
   "id": "2d57105f",
   "metadata": {},
   "outputs": [],
   "source": [
    "first_dep = avg_dep.index(avg_dep_sorted[0])+1"
   ]
  },
  {
   "cell_type": "code",
   "execution_count": 22,
   "id": "f64ef57d",
   "metadata": {},
   "outputs": [
    {
     "name": "stdout",
     "output_type": "stream",
     "text": [
      "25008.899923838373\n",
      "7843.137254901961\n"
     ]
    }
   ],
   "source": [
    "transact = dvf['prix_m2'].loc[dvf['code_departement'] == str(first_dep)]\n",
    "print(transact.mean())\n",
    "print(transact.median())"
   ]
  },
  {
   "cell_type": "code",
   "execution_count": 45,
   "id": "48652086",
   "metadata": {},
   "outputs": [
    {
     "name": "stdout",
     "output_type": "stream",
     "text": [
      "Dans le 92 (departement avec le prix moyen de l'immobilier le plus chere en moyenne), le prix moyen par m² est de 25008.9€/m², la mediane est a 7843.14€\n"
     ]
    }
   ],
   "source": [
    "print(f\"Dans le {avg_dep.index(avg_dep_sorted[0]) + 1} (departement avec le prix moyen de l'immobilier le plus chere en moyenne), le prix moyen par m² est de {round(transact.mean(), 2)}€/m², la mediane est a {round(transact.median(), 2)}€\")"
   ]
  },
  {
   "cell_type": "code",
   "execution_count": 46,
   "id": "539a757c",
   "metadata": {},
   "outputs": [
    {
     "name": "stdout",
     "output_type": "stream",
     "text": [
      "26328.041359281884\n",
      "10750.0\n"
     ]
    }
   ],
   "source": [
    "transact = dvf['prix_m2'].loc[dvf['code_departement'] == '75']\n",
    "print(transact.mean())\n",
    "print(transact.median())"
   ]
  },
  {
   "cell_type": "code",
   "execution_count": 47,
   "id": "06bcd110",
   "metadata": {},
   "outputs": [
    {
     "name": "stdout",
     "output_type": "stream",
     "text": [
      "Dans le 75, le prix moyen par m² est de 26328.04€/m², la mediane est a 10750.0€\n"
     ]
    }
   ],
   "source": [
    "print(f\"Dans le 75, le prix moyen par m² est de {round(transact.mean(), 2)}€/m², la mediane est a {round(transact.median(), 2)}€\")"
   ]
  },
  {
   "cell_type": "code",
   "execution_count": 48,
   "id": "874017e0",
   "metadata": {},
   "outputs": [
    {
     "name": "stdout",
     "output_type": "stream",
     "text": [
      "Prix moyen m² logement avec terrain dans les Hauts de Seine (92) : 36749€\n",
      "Prix moyen m² logement sans terrain dans les Hauts de Seine (92) : 19524€\n",
      "Surcoût moyen pour un terrain dans les Hauts de Seine (92) : 17225€\n",
      "\n",
      "Prix moyen m² logement avec terrain dans Paris (75) : 137491€\n",
      "Prix moyen m² logement sans terrain dans Paris (75): 14163€\n",
      "Surcoût moyen pour un terrain dans Paris (75) : 123328€\n"
     ]
    }
   ],
   "source": [
    "terrain_first = dvf[(dvf['surface_terrain'].notna()) & (dvf['code_departement'] == str(first_dep))]['prix_m2'].describe()\n",
    "print(f\"Prix moyen m² logement avec terrain dans les Hauts de Seine (92) : {int(terrain_first['mean'])}€\")\n",
    "\n",
    "not_terrain_first = dvf[(dvf['surface_terrain'].isna()) & (dvf['code_departement'] == str(first_dep))]['prix_m2'].describe()\n",
    "print(f\"Prix moyen m² logement sans terrain dans les Hauts de Seine (92) : {int(not_terrain_first['mean'])}€\")\n",
    "\n",
    "print(f\"Surcoût moyen pour un terrain dans les Hauts de Seine (92) : {int(terrain_first['mean']) - int(not_terrain_first['mean'])}€\")\n",
    "print()\n",
    "\n",
    "terrain_Paris = dvf[(dvf['surface_terrain'].notna()) & (dvf['code_departement'] == '75')]['prix_m2'].describe()\n",
    "print(f\"Prix moyen m² logement avec terrain dans Paris (75) : {int(terrain_Paris['mean'])}€\")\n",
    "\n",
    "not_terrain_Paris = dvf[(dvf['surface_terrain'].isna()) & (dvf['code_departement'] == '75')]['prix_m2'].describe()\n",
    "print(f\"Prix moyen m² logement sans terrain dans Paris (75): {int(not_terrain_Paris['mean'])}€\")\n",
    "\n",
    "print(f\"Surcoût moyen pour un terrain dans Paris (75) : {int(terrain_Paris['mean']) - int(not_terrain_Paris['mean'])}€\")"
   ]
  },
  {
   "cell_type": "markdown",
   "id": "1e814fab",
   "metadata": {},
   "source": [
    "# 3. Méthodologie"
   ]
  },
  {
   "cell_type": "code",
   "execution_count": 37,
   "id": "ad6ee905",
   "metadata": {},
   "outputs": [],
   "source": [
    "dvf['date_mutation'] = pd.to_datetime(dvf['date_mutation'])\n",
    "dvf['date_numeric'] = (dvf['date_mutation'] - pd.Timestamp(\"1970-01-01\")) // pd.Timedelta('1D')  # converti les date en format numerique"
   ]
  },
  {
   "cell_type": "code",
   "execution_count": 38,
   "id": "76acab6c",
   "metadata": {},
   "outputs": [],
   "source": [
    "dvf.fillna(0, inplace=True)  # remplace les nan par des 0 \n",
    "X = dvf.drop(columns=['valeur_fonciere', 'date_mutation', 'type_local'])  # Recupere les données de la base sans les labels et valeur non numerique\n",
    "y = dvf['valeur_fonciere']"
   ]
  },
  {
   "cell_type": "markdown",
   "id": "16225a12",
   "metadata": {},
   "source": [
    "## LinearRegression :"
   ]
  },
  {
   "cell_type": "code",
   "execution_count": 39,
   "id": "8a4fd339",
   "metadata": {},
   "outputs": [],
   "source": [
    "from sklearn.model_selection import train_test_split\n",
    "from sklearn.linear_model import LinearRegression\n",
    "from sklearn.metrics import mean_squared_error\n",
    "\n",
    "X_train, X_test, y_train, y_test = train_test_split(X, y)"
   ]
  },
  {
   "cell_type": "code",
   "execution_count": 57,
   "id": "7a73fb08",
   "metadata": {},
   "outputs": [
    {
     "data": {
      "text/html": [
       "<style>#sk-container-id-2 {\n",
       "  /* Definition of color scheme common for light and dark mode */\n",
       "  --sklearn-color-text: #000;\n",
       "  --sklearn-color-text-muted: #666;\n",
       "  --sklearn-color-line: gray;\n",
       "  /* Definition of color scheme for unfitted estimators */\n",
       "  --sklearn-color-unfitted-level-0: #fff5e6;\n",
       "  --sklearn-color-unfitted-level-1: #f6e4d2;\n",
       "  --sklearn-color-unfitted-level-2: #ffe0b3;\n",
       "  --sklearn-color-unfitted-level-3: chocolate;\n",
       "  /* Definition of color scheme for fitted estimators */\n",
       "  --sklearn-color-fitted-level-0: #f0f8ff;\n",
       "  --sklearn-color-fitted-level-1: #d4ebff;\n",
       "  --sklearn-color-fitted-level-2: #b3dbfd;\n",
       "  --sklearn-color-fitted-level-3: cornflowerblue;\n",
       "\n",
       "  /* Specific color for light theme */\n",
       "  --sklearn-color-text-on-default-background: var(--sg-text-color, var(--theme-code-foreground, var(--jp-content-font-color1, black)));\n",
       "  --sklearn-color-background: var(--sg-background-color, var(--theme-background, var(--jp-layout-color0, white)));\n",
       "  --sklearn-color-border-box: var(--sg-text-color, var(--theme-code-foreground, var(--jp-content-font-color1, black)));\n",
       "  --sklearn-color-icon: #696969;\n",
       "\n",
       "  @media (prefers-color-scheme: dark) {\n",
       "    /* Redefinition of color scheme for dark theme */\n",
       "    --sklearn-color-text-on-default-background: var(--sg-text-color, var(--theme-code-foreground, var(--jp-content-font-color1, white)));\n",
       "    --sklearn-color-background: var(--sg-background-color, var(--theme-background, var(--jp-layout-color0, #111)));\n",
       "    --sklearn-color-border-box: var(--sg-text-color, var(--theme-code-foreground, var(--jp-content-font-color1, white)));\n",
       "    --sklearn-color-icon: #878787;\n",
       "  }\n",
       "}\n",
       "\n",
       "#sk-container-id-2 {\n",
       "  color: var(--sklearn-color-text);\n",
       "}\n",
       "\n",
       "#sk-container-id-2 pre {\n",
       "  padding: 0;\n",
       "}\n",
       "\n",
       "#sk-container-id-2 input.sk-hidden--visually {\n",
       "  border: 0;\n",
       "  clip: rect(1px 1px 1px 1px);\n",
       "  clip: rect(1px, 1px, 1px, 1px);\n",
       "  height: 1px;\n",
       "  margin: -1px;\n",
       "  overflow: hidden;\n",
       "  padding: 0;\n",
       "  position: absolute;\n",
       "  width: 1px;\n",
       "}\n",
       "\n",
       "#sk-container-id-2 div.sk-dashed-wrapped {\n",
       "  border: 1px dashed var(--sklearn-color-line);\n",
       "  margin: 0 0.4em 0.5em 0.4em;\n",
       "  box-sizing: border-box;\n",
       "  padding-bottom: 0.4em;\n",
       "  background-color: var(--sklearn-color-background);\n",
       "}\n",
       "\n",
       "#sk-container-id-2 div.sk-container {\n",
       "  /* jupyter's `normalize.less` sets `[hidden] { display: none; }`\n",
       "     but bootstrap.min.css set `[hidden] { display: none !important; }`\n",
       "     so we also need the `!important` here to be able to override the\n",
       "     default hidden behavior on the sphinx rendered scikit-learn.org.\n",
       "     See: https://github.com/scikit-learn/scikit-learn/issues/21755 */\n",
       "  display: inline-block !important;\n",
       "  position: relative;\n",
       "}\n",
       "\n",
       "#sk-container-id-2 div.sk-text-repr-fallback {\n",
       "  display: none;\n",
       "}\n",
       "\n",
       "div.sk-parallel-item,\n",
       "div.sk-serial,\n",
       "div.sk-item {\n",
       "  /* draw centered vertical line to link estimators */\n",
       "  background-image: linear-gradient(var(--sklearn-color-text-on-default-background), var(--sklearn-color-text-on-default-background));\n",
       "  background-size: 2px 100%;\n",
       "  background-repeat: no-repeat;\n",
       "  background-position: center center;\n",
       "}\n",
       "\n",
       "/* Parallel-specific style estimator block */\n",
       "\n",
       "#sk-container-id-2 div.sk-parallel-item::after {\n",
       "  content: \"\";\n",
       "  width: 100%;\n",
       "  border-bottom: 2px solid var(--sklearn-color-text-on-default-background);\n",
       "  flex-grow: 1;\n",
       "}\n",
       "\n",
       "#sk-container-id-2 div.sk-parallel {\n",
       "  display: flex;\n",
       "  align-items: stretch;\n",
       "  justify-content: center;\n",
       "  background-color: var(--sklearn-color-background);\n",
       "  position: relative;\n",
       "}\n",
       "\n",
       "#sk-container-id-2 div.sk-parallel-item {\n",
       "  display: flex;\n",
       "  flex-direction: column;\n",
       "}\n",
       "\n",
       "#sk-container-id-2 div.sk-parallel-item:first-child::after {\n",
       "  align-self: flex-end;\n",
       "  width: 50%;\n",
       "}\n",
       "\n",
       "#sk-container-id-2 div.sk-parallel-item:last-child::after {\n",
       "  align-self: flex-start;\n",
       "  width: 50%;\n",
       "}\n",
       "\n",
       "#sk-container-id-2 div.sk-parallel-item:only-child::after {\n",
       "  width: 0;\n",
       "}\n",
       "\n",
       "/* Serial-specific style estimator block */\n",
       "\n",
       "#sk-container-id-2 div.sk-serial {\n",
       "  display: flex;\n",
       "  flex-direction: column;\n",
       "  align-items: center;\n",
       "  background-color: var(--sklearn-color-background);\n",
       "  padding-right: 1em;\n",
       "  padding-left: 1em;\n",
       "}\n",
       "\n",
       "\n",
       "/* Toggleable style: style used for estimator/Pipeline/ColumnTransformer box that is\n",
       "clickable and can be expanded/collapsed.\n",
       "- Pipeline and ColumnTransformer use this feature and define the default style\n",
       "- Estimators will overwrite some part of the style using the `sk-estimator` class\n",
       "*/\n",
       "\n",
       "/* Pipeline and ColumnTransformer style (default) */\n",
       "\n",
       "#sk-container-id-2 div.sk-toggleable {\n",
       "  /* Default theme specific background. It is overwritten whether we have a\n",
       "  specific estimator or a Pipeline/ColumnTransformer */\n",
       "  background-color: var(--sklearn-color-background);\n",
       "}\n",
       "\n",
       "/* Toggleable label */\n",
       "#sk-container-id-2 label.sk-toggleable__label {\n",
       "  cursor: pointer;\n",
       "  display: flex;\n",
       "  width: 100%;\n",
       "  margin-bottom: 0;\n",
       "  padding: 0.5em;\n",
       "  box-sizing: border-box;\n",
       "  text-align: center;\n",
       "  align-items: start;\n",
       "  justify-content: space-between;\n",
       "  gap: 0.5em;\n",
       "}\n",
       "\n",
       "#sk-container-id-2 label.sk-toggleable__label .caption {\n",
       "  font-size: 0.6rem;\n",
       "  font-weight: lighter;\n",
       "  color: var(--sklearn-color-text-muted);\n",
       "}\n",
       "\n",
       "#sk-container-id-2 label.sk-toggleable__label-arrow:before {\n",
       "  /* Arrow on the left of the label */\n",
       "  content: \"▸\";\n",
       "  float: left;\n",
       "  margin-right: 0.25em;\n",
       "  color: var(--sklearn-color-icon);\n",
       "}\n",
       "\n",
       "#sk-container-id-2 label.sk-toggleable__label-arrow:hover:before {\n",
       "  color: var(--sklearn-color-text);\n",
       "}\n",
       "\n",
       "/* Toggleable content - dropdown */\n",
       "\n",
       "#sk-container-id-2 div.sk-toggleable__content {\n",
       "  max-height: 0;\n",
       "  max-width: 0;\n",
       "  overflow: hidden;\n",
       "  text-align: left;\n",
       "  /* unfitted */\n",
       "  background-color: var(--sklearn-color-unfitted-level-0);\n",
       "}\n",
       "\n",
       "#sk-container-id-2 div.sk-toggleable__content.fitted {\n",
       "  /* fitted */\n",
       "  background-color: var(--sklearn-color-fitted-level-0);\n",
       "}\n",
       "\n",
       "#sk-container-id-2 div.sk-toggleable__content pre {\n",
       "  margin: 0.2em;\n",
       "  border-radius: 0.25em;\n",
       "  color: var(--sklearn-color-text);\n",
       "  /* unfitted */\n",
       "  background-color: var(--sklearn-color-unfitted-level-0);\n",
       "}\n",
       "\n",
       "#sk-container-id-2 div.sk-toggleable__content.fitted pre {\n",
       "  /* unfitted */\n",
       "  background-color: var(--sklearn-color-fitted-level-0);\n",
       "}\n",
       "\n",
       "#sk-container-id-2 input.sk-toggleable__control:checked~div.sk-toggleable__content {\n",
       "  /* Expand drop-down */\n",
       "  max-height: 200px;\n",
       "  max-width: 100%;\n",
       "  overflow: auto;\n",
       "}\n",
       "\n",
       "#sk-container-id-2 input.sk-toggleable__control:checked~label.sk-toggleable__label-arrow:before {\n",
       "  content: \"▾\";\n",
       "}\n",
       "\n",
       "/* Pipeline/ColumnTransformer-specific style */\n",
       "\n",
       "#sk-container-id-2 div.sk-label input.sk-toggleable__control:checked~label.sk-toggleable__label {\n",
       "  color: var(--sklearn-color-text);\n",
       "  background-color: var(--sklearn-color-unfitted-level-2);\n",
       "}\n",
       "\n",
       "#sk-container-id-2 div.sk-label.fitted input.sk-toggleable__control:checked~label.sk-toggleable__label {\n",
       "  background-color: var(--sklearn-color-fitted-level-2);\n",
       "}\n",
       "\n",
       "/* Estimator-specific style */\n",
       "\n",
       "/* Colorize estimator box */\n",
       "#sk-container-id-2 div.sk-estimator input.sk-toggleable__control:checked~label.sk-toggleable__label {\n",
       "  /* unfitted */\n",
       "  background-color: var(--sklearn-color-unfitted-level-2);\n",
       "}\n",
       "\n",
       "#sk-container-id-2 div.sk-estimator.fitted input.sk-toggleable__control:checked~label.sk-toggleable__label {\n",
       "  /* fitted */\n",
       "  background-color: var(--sklearn-color-fitted-level-2);\n",
       "}\n",
       "\n",
       "#sk-container-id-2 div.sk-label label.sk-toggleable__label,\n",
       "#sk-container-id-2 div.sk-label label {\n",
       "  /* The background is the default theme color */\n",
       "  color: var(--sklearn-color-text-on-default-background);\n",
       "}\n",
       "\n",
       "/* On hover, darken the color of the background */\n",
       "#sk-container-id-2 div.sk-label:hover label.sk-toggleable__label {\n",
       "  color: var(--sklearn-color-text);\n",
       "  background-color: var(--sklearn-color-unfitted-level-2);\n",
       "}\n",
       "\n",
       "/* Label box, darken color on hover, fitted */\n",
       "#sk-container-id-2 div.sk-label.fitted:hover label.sk-toggleable__label.fitted {\n",
       "  color: var(--sklearn-color-text);\n",
       "  background-color: var(--sklearn-color-fitted-level-2);\n",
       "}\n",
       "\n",
       "/* Estimator label */\n",
       "\n",
       "#sk-container-id-2 div.sk-label label {\n",
       "  font-family: monospace;\n",
       "  font-weight: bold;\n",
       "  display: inline-block;\n",
       "  line-height: 1.2em;\n",
       "}\n",
       "\n",
       "#sk-container-id-2 div.sk-label-container {\n",
       "  text-align: center;\n",
       "}\n",
       "\n",
       "/* Estimator-specific */\n",
       "#sk-container-id-2 div.sk-estimator {\n",
       "  font-family: monospace;\n",
       "  border: 1px dotted var(--sklearn-color-border-box);\n",
       "  border-radius: 0.25em;\n",
       "  box-sizing: border-box;\n",
       "  margin-bottom: 0.5em;\n",
       "  /* unfitted */\n",
       "  background-color: var(--sklearn-color-unfitted-level-0);\n",
       "}\n",
       "\n",
       "#sk-container-id-2 div.sk-estimator.fitted {\n",
       "  /* fitted */\n",
       "  background-color: var(--sklearn-color-fitted-level-0);\n",
       "}\n",
       "\n",
       "/* on hover */\n",
       "#sk-container-id-2 div.sk-estimator:hover {\n",
       "  /* unfitted */\n",
       "  background-color: var(--sklearn-color-unfitted-level-2);\n",
       "}\n",
       "\n",
       "#sk-container-id-2 div.sk-estimator.fitted:hover {\n",
       "  /* fitted */\n",
       "  background-color: var(--sklearn-color-fitted-level-2);\n",
       "}\n",
       "\n",
       "/* Specification for estimator info (e.g. \"i\" and \"?\") */\n",
       "\n",
       "/* Common style for \"i\" and \"?\" */\n",
       "\n",
       ".sk-estimator-doc-link,\n",
       "a:link.sk-estimator-doc-link,\n",
       "a:visited.sk-estimator-doc-link {\n",
       "  float: right;\n",
       "  font-size: smaller;\n",
       "  line-height: 1em;\n",
       "  font-family: monospace;\n",
       "  background-color: var(--sklearn-color-background);\n",
       "  border-radius: 1em;\n",
       "  height: 1em;\n",
       "  width: 1em;\n",
       "  text-decoration: none !important;\n",
       "  margin-left: 0.5em;\n",
       "  text-align: center;\n",
       "  /* unfitted */\n",
       "  border: var(--sklearn-color-unfitted-level-1) 1pt solid;\n",
       "  color: var(--sklearn-color-unfitted-level-1);\n",
       "}\n",
       "\n",
       ".sk-estimator-doc-link.fitted,\n",
       "a:link.sk-estimator-doc-link.fitted,\n",
       "a:visited.sk-estimator-doc-link.fitted {\n",
       "  /* fitted */\n",
       "  border: var(--sklearn-color-fitted-level-1) 1pt solid;\n",
       "  color: var(--sklearn-color-fitted-level-1);\n",
       "}\n",
       "\n",
       "/* On hover */\n",
       "div.sk-estimator:hover .sk-estimator-doc-link:hover,\n",
       ".sk-estimator-doc-link:hover,\n",
       "div.sk-label-container:hover .sk-estimator-doc-link:hover,\n",
       ".sk-estimator-doc-link:hover {\n",
       "  /* unfitted */\n",
       "  background-color: var(--sklearn-color-unfitted-level-3);\n",
       "  color: var(--sklearn-color-background);\n",
       "  text-decoration: none;\n",
       "}\n",
       "\n",
       "div.sk-estimator.fitted:hover .sk-estimator-doc-link.fitted:hover,\n",
       ".sk-estimator-doc-link.fitted:hover,\n",
       "div.sk-label-container:hover .sk-estimator-doc-link.fitted:hover,\n",
       ".sk-estimator-doc-link.fitted:hover {\n",
       "  /* fitted */\n",
       "  background-color: var(--sklearn-color-fitted-level-3);\n",
       "  color: var(--sklearn-color-background);\n",
       "  text-decoration: none;\n",
       "}\n",
       "\n",
       "/* Span, style for the box shown on hovering the info icon */\n",
       ".sk-estimator-doc-link span {\n",
       "  display: none;\n",
       "  z-index: 9999;\n",
       "  position: relative;\n",
       "  font-weight: normal;\n",
       "  right: .2ex;\n",
       "  padding: .5ex;\n",
       "  margin: .5ex;\n",
       "  width: min-content;\n",
       "  min-width: 20ex;\n",
       "  max-width: 50ex;\n",
       "  color: var(--sklearn-color-text);\n",
       "  box-shadow: 2pt 2pt 4pt #999;\n",
       "  /* unfitted */\n",
       "  background: var(--sklearn-color-unfitted-level-0);\n",
       "  border: .5pt solid var(--sklearn-color-unfitted-level-3);\n",
       "}\n",
       "\n",
       ".sk-estimator-doc-link.fitted span {\n",
       "  /* fitted */\n",
       "  background: var(--sklearn-color-fitted-level-0);\n",
       "  border: var(--sklearn-color-fitted-level-3);\n",
       "}\n",
       "\n",
       ".sk-estimator-doc-link:hover span {\n",
       "  display: block;\n",
       "}\n",
       "\n",
       "/* \"?\"-specific style due to the `<a>` HTML tag */\n",
       "\n",
       "#sk-container-id-2 a.estimator_doc_link {\n",
       "  float: right;\n",
       "  font-size: 1rem;\n",
       "  line-height: 1em;\n",
       "  font-family: monospace;\n",
       "  background-color: var(--sklearn-color-background);\n",
       "  border-radius: 1rem;\n",
       "  height: 1rem;\n",
       "  width: 1rem;\n",
       "  text-decoration: none;\n",
       "  /* unfitted */\n",
       "  color: var(--sklearn-color-unfitted-level-1);\n",
       "  border: var(--sklearn-color-unfitted-level-1) 1pt solid;\n",
       "}\n",
       "\n",
       "#sk-container-id-2 a.estimator_doc_link.fitted {\n",
       "  /* fitted */\n",
       "  border: var(--sklearn-color-fitted-level-1) 1pt solid;\n",
       "  color: var(--sklearn-color-fitted-level-1);\n",
       "}\n",
       "\n",
       "/* On hover */\n",
       "#sk-container-id-2 a.estimator_doc_link:hover {\n",
       "  /* unfitted */\n",
       "  background-color: var(--sklearn-color-unfitted-level-3);\n",
       "  color: var(--sklearn-color-background);\n",
       "  text-decoration: none;\n",
       "}\n",
       "\n",
       "#sk-container-id-2 a.estimator_doc_link.fitted:hover {\n",
       "  /* fitted */\n",
       "  background-color: var(--sklearn-color-fitted-level-3);\n",
       "}\n",
       "</style><div id=\"sk-container-id-2\" class=\"sk-top-container\"><div class=\"sk-text-repr-fallback\"><pre>LinearRegression()</pre><b>In a Jupyter environment, please rerun this cell to show the HTML representation or trust the notebook. <br />On GitHub, the HTML representation is unable to render, please try loading this page with nbviewer.org.</b></div><div class=\"sk-container\" hidden><div class=\"sk-item\"><div class=\"sk-estimator fitted sk-toggleable\"><input class=\"sk-toggleable__control sk-hidden--visually\" id=\"sk-estimator-id-2\" type=\"checkbox\" checked><label for=\"sk-estimator-id-2\" class=\"sk-toggleable__label fitted sk-toggleable__label-arrow\"><div><div>LinearRegression</div></div><div><a class=\"sk-estimator-doc-link fitted\" rel=\"noreferrer\" target=\"_blank\" href=\"https://scikit-learn.org/1.6/modules/generated/sklearn.linear_model.LinearRegression.html\">?<span>Documentation for LinearRegression</span></a><span class=\"sk-estimator-doc-link fitted\">i<span>Fitted</span></span></div></label><div class=\"sk-toggleable__content fitted\"><pre>LinearRegression()</pre></div> </div></div></div></div>"
      ],
      "text/plain": [
       "LinearRegression()"
      ]
     },
     "execution_count": 57,
     "metadata": {},
     "output_type": "execute_result"
    }
   ],
   "source": [
    "model = LinearRegression()\n",
    "model.fit(X, y)"
   ]
  },
  {
   "cell_type": "code",
   "execution_count": 58,
   "id": "56d17870",
   "metadata": {},
   "outputs": [
    {
     "data": {
      "text/plain": [
       "235317056299.68204"
      ]
     },
     "execution_count": 58,
     "metadata": {},
     "output_type": "execute_result"
    }
   ],
   "source": [
    "y_pred = model.predict(X_test)\n",
    "mse = mean_squared_error(y_pred, y_test)\n",
    "mse"
   ]
  },
  {
   "cell_type": "markdown",
   "id": "a8d463f5",
   "metadata": {},
   "source": [
    "Une MSE de 194 milliards est vraiment catastrophique, le modele est totalement hors sujet avec cette base de donnée."
   ]
  },
  {
   "cell_type": "code",
   "execution_count": 28,
   "id": "54e75fe0",
   "metadata": {},
   "outputs": [],
   "source": [
    "def accuracy(y_pred, y_test, tolerance = 1000):\n",
    "    return np.mean((y_pred <= y_test + tolerance) & (y_pred >= y_test - tolerance))*100"
   ]
  },
  {
   "cell_type": "code",
   "execution_count": 29,
   "id": "6d9a0a09",
   "metadata": {},
   "outputs": [],
   "source": [
    "def test_model(model, loop = 5, test = True, tolerance = 1000):\n",
    "    sum = 0\n",
    "    for i in range(loop):\n",
    "        X_train, X_test, y_train, y_test = train_test_split(X, y)\n",
    "        m =model.fit(X_train, y_train)\n",
    "        if test : \n",
    "            y_pred = m.predict(X_test)\n",
    "            sum += accuracy(y_pred, y_test, tolerance)\n",
    "        else :\n",
    "            y_pred = m.predict(X_train)\n",
    "            sum += accuracy(y_pred, y_train, tolerance)\n",
    "        \n",
    "    return round(sum /loop, 2)"
   ]
  },
  {
   "cell_type": "code",
   "execution_count": 61,
   "id": "b66b3209",
   "metadata": {},
   "outputs": [
    {
     "data": {
      "text/plain": [
       "np.float64(0.63)"
      ]
     },
     "execution_count": 61,
     "metadata": {},
     "output_type": "execute_result"
    }
   ],
   "source": [
    "test_model(LinearRegression())"
   ]
  },
  {
   "cell_type": "markdown",
   "id": "a00f026d",
   "metadata": {},
   "source": [
    "Avec une tolerance a 1000€ pres, le model a une prediction de 0.57%, ce qui est catastrophique et rejoind l'idee de la mse. "
   ]
  },
  {
   "cell_type": "code",
   "execution_count": null,
   "id": "6b189560",
   "metadata": {},
   "outputs": [],
   "source": []
  },
  {
   "cell_type": "markdown",
   "id": "eb59d064",
   "metadata": {},
   "source": [
    "## RandomForestRegressor :"
   ]
  },
  {
   "cell_type": "code",
   "execution_count": 40,
   "id": "5004c464",
   "metadata": {},
   "outputs": [],
   "source": [
    "from sklearn.ensemble import RandomForestRegressor"
   ]
  },
  {
   "cell_type": "code",
   "execution_count": null,
   "id": "65374da4",
   "metadata": {},
   "outputs": [],
   "source": []
  },
  {
   "cell_type": "code",
   "execution_count": 80,
   "id": "11a565e0",
   "metadata": {},
   "outputs": [
    {
     "data": {
      "text/html": [
       "<style>#sk-container-id-2 {\n",
       "  /* Definition of color scheme common for light and dark mode */\n",
       "  --sklearn-color-text: #000;\n",
       "  --sklearn-color-text-muted: #666;\n",
       "  --sklearn-color-line: gray;\n",
       "  /* Definition of color scheme for unfitted estimators */\n",
       "  --sklearn-color-unfitted-level-0: #fff5e6;\n",
       "  --sklearn-color-unfitted-level-1: #f6e4d2;\n",
       "  --sklearn-color-unfitted-level-2: #ffe0b3;\n",
       "  --sklearn-color-unfitted-level-3: chocolate;\n",
       "  /* Definition of color scheme for fitted estimators */\n",
       "  --sklearn-color-fitted-level-0: #f0f8ff;\n",
       "  --sklearn-color-fitted-level-1: #d4ebff;\n",
       "  --sklearn-color-fitted-level-2: #b3dbfd;\n",
       "  --sklearn-color-fitted-level-3: cornflowerblue;\n",
       "\n",
       "  /* Specific color for light theme */\n",
       "  --sklearn-color-text-on-default-background: var(--sg-text-color, var(--theme-code-foreground, var(--jp-content-font-color1, black)));\n",
       "  --sklearn-color-background: var(--sg-background-color, var(--theme-background, var(--jp-layout-color0, white)));\n",
       "  --sklearn-color-border-box: var(--sg-text-color, var(--theme-code-foreground, var(--jp-content-font-color1, black)));\n",
       "  --sklearn-color-icon: #696969;\n",
       "\n",
       "  @media (prefers-color-scheme: dark) {\n",
       "    /* Redefinition of color scheme for dark theme */\n",
       "    --sklearn-color-text-on-default-background: var(--sg-text-color, var(--theme-code-foreground, var(--jp-content-font-color1, white)));\n",
       "    --sklearn-color-background: var(--sg-background-color, var(--theme-background, var(--jp-layout-color0, #111)));\n",
       "    --sklearn-color-border-box: var(--sg-text-color, var(--theme-code-foreground, var(--jp-content-font-color1, white)));\n",
       "    --sklearn-color-icon: #878787;\n",
       "  }\n",
       "}\n",
       "\n",
       "#sk-container-id-2 {\n",
       "  color: var(--sklearn-color-text);\n",
       "}\n",
       "\n",
       "#sk-container-id-2 pre {\n",
       "  padding: 0;\n",
       "}\n",
       "\n",
       "#sk-container-id-2 input.sk-hidden--visually {\n",
       "  border: 0;\n",
       "  clip: rect(1px 1px 1px 1px);\n",
       "  clip: rect(1px, 1px, 1px, 1px);\n",
       "  height: 1px;\n",
       "  margin: -1px;\n",
       "  overflow: hidden;\n",
       "  padding: 0;\n",
       "  position: absolute;\n",
       "  width: 1px;\n",
       "}\n",
       "\n",
       "#sk-container-id-2 div.sk-dashed-wrapped {\n",
       "  border: 1px dashed var(--sklearn-color-line);\n",
       "  margin: 0 0.4em 0.5em 0.4em;\n",
       "  box-sizing: border-box;\n",
       "  padding-bottom: 0.4em;\n",
       "  background-color: var(--sklearn-color-background);\n",
       "}\n",
       "\n",
       "#sk-container-id-2 div.sk-container {\n",
       "  /* jupyter's `normalize.less` sets `[hidden] { display: none; }`\n",
       "     but bootstrap.min.css set `[hidden] { display: none !important; }`\n",
       "     so we also need the `!important` here to be able to override the\n",
       "     default hidden behavior on the sphinx rendered scikit-learn.org.\n",
       "     See: https://github.com/scikit-learn/scikit-learn/issues/21755 */\n",
       "  display: inline-block !important;\n",
       "  position: relative;\n",
       "}\n",
       "\n",
       "#sk-container-id-2 div.sk-text-repr-fallback {\n",
       "  display: none;\n",
       "}\n",
       "\n",
       "div.sk-parallel-item,\n",
       "div.sk-serial,\n",
       "div.sk-item {\n",
       "  /* draw centered vertical line to link estimators */\n",
       "  background-image: linear-gradient(var(--sklearn-color-text-on-default-background), var(--sklearn-color-text-on-default-background));\n",
       "  background-size: 2px 100%;\n",
       "  background-repeat: no-repeat;\n",
       "  background-position: center center;\n",
       "}\n",
       "\n",
       "/* Parallel-specific style estimator block */\n",
       "\n",
       "#sk-container-id-2 div.sk-parallel-item::after {\n",
       "  content: \"\";\n",
       "  width: 100%;\n",
       "  border-bottom: 2px solid var(--sklearn-color-text-on-default-background);\n",
       "  flex-grow: 1;\n",
       "}\n",
       "\n",
       "#sk-container-id-2 div.sk-parallel {\n",
       "  display: flex;\n",
       "  align-items: stretch;\n",
       "  justify-content: center;\n",
       "  background-color: var(--sklearn-color-background);\n",
       "  position: relative;\n",
       "}\n",
       "\n",
       "#sk-container-id-2 div.sk-parallel-item {\n",
       "  display: flex;\n",
       "  flex-direction: column;\n",
       "}\n",
       "\n",
       "#sk-container-id-2 div.sk-parallel-item:first-child::after {\n",
       "  align-self: flex-end;\n",
       "  width: 50%;\n",
       "}\n",
       "\n",
       "#sk-container-id-2 div.sk-parallel-item:last-child::after {\n",
       "  align-self: flex-start;\n",
       "  width: 50%;\n",
       "}\n",
       "\n",
       "#sk-container-id-2 div.sk-parallel-item:only-child::after {\n",
       "  width: 0;\n",
       "}\n",
       "\n",
       "/* Serial-specific style estimator block */\n",
       "\n",
       "#sk-container-id-2 div.sk-serial {\n",
       "  display: flex;\n",
       "  flex-direction: column;\n",
       "  align-items: center;\n",
       "  background-color: var(--sklearn-color-background);\n",
       "  padding-right: 1em;\n",
       "  padding-left: 1em;\n",
       "}\n",
       "\n",
       "\n",
       "/* Toggleable style: style used for estimator/Pipeline/ColumnTransformer box that is\n",
       "clickable and can be expanded/collapsed.\n",
       "- Pipeline and ColumnTransformer use this feature and define the default style\n",
       "- Estimators will overwrite some part of the style using the `sk-estimator` class\n",
       "*/\n",
       "\n",
       "/* Pipeline and ColumnTransformer style (default) */\n",
       "\n",
       "#sk-container-id-2 div.sk-toggleable {\n",
       "  /* Default theme specific background. It is overwritten whether we have a\n",
       "  specific estimator or a Pipeline/ColumnTransformer */\n",
       "  background-color: var(--sklearn-color-background);\n",
       "}\n",
       "\n",
       "/* Toggleable label */\n",
       "#sk-container-id-2 label.sk-toggleable__label {\n",
       "  cursor: pointer;\n",
       "  display: flex;\n",
       "  width: 100%;\n",
       "  margin-bottom: 0;\n",
       "  padding: 0.5em;\n",
       "  box-sizing: border-box;\n",
       "  text-align: center;\n",
       "  align-items: start;\n",
       "  justify-content: space-between;\n",
       "  gap: 0.5em;\n",
       "}\n",
       "\n",
       "#sk-container-id-2 label.sk-toggleable__label .caption {\n",
       "  font-size: 0.6rem;\n",
       "  font-weight: lighter;\n",
       "  color: var(--sklearn-color-text-muted);\n",
       "}\n",
       "\n",
       "#sk-container-id-2 label.sk-toggleable__label-arrow:before {\n",
       "  /* Arrow on the left of the label */\n",
       "  content: \"▸\";\n",
       "  float: left;\n",
       "  margin-right: 0.25em;\n",
       "  color: var(--sklearn-color-icon);\n",
       "}\n",
       "\n",
       "#sk-container-id-2 label.sk-toggleable__label-arrow:hover:before {\n",
       "  color: var(--sklearn-color-text);\n",
       "}\n",
       "\n",
       "/* Toggleable content - dropdown */\n",
       "\n",
       "#sk-container-id-2 div.sk-toggleable__content {\n",
       "  max-height: 0;\n",
       "  max-width: 0;\n",
       "  overflow: hidden;\n",
       "  text-align: left;\n",
       "  /* unfitted */\n",
       "  background-color: var(--sklearn-color-unfitted-level-0);\n",
       "}\n",
       "\n",
       "#sk-container-id-2 div.sk-toggleable__content.fitted {\n",
       "  /* fitted */\n",
       "  background-color: var(--sklearn-color-fitted-level-0);\n",
       "}\n",
       "\n",
       "#sk-container-id-2 div.sk-toggleable__content pre {\n",
       "  margin: 0.2em;\n",
       "  border-radius: 0.25em;\n",
       "  color: var(--sklearn-color-text);\n",
       "  /* unfitted */\n",
       "  background-color: var(--sklearn-color-unfitted-level-0);\n",
       "}\n",
       "\n",
       "#sk-container-id-2 div.sk-toggleable__content.fitted pre {\n",
       "  /* unfitted */\n",
       "  background-color: var(--sklearn-color-fitted-level-0);\n",
       "}\n",
       "\n",
       "#sk-container-id-2 input.sk-toggleable__control:checked~div.sk-toggleable__content {\n",
       "  /* Expand drop-down */\n",
       "  max-height: 200px;\n",
       "  max-width: 100%;\n",
       "  overflow: auto;\n",
       "}\n",
       "\n",
       "#sk-container-id-2 input.sk-toggleable__control:checked~label.sk-toggleable__label-arrow:before {\n",
       "  content: \"▾\";\n",
       "}\n",
       "\n",
       "/* Pipeline/ColumnTransformer-specific style */\n",
       "\n",
       "#sk-container-id-2 div.sk-label input.sk-toggleable__control:checked~label.sk-toggleable__label {\n",
       "  color: var(--sklearn-color-text);\n",
       "  background-color: var(--sklearn-color-unfitted-level-2);\n",
       "}\n",
       "\n",
       "#sk-container-id-2 div.sk-label.fitted input.sk-toggleable__control:checked~label.sk-toggleable__label {\n",
       "  background-color: var(--sklearn-color-fitted-level-2);\n",
       "}\n",
       "\n",
       "/* Estimator-specific style */\n",
       "\n",
       "/* Colorize estimator box */\n",
       "#sk-container-id-2 div.sk-estimator input.sk-toggleable__control:checked~label.sk-toggleable__label {\n",
       "  /* unfitted */\n",
       "  background-color: var(--sklearn-color-unfitted-level-2);\n",
       "}\n",
       "\n",
       "#sk-container-id-2 div.sk-estimator.fitted input.sk-toggleable__control:checked~label.sk-toggleable__label {\n",
       "  /* fitted */\n",
       "  background-color: var(--sklearn-color-fitted-level-2);\n",
       "}\n",
       "\n",
       "#sk-container-id-2 div.sk-label label.sk-toggleable__label,\n",
       "#sk-container-id-2 div.sk-label label {\n",
       "  /* The background is the default theme color */\n",
       "  color: var(--sklearn-color-text-on-default-background);\n",
       "}\n",
       "\n",
       "/* On hover, darken the color of the background */\n",
       "#sk-container-id-2 div.sk-label:hover label.sk-toggleable__label {\n",
       "  color: var(--sklearn-color-text);\n",
       "  background-color: var(--sklearn-color-unfitted-level-2);\n",
       "}\n",
       "\n",
       "/* Label box, darken color on hover, fitted */\n",
       "#sk-container-id-2 div.sk-label.fitted:hover label.sk-toggleable__label.fitted {\n",
       "  color: var(--sklearn-color-text);\n",
       "  background-color: var(--sklearn-color-fitted-level-2);\n",
       "}\n",
       "\n",
       "/* Estimator label */\n",
       "\n",
       "#sk-container-id-2 div.sk-label label {\n",
       "  font-family: monospace;\n",
       "  font-weight: bold;\n",
       "  display: inline-block;\n",
       "  line-height: 1.2em;\n",
       "}\n",
       "\n",
       "#sk-container-id-2 div.sk-label-container {\n",
       "  text-align: center;\n",
       "}\n",
       "\n",
       "/* Estimator-specific */\n",
       "#sk-container-id-2 div.sk-estimator {\n",
       "  font-family: monospace;\n",
       "  border: 1px dotted var(--sklearn-color-border-box);\n",
       "  border-radius: 0.25em;\n",
       "  box-sizing: border-box;\n",
       "  margin-bottom: 0.5em;\n",
       "  /* unfitted */\n",
       "  background-color: var(--sklearn-color-unfitted-level-0);\n",
       "}\n",
       "\n",
       "#sk-container-id-2 div.sk-estimator.fitted {\n",
       "  /* fitted */\n",
       "  background-color: var(--sklearn-color-fitted-level-0);\n",
       "}\n",
       "\n",
       "/* on hover */\n",
       "#sk-container-id-2 div.sk-estimator:hover {\n",
       "  /* unfitted */\n",
       "  background-color: var(--sklearn-color-unfitted-level-2);\n",
       "}\n",
       "\n",
       "#sk-container-id-2 div.sk-estimator.fitted:hover {\n",
       "  /* fitted */\n",
       "  background-color: var(--sklearn-color-fitted-level-2);\n",
       "}\n",
       "\n",
       "/* Specification for estimator info (e.g. \"i\" and \"?\") */\n",
       "\n",
       "/* Common style for \"i\" and \"?\" */\n",
       "\n",
       ".sk-estimator-doc-link,\n",
       "a:link.sk-estimator-doc-link,\n",
       "a:visited.sk-estimator-doc-link {\n",
       "  float: right;\n",
       "  font-size: smaller;\n",
       "  line-height: 1em;\n",
       "  font-family: monospace;\n",
       "  background-color: var(--sklearn-color-background);\n",
       "  border-radius: 1em;\n",
       "  height: 1em;\n",
       "  width: 1em;\n",
       "  text-decoration: none !important;\n",
       "  margin-left: 0.5em;\n",
       "  text-align: center;\n",
       "  /* unfitted */\n",
       "  border: var(--sklearn-color-unfitted-level-1) 1pt solid;\n",
       "  color: var(--sklearn-color-unfitted-level-1);\n",
       "}\n",
       "\n",
       ".sk-estimator-doc-link.fitted,\n",
       "a:link.sk-estimator-doc-link.fitted,\n",
       "a:visited.sk-estimator-doc-link.fitted {\n",
       "  /* fitted */\n",
       "  border: var(--sklearn-color-fitted-level-1) 1pt solid;\n",
       "  color: var(--sklearn-color-fitted-level-1);\n",
       "}\n",
       "\n",
       "/* On hover */\n",
       "div.sk-estimator:hover .sk-estimator-doc-link:hover,\n",
       ".sk-estimator-doc-link:hover,\n",
       "div.sk-label-container:hover .sk-estimator-doc-link:hover,\n",
       ".sk-estimator-doc-link:hover {\n",
       "  /* unfitted */\n",
       "  background-color: var(--sklearn-color-unfitted-level-3);\n",
       "  color: var(--sklearn-color-background);\n",
       "  text-decoration: none;\n",
       "}\n",
       "\n",
       "div.sk-estimator.fitted:hover .sk-estimator-doc-link.fitted:hover,\n",
       ".sk-estimator-doc-link.fitted:hover,\n",
       "div.sk-label-container:hover .sk-estimator-doc-link.fitted:hover,\n",
       ".sk-estimator-doc-link.fitted:hover {\n",
       "  /* fitted */\n",
       "  background-color: var(--sklearn-color-fitted-level-3);\n",
       "  color: var(--sklearn-color-background);\n",
       "  text-decoration: none;\n",
       "}\n",
       "\n",
       "/* Span, style for the box shown on hovering the info icon */\n",
       ".sk-estimator-doc-link span {\n",
       "  display: none;\n",
       "  z-index: 9999;\n",
       "  position: relative;\n",
       "  font-weight: normal;\n",
       "  right: .2ex;\n",
       "  padding: .5ex;\n",
       "  margin: .5ex;\n",
       "  width: min-content;\n",
       "  min-width: 20ex;\n",
       "  max-width: 50ex;\n",
       "  color: var(--sklearn-color-text);\n",
       "  box-shadow: 2pt 2pt 4pt #999;\n",
       "  /* unfitted */\n",
       "  background: var(--sklearn-color-unfitted-level-0);\n",
       "  border: .5pt solid var(--sklearn-color-unfitted-level-3);\n",
       "}\n",
       "\n",
       ".sk-estimator-doc-link.fitted span {\n",
       "  /* fitted */\n",
       "  background: var(--sklearn-color-fitted-level-0);\n",
       "  border: var(--sklearn-color-fitted-level-3);\n",
       "}\n",
       "\n",
       ".sk-estimator-doc-link:hover span {\n",
       "  display: block;\n",
       "}\n",
       "\n",
       "/* \"?\"-specific style due to the `<a>` HTML tag */\n",
       "\n",
       "#sk-container-id-2 a.estimator_doc_link {\n",
       "  float: right;\n",
       "  font-size: 1rem;\n",
       "  line-height: 1em;\n",
       "  font-family: monospace;\n",
       "  background-color: var(--sklearn-color-background);\n",
       "  border-radius: 1rem;\n",
       "  height: 1rem;\n",
       "  width: 1rem;\n",
       "  text-decoration: none;\n",
       "  /* unfitted */\n",
       "  color: var(--sklearn-color-unfitted-level-1);\n",
       "  border: var(--sklearn-color-unfitted-level-1) 1pt solid;\n",
       "}\n",
       "\n",
       "#sk-container-id-2 a.estimator_doc_link.fitted {\n",
       "  /* fitted */\n",
       "  border: var(--sklearn-color-fitted-level-1) 1pt solid;\n",
       "  color: var(--sklearn-color-fitted-level-1);\n",
       "}\n",
       "\n",
       "/* On hover */\n",
       "#sk-container-id-2 a.estimator_doc_link:hover {\n",
       "  /* unfitted */\n",
       "  background-color: var(--sklearn-color-unfitted-level-3);\n",
       "  color: var(--sklearn-color-background);\n",
       "  text-decoration: none;\n",
       "}\n",
       "\n",
       "#sk-container-id-2 a.estimator_doc_link.fitted:hover {\n",
       "  /* fitted */\n",
       "  background-color: var(--sklearn-color-fitted-level-3);\n",
       "}\n",
       "</style><div id=\"sk-container-id-2\" class=\"sk-top-container\"><div class=\"sk-text-repr-fallback\"><pre>RandomForestRegressor(n_estimators=10)</pre><b>In a Jupyter environment, please rerun this cell to show the HTML representation or trust the notebook. <br />On GitHub, the HTML representation is unable to render, please try loading this page with nbviewer.org.</b></div><div class=\"sk-container\" hidden><div class=\"sk-item\"><div class=\"sk-estimator fitted sk-toggleable\"><input class=\"sk-toggleable__control sk-hidden--visually\" id=\"sk-estimator-id-2\" type=\"checkbox\" checked><label for=\"sk-estimator-id-2\" class=\"sk-toggleable__label fitted sk-toggleable__label-arrow\"><div><div>RandomForestRegressor</div></div><div><a class=\"sk-estimator-doc-link fitted\" rel=\"noreferrer\" target=\"_blank\" href=\"https://scikit-learn.org/1.6/modules/generated/sklearn.ensemble.RandomForestRegressor.html\">?<span>Documentation for RandomForestRegressor</span></a><span class=\"sk-estimator-doc-link fitted\">i<span>Fitted</span></span></div></label><div class=\"sk-toggleable__content fitted\"><pre>RandomForestRegressor(n_estimators=10)</pre></div> </div></div></div></div>"
      ],
      "text/plain": [
       "RandomForestRegressor(n_estimators=10)"
      ]
     },
     "execution_count": 80,
     "metadata": {},
     "output_type": "execute_result"
    }
   ],
   "source": [
    "X_train, X_test, y_train, y_test = train_test_split(X, y)\n",
    "model = RandomForestRegressor(n_estimators=10)\n",
    "model.fit(X_train, y_train) "
   ]
  },
  {
   "cell_type": "code",
   "execution_count": 64,
   "id": "9f635ecb",
   "metadata": {},
   "outputs": [
    {
     "name": "stdout",
     "output_type": "stream",
     "text": [
      "Avec 1000€ de tolerance, accu : 90.04%\n"
     ]
    }
   ],
   "source": [
    "y_pred = model.predict(X_test)\n",
    "print(f\"Avec 1000€ de tolerance, accu : {round(accuracy(y_pred, y_test), 2)}%\")  # avec tolerance de 1000€ par default"
   ]
  },
  {
   "cell_type": "code",
   "execution_count": 65,
   "id": "d262fbc5",
   "metadata": {},
   "outputs": [
    {
     "name": "stdout",
     "output_type": "stream",
     "text": [
      "Avec 100€ de tolerance, accu : 57.68%\n"
     ]
    }
   ],
   "source": [
    "print(f\"Avec 100€ de tolerance, accu : {round(accuracy(y_pred, y_test, tolerance=100), 2)}%\")"
   ]
  },
  {
   "cell_type": "markdown",
   "id": "c9d042e9",
   "metadata": {},
   "source": [
    "Le model RamdomForestRegressor est bien meilleur que le linearRegressor passant de 0.6% a 90% d'accuracy avec 1000€ de tolerance.\n",
    "\n",
    "En baissant la tolerance a 100€ le modele passe a 57% d'accuracy ne qui n'est pas vraiment bon."
   ]
  },
  {
   "cell_type": "code",
   "execution_count": 81,
   "id": "823f7c56",
   "metadata": {},
   "outputs": [
    {
     "name": "stdout",
     "output_type": "stream",
     "text": [
      "i = 1\n",
      "Avec 1000€ de tolerance, accu : 85.59%\n",
      "Avec 100€ de tolerance, accu : 63.29%\n",
      "\n",
      "i = 2\n",
      "Avec 1000€ de tolerance, accu : 86.44%\n",
      "Avec 100€ de tolerance, accu : 58.86%\n",
      "\n",
      "i = 3\n",
      "Avec 1000€ de tolerance, accu : 87.19%\n",
      "Avec 100€ de tolerance, accu : 56.56%\n",
      "\n",
      "i = 4\n",
      "Avec 1000€ de tolerance, accu : 87.82%\n",
      "Avec 100€ de tolerance, accu : 55.64%\n",
      "\n",
      "i = 5\n",
      "Avec 1000€ de tolerance, accu : 88.44%\n",
      "Avec 100€ de tolerance, accu : 56.25%\n",
      "\n",
      "i = 6\n",
      "Avec 1000€ de tolerance, accu : 88.93%\n",
      "Avec 100€ de tolerance, accu : 56.02%\n",
      "\n",
      "i = 7\n",
      "Avec 1000€ de tolerance, accu : 89.12%\n",
      "Avec 100€ de tolerance, accu : 56.03%\n",
      "\n",
      "i = 8\n",
      "Avec 1000€ de tolerance, accu : 89.45%\n",
      "Avec 100€ de tolerance, accu : 55.89%\n",
      "\n",
      "i = 9\n",
      "Avec 1000€ de tolerance, accu : 89.78%\n",
      "Avec 100€ de tolerance, accu : 55.89%\n",
      "\n"
     ]
    }
   ],
   "source": [
    "for i in range (1, 10, 1) : \n",
    "    model = RandomForestRegressor(n_estimators = i)\n",
    "    model.fit(X_train, y_train)\n",
    "    y_pred = model.predict(X_test)\n",
    "    print(f\"i = {i}\")\n",
    "    print(f\"Avec 1000€ de tolerance, accu : {round(accuracy(y_pred, y_test), 2)}%\")  # avec tolerance de 1000€ par default\n",
    "    print(f\"Avec 100€ de tolerance, accu : {round(accuracy(y_pred, y_test, tolerance=100), 2)}%\")\n",
    "    print()"
   ]
  },
  {
   "cell_type": "markdown",
   "id": "b33a2bc0",
   "metadata": {},
   "source": [
    "Le gain de précision stagne"
   ]
  },
  {
   "cell_type": "markdown",
   "id": "a019a4b4",
   "metadata": {},
   "source": [
    "## GradientBoostingRegressor :"
   ]
  },
  {
   "cell_type": "code",
   "execution_count": 83,
   "id": "d929b36e",
   "metadata": {},
   "outputs": [],
   "source": [
    "from sklearn.ensemble import GradientBoostingRegressor\n",
    "\n",
    "model = GradientBoostingRegressor(n_estimators=20)\n",
    "model.fit(X_train, y_train)\n",
    "y_pred = model.predict(X_test)\n"
   ]
  },
  {
   "cell_type": "code",
   "execution_count": 84,
   "id": "37b0f065",
   "metadata": {},
   "outputs": [
    {
     "name": "stdout",
     "output_type": "stream",
     "text": [
      "Avec 100€ de tolerance, accu : 0.12%\n"
     ]
    }
   ],
   "source": [
    "print(f\"Avec 100€ de tolerance, accu : {round(accuracy(y_pred, y_test, tolerance=100), 2)}%\")"
   ]
  },
  {
   "cell_type": "code",
   "execution_count": 85,
   "id": "46f6b5cd",
   "metadata": {},
   "outputs": [
    {
     "name": "stdout",
     "output_type": "stream",
     "text": [
      "Avec 1000€ de tolerance, accu : 0.8%\n"
     ]
    }
   ],
   "source": [
    "print(f\"Avec 1000€ de tolerance, accu : {round(accuracy(y_pred, y_test), 2)}%\")  # avec tolerance de 1000€ par default"
   ]
  },
  {
   "cell_type": "code",
   "execution_count": null,
   "id": "5668abc0",
   "metadata": {},
   "outputs": [],
   "source": []
  },
  {
   "cell_type": "markdown",
   "id": "64aeb469",
   "metadata": {},
   "source": [
    "## DecisionTreeRegressor :"
   ]
  },
  {
   "cell_type": "code",
   "execution_count": 76,
   "id": "f9b76e23",
   "metadata": {},
   "outputs": [
    {
     "name": "stdout",
     "output_type": "stream",
     "text": [
      "i = 10\n",
      "Avec 1000€ de tolerance, accu : 5.48%\n",
      "Avec 100€ de tolerance, accu : 0.67%\n",
      "\n",
      "i = 20\n",
      "Avec 1000€ de tolerance, accu : 89.43%\n",
      "Avec 100€ de tolerance, accu : 64.39%\n",
      "\n",
      "i = 30\n",
      "Avec 1000€ de tolerance, accu : 90.23%\n",
      "Avec 100€ de tolerance, accu : 71.66%\n",
      "\n",
      "i = 40\n",
      "Avec 1000€ de tolerance, accu : 90.21%\n",
      "Avec 100€ de tolerance, accu : 71.71%\n",
      "\n",
      "i = 50\n",
      "Avec 1000€ de tolerance, accu : 90.16%\n",
      "Avec 100€ de tolerance, accu : 71.65%\n",
      "\n",
      "i = 60\n",
      "Avec 1000€ de tolerance, accu : 90.23%\n",
      "Avec 100€ de tolerance, accu : 71.66%\n",
      "\n",
      "i = 70\n",
      "Avec 1000€ de tolerance, accu : 90.2%\n",
      "Avec 100€ de tolerance, accu : 71.65%\n",
      "\n",
      "i = 80\n",
      "Avec 1000€ de tolerance, accu : 90.21%\n",
      "Avec 100€ de tolerance, accu : 71.69%\n",
      "\n",
      "i = 90\n",
      "Avec 1000€ de tolerance, accu : 90.18%\n",
      "Avec 100€ de tolerance, accu : 71.65%\n",
      "\n",
      "i = 100\n",
      "Avec 1000€ de tolerance, accu : 90.13%\n",
      "Avec 100€ de tolerance, accu : 71.57%\n",
      "\n",
      "i = 110\n",
      "Avec 1000€ de tolerance, accu : 90.23%\n",
      "Avec 100€ de tolerance, accu : 71.71%\n",
      "\n",
      "i = 120\n",
      "Avec 1000€ de tolerance, accu : 90.26%\n",
      "Avec 100€ de tolerance, accu : 71.62%\n",
      "\n",
      "i = 130\n",
      "Avec 1000€ de tolerance, accu : 90.23%\n",
      "Avec 100€ de tolerance, accu : 71.7%\n",
      "\n",
      "i = 140\n",
      "Avec 1000€ de tolerance, accu : 90.18%\n",
      "Avec 100€ de tolerance, accu : 71.73%\n",
      "\n"
     ]
    }
   ],
   "source": [
    "from sklearn.tree import DecisionTreeRegressor\n",
    "\n",
    "for i in range (10, 150, 10) : \n",
    "    model = DecisionTreeRegressor(max_depth=i)\n",
    "    model.fit(X_train, y_train)\n",
    "    y_pred = model.predict(X_test)\n",
    "    print(f\"i = {i}\")\n",
    "    print(f\"Avec 1000€ de tolerance, accu : {round(accuracy(y_pred, y_test), 2)}%\")  # avec tolerance de 1000€ par default\n",
    "    print(f\"Avec 100€ de tolerance, accu : {round(accuracy(y_pred, y_test, tolerance=100), 2)}%\")\n",
    "    print()"
   ]
  },
  {
   "cell_type": "markdown",
   "id": "4978bbea",
   "metadata": {},
   "source": [
    "On comprend qu'il n'est pas nécessaire d'utiliser une max_depth supérieur à 30"
   ]
  },
  {
   "cell_type": "code",
   "execution_count": 77,
   "id": "e018224b",
   "metadata": {},
   "outputs": [],
   "source": [
    "model = DecisionTreeRegressor(max_depth=30)\n",
    "model.fit(X_train, y_train)\n",
    "y_pred = model.predict(X_test)"
   ]
  },
  {
   "cell_type": "code",
   "execution_count": 78,
   "id": "f6dff069",
   "metadata": {},
   "outputs": [
    {
     "name": "stdout",
     "output_type": "stream",
     "text": [
      "Avec 1000€ de tolerance, accu : 90.26%\n"
     ]
    }
   ],
   "source": [
    "print(f\"Avec 1000€ de tolerance, accu : {round(accuracy(y_pred, y_test), 2)}%\")  # avec tolerance de 1000€ par default"
   ]
  },
  {
   "cell_type": "code",
   "execution_count": 79,
   "id": "1c515ffe",
   "metadata": {},
   "outputs": [
    {
     "name": "stdout",
     "output_type": "stream",
     "text": [
      "Avec 100€ de tolerance, accu : 71.69%\n"
     ]
    }
   ],
   "source": [
    "print(f\"Avec 100€ de tolerance, accu : {round(accuracy(y_pred, y_test, tolerance=100), 2)}%\")"
   ]
  },
  {
   "cell_type": "markdown",
   "id": "b938f013",
   "metadata": {},
   "source": [
    "## Réseau de Neurones :"
   ]
  },
  {
   "cell_type": "code",
   "execution_count": 32,
   "id": "135f4496",
   "metadata": {},
   "outputs": [],
   "source": [
    "from sklearn.preprocessing import StandardScaler"
   ]
  },
  {
   "cell_type": "code",
   "execution_count": null,
   "id": "e50be108",
   "metadata": {},
   "outputs": [],
   "source": []
  },
  {
   "cell_type": "code",
   "execution_count": 33,
   "id": "c6ae5348",
   "metadata": {},
   "outputs": [
    {
     "name": "stdout",
     "output_type": "stream",
     "text": [
      "Index(['code_postal', 'code_departement'], dtype='object')\n"
     ]
    },
    {
     "data": {
      "text/plain": [
       "(703773, 10)"
      ]
     },
     "execution_count": 33,
     "metadata": {},
     "output_type": "execute_result"
    }
   ],
   "source": [
    "number_col = ['valeur_fonciere', 'surface_reelle_bati', 'surface_terrain', 'prix_m2']\n",
    "dvf[number_col].fillna(dvf[number_col].median())\n",
    "\n",
    "categorie_col = ['code_postal', 'code_departement', 'type_local_encoded']\n",
    "dvf[categorie_col].fillna('-1')\n",
    "\n",
    "X = dvf.drop(columns=['valeur_fonciere', 'date_mutation', 'type_local', 'prix_m2']) # Recupere les données de la base sans les labels et valeur non numerique\n",
    "y = dvf['valeur_fonciere']\n",
    "X_train, X_test, y_train, y_test = train_test_split(X, y)\n",
    "\n",
    "\n",
    "y_train = y_train[y_train < 1_000_000]  # Exclure les valeurs trop extrêmes\n",
    "X_train = X_train.loc[y_train.index]\n",
    "\n",
    "print(X_train.select_dtypes(include=['object']).columns)  # ces colonnes ne sont pas des nombres, il faut les convertir\n",
    "\n",
    "X_train = X_train.apply(pd.to_numeric, errors='coerce')\n",
    "X_test = X_test.apply(pd.to_numeric, errors='coerce')\n",
    "X.shape"
   ]
  },
  {
   "cell_type": "code",
   "execution_count": null,
   "id": "bae9ef88",
   "metadata": {},
   "outputs": [],
   "source": []
  },
  {
   "cell_type": "code",
   "execution_count": null,
   "id": "10819ce6",
   "metadata": {},
   "outputs": [],
   "source": [
    "model = tf.keras.models.Sequential([\n",
    "    tf.keras.layers.Input((X_train.shape[1],)),\n",
    "    tf.keras.layers.Dense(64, activation='relu'),\n",
    "    tf.keras.layers.BatchNormalization(),\n",
    "    tf.keras.layers.Dense(32, activation='relu'),\n",
    "    tf.keras.layers.BatchNormalization(),\n",
    "    tf.keras.layers.Dense(1, activation='relu')\n",
    "])"
   ]
  },
  {
   "cell_type": "code",
   "execution_count": null,
   "id": "d3a44cf8",
   "metadata": {},
   "outputs": [],
   "source": [
    "model.compile(\n",
    "    optimizer='adam', \n",
    "    loss='mse', \n",
    "    metrics=['mse']\n",
    ")"
   ]
  },
  {
   "cell_type": "code",
   "execution_count": null,
   "id": "e3a3fa38",
   "metadata": {},
   "outputs": [],
   "source": [
    "model.summary()"
   ]
  },
  {
   "cell_type": "markdown",
   "id": "d4b498fc",
   "metadata": {},
   "source": [
    "Dans un premier temps, utiliser un reseau de neurone avec 3 layers et 3000 parametres. "
   ]
  },
  {
   "cell_type": "code",
   "execution_count": null,
   "id": "67cc38d5",
   "metadata": {},
   "outputs": [],
   "source": [
    "model.fit(X_train, y_train, epochs=100)"
   ]
  },
  {
   "cell_type": "code",
   "execution_count": null,
   "id": "49b3a7f3",
   "metadata": {},
   "outputs": [],
   "source": [
    "model.evaluate(X_train, y_train, verbose = 2)"
   ]
  },
  {
   "cell_type": "code",
   "execution_count": null,
   "id": "788877ed",
   "metadata": {},
   "outputs": [],
   "source": [
    "y_pred = model.predict(X_test)\n",
    "y_pred = y_pred.flatten().astype(int)\n",
    "y_pred"
   ]
  },
  {
   "cell_type": "code",
   "execution_count": null,
   "id": "f58d2e5f",
   "metadata": {},
   "outputs": [],
   "source": [
    "accuracy(y_pred, y_test, tolerance = 1000)"
   ]
  },
  {
   "cell_type": "markdown",
   "id": "63635aee",
   "metadata": {},
   "source": [
    "Le modele a actuelement une mse > 1 milliard, c'est vraiment mauvais (lié au format des données plus qu'au model)."
   ]
  },
  {
   "cell_type": "markdown",
   "id": "5b512b4c",
   "metadata": {},
   "source": [
    "# 4. Expérimentations et Résultats"
   ]
  },
  {
   "cell_type": "markdown",
   "id": "abdda046",
   "metadata": {},
   "source": [
    "Dans un premier temps, le modele LinearRegression a été un modele catastrophique pour cette base de donnée. En effet, le modele est bien trop simpliste pour une base aussi grande et contenant des données de dimension 10. "
   ]
  },
  {
   "cell_type": "markdown",
   "id": "06f31346",
   "metadata": {},
   "source": [
    "Le second modele est bien plus performant donnant des estimations des biens avec un bon ordre de grandeur (~1000€ pres).\n",
    "\n",
    "Cepandant si l'on veut un modele avec un peu plus de precision (~100€ pres), il ne devient plus assez efficace."
   ]
  },
  {
   "cell_type": "markdown",
   "id": "c5a8c541",
   "metadata": {},
   "source": [
    "Pour finir utiliser un reseau de neurone est une solution bien souvent plus performant mais necessite bien plus de ressource et temps d'entrainement."
   ]
  },
  {
   "cell_type": "markdown",
   "id": "33426a32",
   "metadata": {},
   "source": [
    "# 5. Conclusion et Perspectives\n"
   ]
  },
  {
   "cell_type": "markdown",
   "id": "097343cf",
   "metadata": {},
   "source": [
    "Le `RandomForestRegressor` offre un bon compromis entre précision et rapidité, bien qu'il puisse être relativement lent, surtout pour des datasets volumineux. Cependant, atteindre une précision de l'ordre de 100€ nécessite des optimisations supplémentaires ou des modèles plus avancés.\n",
    "\n",
    "D'autre part, le `DecisionTreeRegressor` se distingue par sa rapidité d'exécution et sa performance, parfois même supérieure à celle du RandomForestRegressor, surtout lorsque des ajustements sont faits au niveau de la profondeur de l'arbre."
   ]
  },
  {
   "cell_type": "code",
   "execution_count": null,
   "id": "26fa2191",
   "metadata": {},
   "outputs": [],
   "source": []
  }
 ],
 "metadata": {
  "kernelspec": {
   "display_name": "Python (tensorflow_env)",
   "language": "python",
   "name": "tensorflow_env"
  },
  "language_info": {
   "codemirror_mode": {
    "name": "ipython",
    "version": 3
   },
   "file_extension": ".py",
   "mimetype": "text/x-python",
   "name": "python",
   "nbconvert_exporter": "python",
   "pygments_lexer": "ipython3",
   "version": "3.11.2"
  }
 },
 "nbformat": 4,
 "nbformat_minor": 5
}
