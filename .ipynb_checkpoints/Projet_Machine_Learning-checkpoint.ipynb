{
 "cells": [
  {
   "cell_type": "markdown",
   "id": "7b13879e",
   "metadata": {},
   "source": [
    "Projet Machine Learning sur la base DVF"
   ]
  },
  {
   "cell_type": "markdown",
   "id": "4491c8b3",
   "metadata": {},
   "source": [
    "Oumakhlouf Selym\n",
    "Marchand Florian"
   ]
  },
  {
   "cell_type": "code",
   "execution_count": 1,
   "id": "824cabd2",
   "metadata": {},
   "outputs": [
    {
     "ename": "ModuleNotFoundError",
     "evalue": "No module named 'tensorflow'",
     "output_type": "error",
     "traceback": [
      "\u001b[0;31m---------------------------------------------------------------------------\u001b[0m",
      "\u001b[0;31mModuleNotFoundError\u001b[0m                       Traceback (most recent call last)",
      "Cell \u001b[0;32mIn [1], line 5\u001b[0m\n\u001b[1;32m      3\u001b[0m \u001b[38;5;28;01mimport\u001b[39;00m \u001b[38;5;21;01mmatplotlib\u001b[39;00m\u001b[38;5;21;01m.\u001b[39;00m\u001b[38;5;21;01mpyplot\u001b[39;00m \u001b[38;5;28;01mas\u001b[39;00m \u001b[38;5;21;01mplt\u001b[39;00m\n\u001b[1;32m      4\u001b[0m \u001b[38;5;28;01mimport\u001b[39;00m \u001b[38;5;21;01mpandas\u001b[39;00m \u001b[38;5;28;01mas\u001b[39;00m \u001b[38;5;21;01mpd\u001b[39;00m\n\u001b[0;32m----> 5\u001b[0m \u001b[38;5;28;01mimport\u001b[39;00m \u001b[38;5;21;01mtensorflow\u001b[39;00m \u001b[38;5;28;01mas\u001b[39;00m \u001b[38;5;21;01mtf\u001b[39;00m\n",
      "\u001b[0;31mModuleNotFoundError\u001b[0m: No module named 'tensorflow'"
     ]
    }
   ],
   "source": [
    "import numpy as np\n",
    "import matplotlib\n",
    "import matplotlib.pyplot as plt\n",
    "import pandas as pd\n",
    "import tensorflow as tf\n"
   ]
  },
  {
   "cell_type": "markdown",
   "id": "31bbbd0d",
   "metadata": {},
   "source": [
    "1. Introduction\n"
   ]
  },
  {
   "cell_type": "markdown",
   "id": "d4e356c9",
   "metadata": {},
   "source": [
    "Prédire au mieux le prix d’un appartement à partir de\n",
    "ses autres caractéristiques.\n",
    "\n",
    "On va utiliser la base de données DVF."
   ]
  },
  {
   "cell_type": "markdown",
   "id": "33939005",
   "metadata": {},
   "source": [
    "2. Analyse des Données"
   ]
  },
  {
   "cell_type": "code",
   "execution_count": 2,
   "id": "8e0f44ad",
   "metadata": {},
   "outputs": [],
   "source": [
    "dvf = pd.read_csv('./DVF_train.csv', dtype={'code_departement':'str', 'code_postal': 'str'})"
   ]
  },
  {
   "cell_type": "code",
   "execution_count": 3,
   "id": "94d72574",
   "metadata": {},
   "outputs": [
    {
     "data": {
      "text/html": [
       "<div>\n",
       "<style scoped>\n",
       "    .dataframe tbody tr th:only-of-type {\n",
       "        vertical-align: middle;\n",
       "    }\n",
       "\n",
       "    .dataframe tbody tr th {\n",
       "        vertical-align: top;\n",
       "    }\n",
       "\n",
       "    .dataframe thead th {\n",
       "        text-align: right;\n",
       "    }\n",
       "</style>\n",
       "<table border=\"1\" class=\"dataframe\">\n",
       "  <thead>\n",
       "    <tr style=\"text-align: right;\">\n",
       "      <th></th>\n",
       "      <th>Unnamed: 0</th>\n",
       "      <th>date_mutation</th>\n",
       "      <th>valeur_fonciere</th>\n",
       "      <th>code_postal</th>\n",
       "      <th>code_departement</th>\n",
       "      <th>type_local</th>\n",
       "      <th>surface_reelle_bati</th>\n",
       "      <th>nombre_pieces_principales</th>\n",
       "      <th>surface_terrain</th>\n",
       "      <th>longitude</th>\n",
       "      <th>latitude</th>\n",
       "    </tr>\n",
       "  </thead>\n",
       "  <tbody>\n",
       "    <tr>\n",
       "      <th>0</th>\n",
       "      <td>3612399</td>\n",
       "      <td>2023-08-03</td>\n",
       "      <td>165410.0</td>\n",
       "      <td>94160.0</td>\n",
       "      <td>94</td>\n",
       "      <td>Appartement</td>\n",
       "      <td>17.0</td>\n",
       "      <td>1.0</td>\n",
       "      <td>NaN</td>\n",
       "      <td>2.416612</td>\n",
       "      <td>48.840466</td>\n",
       "    </tr>\n",
       "    <tr>\n",
       "      <th>1</th>\n",
       "      <td>2979296</td>\n",
       "      <td>2023-05-23</td>\n",
       "      <td>170900.0</td>\n",
       "      <td>78300.0</td>\n",
       "      <td>78</td>\n",
       "      <td>Appartement</td>\n",
       "      <td>80.0</td>\n",
       "      <td>4.0</td>\n",
       "      <td>NaN</td>\n",
       "      <td>2.040845</td>\n",
       "      <td>48.926907</td>\n",
       "    </tr>\n",
       "    <tr>\n",
       "      <th>2</th>\n",
       "      <td>545016</td>\n",
       "      <td>2023-05-31</td>\n",
       "      <td>16000.0</td>\n",
       "      <td>16000.0</td>\n",
       "      <td>16</td>\n",
       "      <td>Appartement</td>\n",
       "      <td>20.0</td>\n",
       "      <td>1.0</td>\n",
       "      <td>NaN</td>\n",
       "      <td>0.170911</td>\n",
       "      <td>45.651279</td>\n",
       "    </tr>\n",
       "    <tr>\n",
       "      <th>3</th>\n",
       "      <td>2497199</td>\n",
       "      <td>2023-06-29</td>\n",
       "      <td>240000.0</td>\n",
       "      <td>65400.0</td>\n",
       "      <td>65</td>\n",
       "      <td>Appartement</td>\n",
       "      <td>75.0</td>\n",
       "      <td>3.0</td>\n",
       "      <td>621.0</td>\n",
       "      <td>-0.068876</td>\n",
       "      <td>42.988343</td>\n",
       "    </tr>\n",
       "    <tr>\n",
       "      <th>4</th>\n",
       "      <td>3207821</td>\n",
       "      <td>2023-02-16</td>\n",
       "      <td>522000.0</td>\n",
       "      <td>84400.0</td>\n",
       "      <td>84</td>\n",
       "      <td>Maison</td>\n",
       "      <td>165.0</td>\n",
       "      <td>5.0</td>\n",
       "      <td>1000.0</td>\n",
       "      <td>5.384564</td>\n",
       "      <td>43.911069</td>\n",
       "    </tr>\n",
       "    <tr>\n",
       "      <th>...</th>\n",
       "      <td>...</td>\n",
       "      <td>...</td>\n",
       "      <td>...</td>\n",
       "      <td>...</td>\n",
       "      <td>...</td>\n",
       "      <td>...</td>\n",
       "      <td>...</td>\n",
       "      <td>...</td>\n",
       "      <td>...</td>\n",
       "      <td>...</td>\n",
       "      <td>...</td>\n",
       "    </tr>\n",
       "    <tr>\n",
       "      <th>703768</th>\n",
       "      <td>1045273</td>\n",
       "      <td>2023-01-03</td>\n",
       "      <td>60000.0</td>\n",
       "      <td>30000.0</td>\n",
       "      <td>30</td>\n",
       "      <td>Appartement</td>\n",
       "      <td>22.0</td>\n",
       "      <td>1.0</td>\n",
       "      <td>NaN</td>\n",
       "      <td>4.396774</td>\n",
       "      <td>43.854210</td>\n",
       "    </tr>\n",
       "    <tr>\n",
       "      <th>703769</th>\n",
       "      <td>1837384</td>\n",
       "      <td>2023-04-07</td>\n",
       "      <td>250000.0</td>\n",
       "      <td>46230.0</td>\n",
       "      <td>46</td>\n",
       "      <td>Maison</td>\n",
       "      <td>140.0</td>\n",
       "      <td>4.0</td>\n",
       "      <td>500.0</td>\n",
       "      <td>1.546814</td>\n",
       "      <td>44.344308</td>\n",
       "    </tr>\n",
       "    <tr>\n",
       "      <th>703770</th>\n",
       "      <td>579086</td>\n",
       "      <td>2023-05-24</td>\n",
       "      <td>558000.0</td>\n",
       "      <td>17139.0</td>\n",
       "      <td>17</td>\n",
       "      <td>Maison</td>\n",
       "      <td>135.0</td>\n",
       "      <td>6.0</td>\n",
       "      <td>657.0</td>\n",
       "      <td>-1.056342</td>\n",
       "      <td>46.192404</td>\n",
       "    </tr>\n",
       "    <tr>\n",
       "      <th>703771</th>\n",
       "      <td>1722782</td>\n",
       "      <td>2023-04-11</td>\n",
       "      <td>360000.0</td>\n",
       "      <td>44230.0</td>\n",
       "      <td>44</td>\n",
       "      <td>Maison</td>\n",
       "      <td>74.0</td>\n",
       "      <td>4.0</td>\n",
       "      <td>363.0</td>\n",
       "      <td>-1.489895</td>\n",
       "      <td>47.198482</td>\n",
       "    </tr>\n",
       "    <tr>\n",
       "      <th>703772</th>\n",
       "      <td>2952636</td>\n",
       "      <td>2023-10-31</td>\n",
       "      <td>258450.0</td>\n",
       "      <td>77660.0</td>\n",
       "      <td>77</td>\n",
       "      <td>Maison</td>\n",
       "      <td>75.0</td>\n",
       "      <td>4.0</td>\n",
       "      <td>77.0</td>\n",
       "      <td>3.020058</td>\n",
       "      <td>48.956774</td>\n",
       "    </tr>\n",
       "  </tbody>\n",
       "</table>\n",
       "<p>703773 rows × 11 columns</p>\n",
       "</div>"
      ],
      "text/plain": [
       "        Unnamed: 0 date_mutation  valeur_fonciere code_postal  \\\n",
       "0          3612399    2023-08-03         165410.0     94160.0   \n",
       "1          2979296    2023-05-23         170900.0     78300.0   \n",
       "2           545016    2023-05-31          16000.0     16000.0   \n",
       "3          2497199    2023-06-29         240000.0     65400.0   \n",
       "4          3207821    2023-02-16         522000.0     84400.0   \n",
       "...            ...           ...              ...         ...   \n",
       "703768     1045273    2023-01-03          60000.0     30000.0   \n",
       "703769     1837384    2023-04-07         250000.0     46230.0   \n",
       "703770      579086    2023-05-24         558000.0     17139.0   \n",
       "703771     1722782    2023-04-11         360000.0     44230.0   \n",
       "703772     2952636    2023-10-31         258450.0     77660.0   \n",
       "\n",
       "       code_departement   type_local  surface_reelle_bati  \\\n",
       "0                    94  Appartement                 17.0   \n",
       "1                    78  Appartement                 80.0   \n",
       "2                    16  Appartement                 20.0   \n",
       "3                    65  Appartement                 75.0   \n",
       "4                    84       Maison                165.0   \n",
       "...                 ...          ...                  ...   \n",
       "703768               30  Appartement                 22.0   \n",
       "703769               46       Maison                140.0   \n",
       "703770               17       Maison                135.0   \n",
       "703771               44       Maison                 74.0   \n",
       "703772               77       Maison                 75.0   \n",
       "\n",
       "        nombre_pieces_principales  surface_terrain  longitude   latitude  \n",
       "0                             1.0              NaN   2.416612  48.840466  \n",
       "1                             4.0              NaN   2.040845  48.926907  \n",
       "2                             1.0              NaN   0.170911  45.651279  \n",
       "3                             3.0            621.0  -0.068876  42.988343  \n",
       "4                             5.0           1000.0   5.384564  43.911069  \n",
       "...                           ...              ...        ...        ...  \n",
       "703768                        1.0              NaN   4.396774  43.854210  \n",
       "703769                        4.0            500.0   1.546814  44.344308  \n",
       "703770                        6.0            657.0  -1.056342  46.192404  \n",
       "703771                        4.0            363.0  -1.489895  47.198482  \n",
       "703772                        4.0             77.0   3.020058  48.956774  \n",
       "\n",
       "[703773 rows x 11 columns]"
      ]
     },
     "execution_count": 3,
     "metadata": {},
     "output_type": "execute_result"
    }
   ],
   "source": [
    "dvf"
   ]
  },
  {
   "cell_type": "code",
   "execution_count": 4,
   "id": "115decad",
   "metadata": {},
   "outputs": [
    {
     "name": "stdout",
     "output_type": "stream",
     "text": [
      "La base de données DVF est une base de données contenant 703773 lignes contenant chacune 11 elements.\n"
     ]
    }
   ],
   "source": [
    "print(f\"La base de données DVF est une base de données contenant {dvf.shape[0]} lignes contenant chacune {dvf.shape[1]} elements.\")"
   ]
  },
  {
   "cell_type": "markdown",
   "id": "caf17fab",
   "metadata": {},
   "source": [
    "On remarque que les departements d'outre-mer ne sont pas present et que les deux departements de corses sont reunit sur le 20eme departement."
   ]
  },
  {
   "cell_type": "code",
   "execution_count": null,
   "id": "094d64f6",
   "metadata": {},
   "outputs": [],
   "source": []
  },
  {
   "cell_type": "code",
   "execution_count": 5,
   "id": "f80479bd",
   "metadata": {},
   "outputs": [],
   "source": [
    "max_transac = dvf['valeur_fonciere'].describe().apply(lambda x: format(x,'f'))['max']\n",
    "min_transac = dvf['valeur_fonciere'].describe().apply(lambda x: format(x,'f'))['min']"
   ]
  },
  {
   "cell_type": "code",
   "execution_count": 6,
   "id": "f6d41ba3",
   "metadata": {},
   "outputs": [
    {
     "name": "stdout",
     "output_type": "stream",
     "text": [
      "La transaction la plus elevée sur cette base est de 9900000.0€\n",
      "La transaction la plus faible sur cette base est de 10000.0€\n"
     ]
    }
   ],
   "source": [
    "print(f\"La transaction la plus elevée sur cette base est de {float(max_transac)}€\")\n",
    "print(f\"La transaction la plus faible sur cette base est de {float(min_transac)}€\")"
   ]
  },
  {
   "cell_type": "markdown",
   "id": "86e5d97b",
   "metadata": {},
   "source": [
    "L'etendue etant beaucoup trop elevé (de 10_000 a 9_900_000), utiliser la mediane pourrai etre plus reprensentatif de la realité par moment."
   ]
  },
  {
   "cell_type": "code",
   "execution_count": 7,
   "id": "69197eec",
   "metadata": {},
   "outputs": [],
   "source": [
    "avg_dep = [dvf['valeur_fonciere'].loc[dvf['code_departement'] == str(i)].mean() for i in range(1,96)]\n",
    "size_dep = [dvf.loc[dvf['code_departement'] == str(i)].shape[0] for i in range(1,96)]\n"
   ]
  },
  {
   "cell_type": "code",
   "execution_count": 8,
   "id": "be535a5e",
   "metadata": {},
   "outputs": [],
   "source": [
    "avg_dep_sorted = sorted(avg_dep)\n",
    "avg_dep_sorted.reverse()"
   ]
  },
  {
   "cell_type": "code",
   "execution_count": 9,
   "id": "a6d0a675",
   "metadata": {},
   "outputs": [
    {
     "name": "stdout",
     "output_type": "stream",
     "text": [
      "Le departement du 92 est le 1er dont les transactions sont les plus couteuses avec en moyenne 996875.16€\n",
      "Le departement du 75 est le 2ème dont les transactions sont les plus couteuses avec en moyenne 945219.32€\n",
      "Le departement du 94 est le 3ème dont les transactions sont les plus couteuses avec en moyenne 842270.65€\n",
      "Le departement du 6 est le 4ème dont les transactions sont les plus couteuses avec en moyenne 593832.99€\n",
      "Le departement du 69 est le 5ème dont les transactions sont les plus couteuses avec en moyenne 570812.74€\n",
      "Le departement du 78 est le 6ème dont les transactions sont les plus couteuses avec en moyenne 558901.65€\n",
      "Le departement du 83 est le 7ème dont les transactions sont les plus couteuses avec en moyenne 556157.36€\n",
      "Le departement du 73 est le 8ème dont les transactions sont les plus couteuses avec en moyenne 550525.49€\n",
      "Le departement du 74 est le 9ème dont les transactions sont les plus couteuses avec en moyenne 545276.43€\n",
      "Le departement du 95 est le 10ème dont les transactions sont les plus couteuses avec en moyenne 545146.75€\n"
     ]
    }
   ],
   "source": [
    "for i in range(10):\n",
    "    print(f\"Le departement du {avg_dep.index(avg_dep_sorted[i]) + 1} est le {i+1}{'er' if i == 0 else 'ème'} dont les transactions sont les plus couteuses avec en moyenne {round(avg_dep_sorted[i],2)}€\")"
   ]
  },
  {
   "cell_type": "code",
   "execution_count": null,
   "id": "74b45560",
   "metadata": {},
   "outputs": [],
   "source": []
  },
  {
   "cell_type": "code",
   "execution_count": 10,
   "id": "b3933fbb",
   "metadata": {},
   "outputs": [],
   "source": [
    "def posByCost(dep):\n",
    "    '''\n",
    "    Cette fonction permet de determiner quelle est la position \n",
    "    d'un departement par rapport au cout moyen des transactions.\n",
    "    renvoie la position, prix moyen, nombre de transactions\n",
    "    '''\n",
    "    avg = avg_dep[dep-1]\n",
    "    return avg_dep_sorted.index(avg) +1, round(avg, 2), size_dep[dep-1]"
   ]
  },
  {
   "cell_type": "code",
   "execution_count": 11,
   "id": "be310d2a",
   "metadata": {},
   "outputs": [
    {
     "data": {
      "text/plain": [
       "(27, 358483.02, 13986)"
      ]
     },
     "execution_count": 11,
     "metadata": {},
     "output_type": "execute_result"
    }
   ],
   "source": [
    "posByCost(77)"
   ]
  },
  {
   "cell_type": "code",
   "execution_count": 12,
   "id": "635ca354",
   "metadata": {},
   "outputs": [],
   "source": [
    "dvf['type_local_encoded'], _ = pd.factorize(dvf['type_local'])  #  permet d'ajouter le type_local dans la matrice de correlation "
   ]
  },
  {
   "cell_type": "code",
   "execution_count": 13,
   "id": "a9664b47",
   "metadata": {},
   "outputs": [
    {
     "data": {
      "text/html": [
       "<div>\n",
       "<style scoped>\n",
       "    .dataframe tbody tr th:only-of-type {\n",
       "        vertical-align: middle;\n",
       "    }\n",
       "\n",
       "    .dataframe tbody tr th {\n",
       "        vertical-align: top;\n",
       "    }\n",
       "\n",
       "    .dataframe thead th {\n",
       "        text-align: right;\n",
       "    }\n",
       "</style>\n",
       "<table border=\"1\" class=\"dataframe\">\n",
       "  <thead>\n",
       "    <tr style=\"text-align: right;\">\n",
       "      <th></th>\n",
       "      <th>valeur_fonciere</th>\n",
       "      <th>surface_reelle_bati</th>\n",
       "      <th>nombre_pieces_principales</th>\n",
       "      <th>surface_terrain</th>\n",
       "      <th>type_local_encoded</th>\n",
       "      <th>longitude</th>\n",
       "      <th>latitude</th>\n",
       "    </tr>\n",
       "  </thead>\n",
       "  <tbody>\n",
       "    <tr>\n",
       "      <th>valeur_fonciere</th>\n",
       "      <td>1.000000</td>\n",
       "      <td>0.053334</td>\n",
       "      <td>-0.005101</td>\n",
       "      <td>0.125885</td>\n",
       "      <td>-0.272653</td>\n",
       "      <td>0.088359</td>\n",
       "      <td>-0.035193</td>\n",
       "    </tr>\n",
       "    <tr>\n",
       "      <th>surface_reelle_bati</th>\n",
       "      <td>0.053334</td>\n",
       "      <td>1.000000</td>\n",
       "      <td>0.762907</td>\n",
       "      <td>0.055395</td>\n",
       "      <td>0.346472</td>\n",
       "      <td>-0.017826</td>\n",
       "      <td>-0.036606</td>\n",
       "    </tr>\n",
       "    <tr>\n",
       "      <th>nombre_pieces_principales</th>\n",
       "      <td>-0.005101</td>\n",
       "      <td>0.762907</td>\n",
       "      <td>1.000000</td>\n",
       "      <td>0.019770</td>\n",
       "      <td>0.378748</td>\n",
       "      <td>-0.036096</td>\n",
       "      <td>0.045846</td>\n",
       "    </tr>\n",
       "    <tr>\n",
       "      <th>surface_terrain</th>\n",
       "      <td>0.125885</td>\n",
       "      <td>0.055395</td>\n",
       "      <td>0.019770</td>\n",
       "      <td>1.000000</td>\n",
       "      <td>-0.025177</td>\n",
       "      <td>-0.001257</td>\n",
       "      <td>-0.018876</td>\n",
       "    </tr>\n",
       "    <tr>\n",
       "      <th>type_local_encoded</th>\n",
       "      <td>-0.272653</td>\n",
       "      <td>0.346472</td>\n",
       "      <td>0.378748</td>\n",
       "      <td>-0.025177</td>\n",
       "      <td>1.000000</td>\n",
       "      <td>-0.135025</td>\n",
       "      <td>0.036722</td>\n",
       "    </tr>\n",
       "    <tr>\n",
       "      <th>longitude</th>\n",
       "      <td>0.088359</td>\n",
       "      <td>-0.017826</td>\n",
       "      <td>-0.036096</td>\n",
       "      <td>-0.001257</td>\n",
       "      <td>-0.135025</td>\n",
       "      <td>1.000000</td>\n",
       "      <td>-0.196716</td>\n",
       "    </tr>\n",
       "    <tr>\n",
       "      <th>latitude</th>\n",
       "      <td>-0.035193</td>\n",
       "      <td>-0.036606</td>\n",
       "      <td>0.045846</td>\n",
       "      <td>-0.018876</td>\n",
       "      <td>0.036722</td>\n",
       "      <td>-0.196716</td>\n",
       "      <td>1.000000</td>\n",
       "    </tr>\n",
       "  </tbody>\n",
       "</table>\n",
       "</div>"
      ],
      "text/plain": [
       "                           valeur_fonciere  surface_reelle_bati  \\\n",
       "valeur_fonciere                   1.000000             0.053334   \n",
       "surface_reelle_bati               0.053334             1.000000   \n",
       "nombre_pieces_principales        -0.005101             0.762907   \n",
       "surface_terrain                   0.125885             0.055395   \n",
       "type_local_encoded               -0.272653             0.346472   \n",
       "longitude                         0.088359            -0.017826   \n",
       "latitude                         -0.035193            -0.036606   \n",
       "\n",
       "                           nombre_pieces_principales  surface_terrain  \\\n",
       "valeur_fonciere                            -0.005101         0.125885   \n",
       "surface_reelle_bati                         0.762907         0.055395   \n",
       "nombre_pieces_principales                   1.000000         0.019770   \n",
       "surface_terrain                             0.019770         1.000000   \n",
       "type_local_encoded                          0.378748        -0.025177   \n",
       "longitude                                  -0.036096        -0.001257   \n",
       "latitude                                    0.045846        -0.018876   \n",
       "\n",
       "                           type_local_encoded  longitude  latitude  \n",
       "valeur_fonciere                     -0.272653   0.088359 -0.035193  \n",
       "surface_reelle_bati                  0.346472  -0.017826 -0.036606  \n",
       "nombre_pieces_principales            0.378748  -0.036096  0.045846  \n",
       "surface_terrain                     -0.025177  -0.001257 -0.018876  \n",
       "type_local_encoded                   1.000000  -0.135025  0.036722  \n",
       "longitude                           -0.135025   1.000000 -0.196716  \n",
       "latitude                             0.036722  -0.196716  1.000000  "
      ]
     },
     "execution_count": 13,
     "metadata": {},
     "output_type": "execute_result"
    }
   ],
   "source": [
    "dvf_corr = dvf[['valeur_fonciere','code_postal', 'surface_reelle_bati', 'nombre_pieces_principales','surface_terrain', 'type_local_encoded', 'longitude', 'latitude']].dropna().corr(numeric_only=True)  # supprime les valeur manquant et calcule la matrice de correlation\n",
    "\n",
    "dvf_corr\n"
   ]
  },
  {
   "cell_type": "markdown",
   "id": "89bf4f82",
   "metadata": {},
   "source": [
    "Sur cette matrice de correlation (on cherche les données les plus correlés aux valeurs foncieres), la donnée qui semble etre le plus correlé au prix est le type d'habitation (bien que ca reste une faible correlation a -0.27). Les autres données ont une correlation bien trop faible qu'elles en deviennent negligeable."
   ]
  },
  {
   "cell_type": "code",
   "execution_count": 14,
   "id": "9e0516bb",
   "metadata": {},
   "outputs": [
    {
     "data": {
      "text/html": [
       "<div>\n",
       "<style scoped>\n",
       "    .dataframe tbody tr th:only-of-type {\n",
       "        vertical-align: middle;\n",
       "    }\n",
       "\n",
       "    .dataframe tbody tr th {\n",
       "        vertical-align: top;\n",
       "    }\n",
       "\n",
       "    .dataframe thead th {\n",
       "        text-align: right;\n",
       "    }\n",
       "</style>\n",
       "<table border=\"1\" class=\"dataframe\">\n",
       "  <thead>\n",
       "    <tr style=\"text-align: right;\">\n",
       "      <th></th>\n",
       "      <th>valeur_fonciere</th>\n",
       "      <th>surface_reelle_bati</th>\n",
       "      <th>nombre_pieces_principales</th>\n",
       "      <th>surface_terrain</th>\n",
       "      <th>type_local_encoded</th>\n",
       "      <th>longitude</th>\n",
       "      <th>latitude</th>\n",
       "    </tr>\n",
       "  </thead>\n",
       "  <tbody>\n",
       "    <tr>\n",
       "      <th>valeur_fonciere</th>\n",
       "      <td>1.000000</td>\n",
       "      <td>0.278397</td>\n",
       "      <td>0.222784</td>\n",
       "      <td>0.237819</td>\n",
       "      <td>-0.168407</td>\n",
       "      <td>0.076845</td>\n",
       "      <td>-0.103693</td>\n",
       "    </tr>\n",
       "    <tr>\n",
       "      <th>surface_reelle_bati</th>\n",
       "      <td>0.278397</td>\n",
       "      <td>1.000000</td>\n",
       "      <td>0.791092</td>\n",
       "      <td>0.303503</td>\n",
       "      <td>0.415089</td>\n",
       "      <td>-0.036391</td>\n",
       "      <td>-0.032916</td>\n",
       "    </tr>\n",
       "    <tr>\n",
       "      <th>nombre_pieces_principales</th>\n",
       "      <td>0.222784</td>\n",
       "      <td>0.791092</td>\n",
       "      <td>1.000000</td>\n",
       "      <td>0.223554</td>\n",
       "      <td>0.398806</td>\n",
       "      <td>-0.038457</td>\n",
       "      <td>0.052064</td>\n",
       "    </tr>\n",
       "    <tr>\n",
       "      <th>surface_terrain</th>\n",
       "      <td>0.237819</td>\n",
       "      <td>0.303503</td>\n",
       "      <td>0.223554</td>\n",
       "      <td>1.000000</td>\n",
       "      <td>0.110379</td>\n",
       "      <td>-0.050965</td>\n",
       "      <td>-0.063921</td>\n",
       "    </tr>\n",
       "    <tr>\n",
       "      <th>type_local_encoded</th>\n",
       "      <td>-0.168407</td>\n",
       "      <td>0.415089</td>\n",
       "      <td>0.398806</td>\n",
       "      <td>0.110379</td>\n",
       "      <td>1.000000</td>\n",
       "      <td>-0.136729</td>\n",
       "      <td>0.033559</td>\n",
       "    </tr>\n",
       "    <tr>\n",
       "      <th>longitude</th>\n",
       "      <td>0.076845</td>\n",
       "      <td>-0.036391</td>\n",
       "      <td>-0.038457</td>\n",
       "      <td>-0.050965</td>\n",
       "      <td>-0.136729</td>\n",
       "      <td>1.000000</td>\n",
       "      <td>-0.155518</td>\n",
       "    </tr>\n",
       "    <tr>\n",
       "      <th>latitude</th>\n",
       "      <td>-0.103693</td>\n",
       "      <td>-0.032916</td>\n",
       "      <td>0.052064</td>\n",
       "      <td>-0.063921</td>\n",
       "      <td>0.033559</td>\n",
       "      <td>-0.155518</td>\n",
       "      <td>1.000000</td>\n",
       "    </tr>\n",
       "  </tbody>\n",
       "</table>\n",
       "</div>"
      ],
      "text/plain": [
       "                           valeur_fonciere  surface_reelle_bati  \\\n",
       "valeur_fonciere                   1.000000             0.278397   \n",
       "surface_reelle_bati               0.278397             1.000000   \n",
       "nombre_pieces_principales         0.222784             0.791092   \n",
       "surface_terrain                   0.237819             0.303503   \n",
       "type_local_encoded               -0.168407             0.415089   \n",
       "longitude                         0.076845            -0.036391   \n",
       "latitude                         -0.103693            -0.032916   \n",
       "\n",
       "                           nombre_pieces_principales  surface_terrain  \\\n",
       "valeur_fonciere                             0.222784         0.237819   \n",
       "surface_reelle_bati                         0.791092         0.303503   \n",
       "nombre_pieces_principales                   1.000000         0.223554   \n",
       "surface_terrain                             0.223554         1.000000   \n",
       "type_local_encoded                          0.398806         0.110379   \n",
       "longitude                                  -0.038457        -0.050965   \n",
       "latitude                                    0.052064        -0.063921   \n",
       "\n",
       "                           type_local_encoded  longitude  latitude  \n",
       "valeur_fonciere                     -0.168407   0.076845 -0.103693  \n",
       "surface_reelle_bati                  0.415089  -0.036391 -0.032916  \n",
       "nombre_pieces_principales            0.398806  -0.038457  0.052064  \n",
       "surface_terrain                      0.110379  -0.050965 -0.063921  \n",
       "type_local_encoded                   1.000000  -0.136729  0.033559  \n",
       "longitude                           -0.136729   1.000000 -0.155518  \n",
       "latitude                             0.033559  -0.155518  1.000000  "
      ]
     },
     "execution_count": 14,
     "metadata": {},
     "output_type": "execute_result"
    }
   ],
   "source": [
    "dvf_corr = dvf[['valeur_fonciere','code_postal', 'surface_reelle_bati', 'nombre_pieces_principales','surface_terrain', 'type_local_encoded', 'longitude', 'latitude']].dropna().corr(numeric_only=True, method='spearman')  # supprime les valeur manquant et calcule la matrice de correlation\n",
    "\n",
    "\n",
    "dvf_corr"
   ]
  },
  {
   "cell_type": "markdown",
   "id": "7e79383a",
   "metadata": {},
   "source": [
    "En changeant le modele de correlation, la surface reelle bati, le nombre de pieces principales et la surface du terrain prennent un peu d'importance mais reste des correlation faible (et logique, un appartement plus grand avec plus de pieces est naturellement plus couteux si les autres données sont similaire).\n",
    "\n",
    "\n",
    "Pour resumer la valeur fonciere n'est pas lié a une donné en particulier mais plus ou moins a l'ensemble des données representant un bien. Par exemple la longitude et la latitude seul n'ont aucun impact sur le prix mais reunis (coordonnées donc departement), ont obtient un liens un plus plus solide et ainsi de suite plus ont ajoute de precision sur le bien."
   ]
  },
  {
   "cell_type": "code",
   "execution_count": null,
   "id": "80c29083",
   "metadata": {},
   "outputs": [],
   "source": []
  },
  {
   "cell_type": "code",
   "execution_count": 15,
   "id": "0741e3b1",
   "metadata": {},
   "outputs": [
    {
     "data": {
      "text/plain": [
       "[Text(0.5, 1.0, 'Prix immobilier France'),\n",
       " Text(0.5, 0, 'longitude'),\n",
       " Text(0, 0.5, 'latitude')]"
      ]
     },
     "execution_count": 15,
     "metadata": {},
     "output_type": "execute_result"
    },
    {
     "data": {
      "image/png": "[encoded data removed]",
      "text/plain": [
       "<Figure size 640x480 with 1 Axes>"
      ]
     },
     "metadata": {},
     "output_type": "display_data"
    }
   ],
   "source": [
    "fig, ax = plt.subplots()\n",
    "dataframe = dvf.loc[dvf['valeur_fonciere'] >= 3_000_000]\n",
    "z = ax.scatter(data = dataframe, \n",
    "               x='longitude', y='latitude', \n",
    "               alpha=0.5)\n",
    "\n",
    "ax.set(title='Prix immobilier France', xlabel='longitude', ylabel='latitude')"
   ]
  },
  {
   "cell_type": "markdown",
   "id": "1b0be4f3",
   "metadata": {},
   "source": [
    "On peut observer que la plupart des logements a plus de 3_000_000 € sont situés en ile de france et sur les litoraux (surtout Sud-Est)."
   ]
  },
  {
   "cell_type": "code",
   "execution_count": 16,
   "id": "853c581b",
   "metadata": {},
   "outputs": [],
   "source": [
    "dvf['prix_m2'] = dvf['valeur_fonciere'] / dvf['surface_reelle_bati']"
   ]
  },
  {
   "cell_type": "code",
   "execution_count": 17,
   "id": "2d57105f",
   "metadata": {},
   "outputs": [],
   "source": [
    "first_dep = avg_dep.index(avg_dep_sorted[0])+1"
   ]
  },
  {
   "cell_type": "code",
   "execution_count": 18,
   "id": "f64ef57d",
   "metadata": {},
   "outputs": [
    {
     "name": "stdout",
     "output_type": "stream",
     "text": [
      "25008.899923838373\n",
      "7843.137254901961\n"
     ]
    }
   ],
   "source": [
    "transact = dvf['prix_m2'].loc[dvf['code_departement'] == str(first_dep)]\n",
    "print(transact.mean())\n",
    "print(transact.median())"
   ]
  },
  {
   "cell_type": "code",
   "execution_count": 19,
   "id": "48652086",
   "metadata": {},
   "outputs": [
    {
     "name": "stdout",
     "output_type": "stream",
     "text": [
      "Dans le 92 (departement avec le prix moyen de l'immobilier le plus chere en moyenne), le prix moyen par m² est de 25008.9€/m², la mediane est a 7843.14€\n"
     ]
    }
   ],
   "source": [
    "print(f\"Dans le {avg_dep.index(avg_dep_sorted[0]) + 1} (departement avec le prix moyen de l'immobilier le plus chere en moyenne), le prix moyen par m² est de {round(transact.mean(), 2)}€/m², la mediane est a {round(transact.median(), 2)}€\")"
   ]
  },
  {
   "cell_type": "code",
   "execution_count": 20,
   "id": "539a757c",
   "metadata": {},
   "outputs": [
    {
     "name": "stdout",
     "output_type": "stream",
     "text": [
      "26328.041359281884\n",
      "10750.0\n"
     ]
    }
   ],
   "source": [
    "transact = dvf['prix_m2'].loc[dvf['code_departement'] == '75']\n",
    "print(transact.mean())\n",
    "print(transact.median())"
   ]
  },
  {
   "cell_type": "code",
   "execution_count": 21,
   "id": "06bcd110",
   "metadata": {},
   "outputs": [
    {
     "name": "stdout",
     "output_type": "stream",
     "text": [
      "Dans le 75, le prix moyen par m² est de 26328.04€/m², la mediane est a 10750.0€\n"
     ]
    }
   ],
   "source": [
    "print(f\"Dans le 75, le prix moyen par m² est de {round(transact.mean(), 2)}€/m², la mediane est a {round(transact.median(), 2)}€\")"
   ]
  },
  {
   "cell_type": "markdown",
   "id": "1e814fab",
   "metadata": {},
   "source": [
    "3. Méthodologie"
   ]
  },
  {
   "cell_type": "code",
   "execution_count": 22,
   "id": "ad6ee905",
   "metadata": {},
   "outputs": [],
   "source": [
    "dvf['date_mutation'] = pd.to_datetime(dvf['date_mutation'])\n",
    "dvf['date_numeric'] = (dvf['date_mutation'] - pd.Timestamp(\"1970-01-01\")) // pd.Timedelta('1D')  # converti les date en format numerique"
   ]
  },
  {
   "cell_type": "code",
   "execution_count": 23,
   "id": "76acab6c",
   "metadata": {},
   "outputs": [],
   "source": [
    "dvf.fillna(0, inplace=True)  # remplace les nan par des 0 \n",
    "X = dvf.drop(columns=['valeur_fonciere', 'date_mutation', 'type_local'])  # Recupere les données de la base sans les labels et valeur non numerique\n",
    "y = dvf['valeur_fonciere']"
   ]
  },
  {
   "cell_type": "markdown",
   "id": "16225a12",
   "metadata": {},
   "source": [
    "LinearRegression :"
   ]
  },
  {
   "cell_type": "code",
   "execution_count": 24,
   "id": "8a4fd339",
   "metadata": {},
   "outputs": [],
   "source": [
    "from sklearn.model_selection import train_test_split\n",
    "from sklearn.linear_model import LinearRegression\n",
    "from sklearn.metrics import mean_squared_error\n",
    "\n",
    "X_train, X_test, y_train, y_test = train_test_split(X, y)"
   ]
  },
  {
   "cell_type": "code",
   "execution_count": 25,
   "id": "7a73fb08",
   "metadata": {},
   "outputs": [
    {
     "data": {
      "text/html": [
       "<style>#sk-container-id-1 {color: black;}#sk-container-id-1 pre{padding: 0;}#sk-container-id-1 div.sk-toggleable {background-color: white;}#sk-container-id-1 label.sk-toggleable__label {cursor: pointer;display: block;width: 100%;margin-bottom: 0;padding: 0.3em;box-sizing: border-box;text-align: center;}#sk-container-id-1 label.sk-toggleable__label-arrow:before {content: \"▸\";float: left;margin-right: 0.25em;color: #696969;}#sk-container-id-1 label.sk-toggleable__label-arrow:hover:before {color: black;}#sk-container-id-1 div.sk-estimator:hover label.sk-toggleable__label-arrow:before {color: black;}#sk-container-id-1 div.sk-toggleable__content {max-height: 0;max-width: 0;overflow: hidden;text-align: left;background-color: #f0f8ff;}#sk-container-id-1 div.sk-toggleable__content pre {margin: 0.2em;color: black;border-radius: 0.25em;background-color: #f0f8ff;}#sk-container-id-1 input.sk-toggleable__control:checked~div.sk-toggleable__content {max-height: 200px;max-width: 100%;overflow: auto;}#sk-container-id-1 input.sk-toggleable__control:checked~label.sk-toggleable__label-arrow:before {content: \"▾\";}#sk-container-id-1 div.sk-estimator input.sk-toggleable__control:checked~label.sk-toggleable__label {background-color: #d4ebff;}#sk-container-id-1 div.sk-label input.sk-toggleable__control:checked~label.sk-toggleable__label {background-color: #d4ebff;}#sk-container-id-1 input.sk-hidden--visually {border: 0;clip: rect(1px 1px 1px 1px);clip: rect(1px, 1px, 1px, 1px);height: 1px;margin: -1px;overflow: hidden;padding: 0;position: absolute;width: 1px;}#sk-container-id-1 div.sk-estimator {font-family: monospace;background-color: #f0f8ff;border: 1px dotted black;border-radius: 0.25em;box-sizing: border-box;margin-bottom: 0.5em;}#sk-container-id-1 div.sk-estimator:hover {background-color: #d4ebff;}#sk-container-id-1 div.sk-parallel-item::after {content: \"\";width: 100%;border-bottom: 1px solid gray;flex-grow: 1;}#sk-container-id-1 div.sk-label:hover label.sk-toggleable__label {background-color: #d4ebff;}#sk-container-id-1 div.sk-serial::before {content: \"\";position: absolute;border-left: 1px solid gray;box-sizing: border-box;top: 0;bottom: 0;left: 50%;z-index: 0;}#sk-container-id-1 div.sk-serial {display: flex;flex-direction: column;align-items: center;background-color: white;padding-right: 0.2em;padding-left: 0.2em;position: relative;}#sk-container-id-1 div.sk-item {position: relative;z-index: 1;}#sk-container-id-1 div.sk-parallel {display: flex;align-items: stretch;justify-content: center;background-color: white;position: relative;}#sk-container-id-1 div.sk-item::before, #sk-container-id-1 div.sk-parallel-item::before {content: \"\";position: absolute;border-left: 1px solid gray;box-sizing: border-box;top: 0;bottom: 0;left: 50%;z-index: -1;}#sk-container-id-1 div.sk-parallel-item {display: flex;flex-direction: column;z-index: 1;position: relative;background-color: white;}#sk-container-id-1 div.sk-parallel-item:first-child::after {align-self: flex-end;width: 50%;}#sk-container-id-1 div.sk-parallel-item:last-child::after {align-self: flex-start;width: 50%;}#sk-container-id-1 div.sk-parallel-item:only-child::after {width: 0;}#sk-container-id-1 div.sk-dashed-wrapped {border: 1px dashed gray;margin: 0 0.4em 0.5em 0.4em;box-sizing: border-box;padding-bottom: 0.4em;background-color: white;}#sk-container-id-1 div.sk-label label {font-family: monospace;font-weight: bold;display: inline-block;line-height: 1.2em;}#sk-container-id-1 div.sk-label-container {text-align: center;}#sk-container-id-1 div.sk-container {/* jupyter's `normalize.less` sets `[hidden] { display: none; }` but bootstrap.min.css set `[hidden] { display: none !important; }` so we also need the `!important` here to be able to override the default hidden behavior on the sphinx rendered scikit-learn.org. See: https://github.com/scikit-learn/scikit-learn/issues/21755 */display: inline-block !important;position: relative;}#sk-container-id-1 div.sk-text-repr-fallback {display: none;}</style><div id=\"sk-container-id-1\" class=\"sk-top-container\"><div class=\"sk-text-repr-fallback\"><pre>LinearRegression()</pre><b>In a Jupyter environment, please rerun this cell to show the HTML representation or trust the notebook. <br />On GitHub, the HTML representation is unable to render, please try loading this page with nbviewer.org.</b></div><div class=\"sk-container\" hidden><div class=\"sk-item\"><div class=\"sk-estimator sk-toggleable\"><input class=\"sk-toggleable__control sk-hidden--visually\" id=\"sk-estimator-id-1\" type=\"checkbox\" checked><label for=\"sk-estimator-id-1\" class=\"sk-toggleable__label sk-toggleable__label-arrow\">LinearRegression</label><div class=\"sk-toggleable__content\"><pre>LinearRegression()</pre></div></div></div></div></div>"
      ],
      "text/plain": [
       "LinearRegression()"
      ]
     },
     "execution_count": 25,
     "metadata": {},
     "output_type": "execute_result"
    }
   ],
   "source": [
    "model = LinearRegression()\n",
    "model.fit(X, y)"
   ]
  },
  {
   "cell_type": "code",
   "execution_count": 26,
   "id": "56d17870",
   "metadata": {},
   "outputs": [
    {
     "data": {
      "text/plain": [
       "227056826658.90738"
      ]
     },
     "execution_count": 26,
     "metadata": {},
     "output_type": "execute_result"
    }
   ],
   "source": [
    "y_pred = model.predict(X_test)\n",
    "mse = mean_squared_error(y_pred, y_test)\n",
    "mse"
   ]
  },
  {
   "cell_type": "markdown",
   "id": "a8d463f5",
   "metadata": {},
   "source": [
    "Une MSE de 194 milliards est vraiment catastrophique, le modele est totalement hors sujet avec cette base de donnée."
   ]
  },
  {
   "cell_type": "code",
   "execution_count": 27,
   "id": "54e75fe0",
   "metadata": {},
   "outputs": [],
   "source": [
    "def accuracy(y_pred, y_test, tolerance = 1000):\n",
    "    return np.mean((y_pred <= y_test + tolerance) & (y_pred >= y_test - tolerance))*100"
   ]
  },
  {
   "cell_type": "code",
   "execution_count": 28,
   "id": "6d9a0a09",
   "metadata": {},
   "outputs": [],
   "source": [
    "def test_model(model, loop = 5, test = True, tolerance = 1000):\n",
    "    sum = 0\n",
    "    for i in range(loop):\n",
    "        X_train, X_test, y_train, y_test = train_test_split(X, y)\n",
    "        m =model.fit(X_train, y_train)\n",
    "        if test : \n",
    "            y_pred = m.predict(X_test)\n",
    "            sum += accuracy(y_pred, y_test, tolerance)\n",
    "        else :\n",
    "            y_pred = m.predict(X_train)\n",
    "            sum += accuracy(y_pred, y_train, tolerance)\n",
    "        \n",
    "    return round(sum /loop, 2)"
   ]
  },
  {
   "cell_type": "code",
   "execution_count": 29,
   "id": "b66b3209",
   "metadata": {},
   "outputs": [
    {
     "data": {
      "text/plain": [
       "0.62"
      ]
     },
     "execution_count": 29,
     "metadata": {},
     "output_type": "execute_result"
    }
   ],
   "source": [
    "test_model(LinearRegression())"
   ]
  },
  {
   "cell_type": "markdown",
   "id": "a00f026d",
   "metadata": {},
   "source": [
    "Avec une tolerance a 1000€ pres, le model a une prediction de 0.57%, ce qui est catastrophique et rejoind l'idee de la mse. "
   ]
  },
  {
   "cell_type": "code",
   "execution_count": null,
   "id": "6b189560",
   "metadata": {},
   "outputs": [],
   "source": []
  },
  {
   "cell_type": "markdown",
   "id": "eb59d064",
   "metadata": {},
   "source": [
    "RandomForestRegressor :"
   ]
  },
  {
   "cell_type": "code",
   "execution_count": 30,
   "id": "5004c464",
   "metadata": {},
   "outputs": [],
   "source": [
    "from sklearn.ensemble import RandomForestRegressor"
   ]
  },
  {
   "cell_type": "code",
   "execution_count": 31,
   "id": "11a565e0",
   "metadata": {},
   "outputs": [
    {
     "data": {
      "text/html": [
       "<style>#sk-container-id-2 {color: black;}#sk-container-id-2 pre{padding: 0;}#sk-container-id-2 div.sk-toggleable {background-color: white;}#sk-container-id-2 label.sk-toggleable__label {cursor: pointer;display: block;width: 100%;margin-bottom: 0;padding: 0.3em;box-sizing: border-box;text-align: center;}#sk-container-id-2 label.sk-toggleable__label-arrow:before {content: \"▸\";float: left;margin-right: 0.25em;color: #696969;}#sk-container-id-2 label.sk-toggleable__label-arrow:hover:before {color: black;}#sk-container-id-2 div.sk-estimator:hover label.sk-toggleable__label-arrow:before {color: black;}#sk-container-id-2 div.sk-toggleable__content {max-height: 0;max-width: 0;overflow: hidden;text-align: left;background-color: #f0f8ff;}#sk-container-id-2 div.sk-toggleable__content pre {margin: 0.2em;color: black;border-radius: 0.25em;background-color: #f0f8ff;}#sk-container-id-2 input.sk-toggleable__control:checked~div.sk-toggleable__content {max-height: 200px;max-width: 100%;overflow: auto;}#sk-container-id-2 input.sk-toggleable__control:checked~label.sk-toggleable__label-arrow:before {content: \"▾\";}#sk-container-id-2 div.sk-estimator input.sk-toggleable__control:checked~label.sk-toggleable__label {background-color: #d4ebff;}#sk-container-id-2 div.sk-label input.sk-toggleable__control:checked~label.sk-toggleable__label {background-color: #d4ebff;}#sk-container-id-2 input.sk-hidden--visually {border: 0;clip: rect(1px 1px 1px 1px);clip: rect(1px, 1px, 1px, 1px);height: 1px;margin: -1px;overflow: hidden;padding: 0;position: absolute;width: 1px;}#sk-container-id-2 div.sk-estimator {font-family: monospace;background-color: #f0f8ff;border: 1px dotted black;border-radius: 0.25em;box-sizing: border-box;margin-bottom: 0.5em;}#sk-container-id-2 div.sk-estimator:hover {background-color: #d4ebff;}#sk-container-id-2 div.sk-parallel-item::after {content: \"\";width: 100%;border-bottom: 1px solid gray;flex-grow: 1;}#sk-container-id-2 div.sk-label:hover label.sk-toggleable__label {background-color: #d4ebff;}#sk-container-id-2 div.sk-serial::before {content: \"\";position: absolute;border-left: 1px solid gray;box-sizing: border-box;top: 0;bottom: 0;left: 50%;z-index: 0;}#sk-container-id-2 div.sk-serial {display: flex;flex-direction: column;align-items: center;background-color: white;padding-right: 0.2em;padding-left: 0.2em;position: relative;}#sk-container-id-2 div.sk-item {position: relative;z-index: 1;}#sk-container-id-2 div.sk-parallel {display: flex;align-items: stretch;justify-content: center;background-color: white;position: relative;}#sk-container-id-2 div.sk-item::before, #sk-container-id-2 div.sk-parallel-item::before {content: \"\";position: absolute;border-left: 1px solid gray;box-sizing: border-box;top: 0;bottom: 0;left: 50%;z-index: -1;}#sk-container-id-2 div.sk-parallel-item {display: flex;flex-direction: column;z-index: 1;position: relative;background-color: white;}#sk-container-id-2 div.sk-parallel-item:first-child::after {align-self: flex-end;width: 50%;}#sk-container-id-2 div.sk-parallel-item:last-child::after {align-self: flex-start;width: 50%;}#sk-container-id-2 div.sk-parallel-item:only-child::after {width: 0;}#sk-container-id-2 div.sk-dashed-wrapped {border: 1px dashed gray;margin: 0 0.4em 0.5em 0.4em;box-sizing: border-box;padding-bottom: 0.4em;background-color: white;}#sk-container-id-2 div.sk-label label {font-family: monospace;font-weight: bold;display: inline-block;line-height: 1.2em;}#sk-container-id-2 div.sk-label-container {text-align: center;}#sk-container-id-2 div.sk-container {/* jupyter's `normalize.less` sets `[hidden] { display: none; }` but bootstrap.min.css set `[hidden] { display: none !important; }` so we also need the `!important` here to be able to override the default hidden behavior on the sphinx rendered scikit-learn.org. See: https://github.com/scikit-learn/scikit-learn/issues/21755 */display: inline-block !important;position: relative;}#sk-container-id-2 div.sk-text-repr-fallback {display: none;}</style><div id=\"sk-container-id-2\" class=\"sk-top-container\"><div class=\"sk-text-repr-fallback\"><pre>RandomForestRegressor(n_estimators=10)</pre><b>In a Jupyter environment, please rerun this cell to show the HTML representation or trust the notebook. <br />On GitHub, the HTML representation is unable to render, please try loading this page with nbviewer.org.</b></div><div class=\"sk-container\" hidden><div class=\"sk-item\"><div class=\"sk-estimator sk-toggleable\"><input class=\"sk-toggleable__control sk-hidden--visually\" id=\"sk-estimator-id-2\" type=\"checkbox\" checked><label for=\"sk-estimator-id-2\" class=\"sk-toggleable__label sk-toggleable__label-arrow\">RandomForestRegressor</label><div class=\"sk-toggleable__content\"><pre>RandomForestRegressor(n_estimators=10)</pre></div></div></div></div></div>"
      ],
      "text/plain": [
       "RandomForestRegressor(n_estimators=10)"
      ]
     },
     "execution_count": 31,
     "metadata": {},
     "output_type": "execute_result"
    }
   ],
   "source": [
    "X_train, X_test, y_train, y_test = train_test_split(X, y)\n",
    "model = RandomForestRegressor(n_estimators=10)\n",
    "model.fit(X_train, y_train) "
   ]
  },
  {
   "cell_type": "code",
   "execution_count": 32,
   "id": "9f635ecb",
   "metadata": {},
   "outputs": [
    {
     "name": "stdout",
     "output_type": "stream",
     "text": [
      "Avec 1000€ de tolerance, accu : 89.87%\n"
     ]
    }
   ],
   "source": [
    "y_pred = model.predict(X_test)\n",
    "print(f\"Avec 1000€ de tolerance, accu : {round(accuracy(y_pred, y_test), 2)}%\")  # avec tolerance de 1000€ par default"
   ]
  },
  {
   "cell_type": "code",
   "execution_count": 33,
   "id": "d262fbc5",
   "metadata": {},
   "outputs": [
    {
     "name": "stdout",
     "output_type": "stream",
     "text": [
      "Avec 100€ de tolerance, accu : 57.92%\n"
     ]
    }
   ],
   "source": [
    "print(f\"Avec 100€ de tolerance, accu : {round(accuracy(y_pred, y_test, tolerance=100), 2)}%\")"
   ]
  },
  {
   "cell_type": "markdown",
   "id": "c9d042e9",
   "metadata": {},
   "source": [
    "Le model RamdomForestRegressor est bien meilleur que le linearRegressor passant de 0.6% a 90% d'accuracy avec 1000€ de tolerance.\n",
    "\n",
    "En baissant la tolerance a 100€ le modele passe a 57% d'accuracy ne qui n'est pas vraiment bon."
   ]
  },
  {
   "cell_type": "code",
   "execution_count": null,
   "id": "823f7c56",
   "metadata": {},
   "outputs": [],
   "source": []
  },
  {
   "cell_type": "markdown",
   "id": "b938f013",
   "metadata": {},
   "source": [
    "Réseau de Neurones :"
   ]
  },
  {
   "cell_type": "code",
   "execution_count": 34,
   "id": "135f4496",
   "metadata": {},
   "outputs": [],
   "source": [
    "from sklearn.preprocessing import StandardScaler"
   ]
  },
  {
   "cell_type": "code",
   "execution_count": null,
   "id": "e50be108",
   "metadata": {},
   "outputs": [],
   "source": []
  },
  {
   "cell_type": "code",
   "execution_count": 35,
   "id": "c6ae5348",
   "metadata": {},
   "outputs": [
    {
     "name": "stdout",
     "output_type": "stream",
     "text": [
      "Index(['code_postal', 'code_departement'], dtype='object')\n"
     ]
    },
    {
     "data": {
      "text/plain": [
       "(100000, 10)"
      ]
     },
     "execution_count": 35,
     "metadata": {},
     "output_type": "execute_result"
    }
   ],
   "source": [
    "number_col = ['valeur_fonciere', 'surface_reelle_bati', 'surface_terrain', 'prix_m2']\n",
    "dvf[number_col].fillna(dvf[number_col].median())\n",
    "\n",
    "categorie_col = ['code_postal', 'code_departement', 'type_local_encoded']\n",
    "dvf[categorie_col].fillna('-1')\n",
    "\n",
    "X = dvf.drop(columns=['valeur_fonciere', 'date_mutation', 'type_local', 'prix_m2']).head(100000) # Recupere les données de la base sans les labels et valeur non numerique\n",
    "y = dvf['valeur_fonciere'].head(100000)\n",
    "X_train, X_test, y_train, y_test = train_test_split(X, y)\n",
    "\n",
    "\n",
    "y_train = y_train[y_train < 1_000_000]  # Exclure les valeurs trop extrêmes\n",
    "X_train = X_train.loc[y_train.index]\n",
    "\n",
    "print(X_train.select_dtypes(include=['object']).columns)  # ces colonnes ne sont pas des nombres, il faut les convertir\n",
    "\n",
    "X_train = X_train.apply(pd.to_numeric, errors='coerce')\n",
    "X_test = X_test.apply(pd.to_numeric, errors='coerce')\n",
    "X.shape"
   ]
  },
  {
   "cell_type": "code",
   "execution_count": null,
   "id": "bae9ef88",
   "metadata": {},
   "outputs": [],
   "source": []
  },
  {
   "cell_type": "code",
   "execution_count": 36,
   "id": "10819ce6",
   "metadata": {},
   "outputs": [],
   "source": [
    "model = tf.keras.models.Sequential([\n",
    "    tf.keras.layers.Input((X_train.shape[1],)),\n",
    "    tf.keras.layers.Dense(128, activation='relu'),\n",
    "    tf.keras.layers.BatchNormalization(),\n",
    "    tf.keras.layers.Dense(64, activation='relu'),\n",
    "    tf.keras.layers.BatchNormalization(),\n",
    "    tf.keras.layers.Dense(32, activation='relu'),\n",
    "    tf.keras.layers.BatchNormalization(),\n",
    "    tf.keras.layers.Dense(1)\n",
    "])"
   ]
  },
  {
   "cell_type": "code",
   "execution_count": 37,
   "id": "d3a44cf8",
   "metadata": {},
   "outputs": [],
   "source": [
    "model.compile(\n",
    "    optimizer='adam', \n",
    "    loss='mse', \n",
    "    metrics=['mse']\n",
    ")"
   ]
  },
  {
   "cell_type": "code",
   "execution_count": 38,
   "id": "e3a3fa38",
   "metadata": {},
   "outputs": [
    {
     "data": {
      "text/html": [
       "<pre style=\"white-space:pre;overflow-x:auto;line-height:normal;font-family:Menlo,'DejaVu Sans Mono',consolas,'Courier New',monospace\"><span style=\"font-weight: bold\">Model: \"sequential\"</span>\n",
       "</pre>\n"
      ],
      "text/plain": [
       "\u001b[1mModel: \"sequential\"\u001b[0m\n"
      ]
     },
     "metadata": {},
     "output_type": "display_data"
    },
    {
     "data": {
      "text/html": [
       "<pre style=\"white-space:pre;overflow-x:auto;line-height:normal;font-family:Menlo,'DejaVu Sans Mono',consolas,'Courier New',monospace\">┏━━━━━━━━━━━━━━━━━━━━━━━━━━━━━━━━━┳━━━━━━━━━━━━━━━━━━━━━━━━┳━━━━━━━━━━━━━━━┓\n",
       "┃<span style=\"font-weight: bold\"> Layer (type)                    </span>┃<span style=\"font-weight: bold\"> Output Shape           </span>┃<span style=\"font-weight: bold\">       Param # </span>┃\n",
       "┡━━━━━━━━━━━━━━━━━━━━━━━━━━━━━━━━━╇━━━━━━━━━━━━━━━━━━━━━━━━╇━━━━━━━━━━━━━━━┩\n",
       "│ dense (<span style=\"color: #0087ff; text-decoration-color: #0087ff\">Dense</span>)                   │ (<span style=\"color: #00d7ff; text-decoration-color: #00d7ff\">None</span>, <span style=\"color: #00af00; text-decoration-color: #00af00\">128</span>)            │         <span style=\"color: #00af00; text-decoration-color: #00af00\">1,408</span> │\n",
       "├─────────────────────────────────┼────────────────────────┼───────────────┤\n",
       "│ batch_normalization             │ (<span style=\"color: #00d7ff; text-decoration-color: #00d7ff\">None</span>, <span style=\"color: #00af00; text-decoration-color: #00af00\">128</span>)            │           <span style=\"color: #00af00; text-decoration-color: #00af00\">512</span> │\n",
       "│ (<span style=\"color: #0087ff; text-decoration-color: #0087ff\">BatchNormalization</span>)            │                        │               │\n",
       "├─────────────────────────────────┼────────────────────────┼───────────────┤\n",
       "│ dense_1 (<span style=\"color: #0087ff; text-decoration-color: #0087ff\">Dense</span>)                 │ (<span style=\"color: #00d7ff; text-decoration-color: #00d7ff\">None</span>, <span style=\"color: #00af00; text-decoration-color: #00af00\">64</span>)             │         <span style=\"color: #00af00; text-decoration-color: #00af00\">8,256</span> │\n",
       "├─────────────────────────────────┼────────────────────────┼───────────────┤\n",
       "│ batch_normalization_1           │ (<span style=\"color: #00d7ff; text-decoration-color: #00d7ff\">None</span>, <span style=\"color: #00af00; text-decoration-color: #00af00\">64</span>)             │           <span style=\"color: #00af00; text-decoration-color: #00af00\">256</span> │\n",
       "│ (<span style=\"color: #0087ff; text-decoration-color: #0087ff\">BatchNormalization</span>)            │                        │               │\n",
       "├─────────────────────────────────┼────────────────────────┼───────────────┤\n",
       "│ dense_2 (<span style=\"color: #0087ff; text-decoration-color: #0087ff\">Dense</span>)                 │ (<span style=\"color: #00d7ff; text-decoration-color: #00d7ff\">None</span>, <span style=\"color: #00af00; text-decoration-color: #00af00\">32</span>)             │         <span style=\"color: #00af00; text-decoration-color: #00af00\">2,080</span> │\n",
       "├─────────────────────────────────┼────────────────────────┼───────────────┤\n",
       "│ batch_normalization_2           │ (<span style=\"color: #00d7ff; text-decoration-color: #00d7ff\">None</span>, <span style=\"color: #00af00; text-decoration-color: #00af00\">32</span>)             │           <span style=\"color: #00af00; text-decoration-color: #00af00\">128</span> │\n",
       "│ (<span style=\"color: #0087ff; text-decoration-color: #0087ff\">BatchNormalization</span>)            │                        │               │\n",
       "├─────────────────────────────────┼────────────────────────┼───────────────┤\n",
       "│ dense_3 (<span style=\"color: #0087ff; text-decoration-color: #0087ff\">Dense</span>)                 │ (<span style=\"color: #00d7ff; text-decoration-color: #00d7ff\">None</span>, <span style=\"color: #00af00; text-decoration-color: #00af00\">1</span>)              │            <span style=\"color: #00af00; text-decoration-color: #00af00\">33</span> │\n",
       "└─────────────────────────────────┴────────────────────────┴───────────────┘\n",
       "</pre>\n"
      ],
      "text/plain": [
       "┏━━━━━━━━━━━━━━━━━━━━━━━━━━━━━━━━━┳━━━━━━━━━━━━━━━━━━━━━━━━┳━━━━━━━━━━━━━━━┓\n",
       "┃\u001b[1m \u001b[0m\u001b[1mLayer (type)                   \u001b[0m\u001b[1m \u001b[0m┃\u001b[1m \u001b[0m\u001b[1mOutput Shape          \u001b[0m\u001b[1m \u001b[0m┃\u001b[1m \u001b[0m\u001b[1m      Param #\u001b[0m\u001b[1m \u001b[0m┃\n",
       "┡━━━━━━━━━━━━━━━━━━━━━━━━━━━━━━━━━╇━━━━━━━━━━━━━━━━━━━━━━━━╇━━━━━━━━━━━━━━━┩\n",
       "│ dense (\u001b[38;5;33mDense\u001b[0m)                   │ (\u001b[38;5;45mNone\u001b[0m, \u001b[38;5;34m128\u001b[0m)            │         \u001b[38;5;34m1,408\u001b[0m │\n",
       "├─────────────────────────────────┼────────────────────────┼───────────────┤\n",
       "│ batch_normalization             │ (\u001b[38;5;45mNone\u001b[0m, \u001b[38;5;34m128\u001b[0m)            │           \u001b[38;5;34m512\u001b[0m │\n",
       "│ (\u001b[38;5;33mBatchNormalization\u001b[0m)            │                        │               │\n",
       "├─────────────────────────────────┼────────────────────────┼───────────────┤\n",
       "│ dense_1 (\u001b[38;5;33mDense\u001b[0m)                 │ (\u001b[38;5;45mNone\u001b[0m, \u001b[38;5;34m64\u001b[0m)             │         \u001b[38;5;34m8,256\u001b[0m │\n",
       "├─────────────────────────────────┼────────────────────────┼───────────────┤\n",
       "│ batch_normalization_1           │ (\u001b[38;5;45mNone\u001b[0m, \u001b[38;5;34m64\u001b[0m)             │           \u001b[38;5;34m256\u001b[0m │\n",
       "│ (\u001b[38;5;33mBatchNormalization\u001b[0m)            │                        │               │\n",
       "├─────────────────────────────────┼────────────────────────┼───────────────┤\n",
       "│ dense_2 (\u001b[38;5;33mDense\u001b[0m)                 │ (\u001b[38;5;45mNone\u001b[0m, \u001b[38;5;34m32\u001b[0m)             │         \u001b[38;5;34m2,080\u001b[0m │\n",
       "├─────────────────────────────────┼────────────────────────┼───────────────┤\n",
       "│ batch_normalization_2           │ (\u001b[38;5;45mNone\u001b[0m, \u001b[38;5;34m32\u001b[0m)             │           \u001b[38;5;34m128\u001b[0m │\n",
       "│ (\u001b[38;5;33mBatchNormalization\u001b[0m)            │                        │               │\n",
       "├─────────────────────────────────┼────────────────────────┼───────────────┤\n",
       "│ dense_3 (\u001b[38;5;33mDense\u001b[0m)                 │ (\u001b[38;5;45mNone\u001b[0m, \u001b[38;5;34m1\u001b[0m)              │            \u001b[38;5;34m33\u001b[0m │\n",
       "└─────────────────────────────────┴────────────────────────┴───────────────┘\n"
      ]
     },
     "metadata": {},
     "output_type": "display_data"
    },
    {
     "data": {
      "text/html": [
       "<pre style=\"white-space:pre;overflow-x:auto;line-height:normal;font-family:Menlo,'DejaVu Sans Mono',consolas,'Courier New',monospace\"><span style=\"font-weight: bold\"> Total params: </span><span style=\"color: #00af00; text-decoration-color: #00af00\">12,673</span> (49.50 KB)\n",
       "</pre>\n"
      ],
      "text/plain": [
       "\u001b[1m Total params: \u001b[0m\u001b[38;5;34m12,673\u001b[0m (49.50 KB)\n"
      ]
     },
     "metadata": {},
     "output_type": "display_data"
    },
    {
     "data": {
      "text/html": [
       "<pre style=\"white-space:pre;overflow-x:auto;line-height:normal;font-family:Menlo,'DejaVu Sans Mono',consolas,'Courier New',monospace\"><span style=\"font-weight: bold\"> Trainable params: </span><span style=\"color: #00af00; text-decoration-color: #00af00\">12,225</span> (47.75 KB)\n",
       "</pre>\n"
      ],
      "text/plain": [
       "\u001b[1m Trainable params: \u001b[0m\u001b[38;5;34m12,225\u001b[0m (47.75 KB)\n"
      ]
     },
     "metadata": {},
     "output_type": "display_data"
    },
    {
     "data": {
      "text/html": [
       "<pre style=\"white-space:pre;overflow-x:auto;line-height:normal;font-family:Menlo,'DejaVu Sans Mono',consolas,'Courier New',monospace\"><span style=\"font-weight: bold\"> Non-trainable params: </span><span style=\"color: #00af00; text-decoration-color: #00af00\">448</span> (1.75 KB)\n",
       "</pre>\n"
      ],
      "text/plain": [
       "\u001b[1m Non-trainable params: \u001b[0m\u001b[38;5;34m448\u001b[0m (1.75 KB)\n"
      ]
     },
     "metadata": {},
     "output_type": "display_data"
    }
   ],
   "source": [
    "model.summary()"
   ]
  },
  {
   "cell_type": "markdown",
   "id": "d4b498fc",
   "metadata": {},
   "source": [
    "Dans un premier temps, utiliser un reseau de neurone avec 4 layers et 2,689 parametres. "
   ]
  },
  {
   "cell_type": "code",
   "execution_count": 39,
   "id": "67cc38d5",
   "metadata": {},
   "outputs": [
    {
     "name": "stdout",
     "output_type": "stream",
     "text": [
      "Epoch 1/100\n",
      "\u001b[1m2237/2237\u001b[0m \u001b[32m━━━━━━━━━━━━━━━━━━━━\u001b[0m\u001b[37m\u001b[0m \u001b[1m4s\u001b[0m 1ms/step - loss: 86068469760.0000 - mse: 86068469760.0000\n",
      "Epoch 2/100\n",
      "\u001b[1m2237/2237\u001b[0m \u001b[32m━━━━━━━━━━━━━━━━━━━━\u001b[0m\u001b[37m\u001b[0m \u001b[1m3s\u001b[0m 1ms/step - loss: 84457160704.0000 - mse: 84457160704.0000\n",
      "Epoch 3/100\n",
      "\u001b[1m2237/2237\u001b[0m \u001b[32m━━━━━━━━━━━━━━━━━━━━\u001b[0m\u001b[37m\u001b[0m \u001b[1m3s\u001b[0m 1ms/step - loss: 85567668224.0000 - mse: 85567668224.0000\n",
      "Epoch 4/100\n",
      "\u001b[1m2237/2237\u001b[0m \u001b[32m━━━━━━━━━━━━━━━━━━━━\u001b[0m\u001b[37m\u001b[0m \u001b[1m3s\u001b[0m 1ms/step - loss: 85235351552.0000 - mse: 85235351552.0000\n",
      "Epoch 5/100\n",
      "\u001b[1m2237/2237\u001b[0m \u001b[32m━━━━━━━━━━━━━━━━━━━━\u001b[0m\u001b[37m\u001b[0m \u001b[1m3s\u001b[0m 1ms/step - loss: 83068026880.0000 - mse: 83068026880.0000\n",
      "Epoch 6/100\n",
      "\u001b[1m2237/2237\u001b[0m \u001b[32m━━━━━━━━━━━━━━━━━━━━\u001b[0m\u001b[37m\u001b[0m \u001b[1m3s\u001b[0m 1ms/step - loss: 82941280256.0000 - mse: 82941280256.0000\n",
      "Epoch 7/100\n",
      "\u001b[1m2237/2237\u001b[0m \u001b[32m━━━━━━━━━━━━━━━━━━━━\u001b[0m\u001b[37m\u001b[0m \u001b[1m3s\u001b[0m 1ms/step - loss: 81734033408.0000 - mse: 81734033408.0000\n",
      "Epoch 8/100\n",
      "\u001b[1m2237/2237\u001b[0m \u001b[32m━━━━━━━━━━━━━━━━━━━━\u001b[0m\u001b[37m\u001b[0m \u001b[1m3s\u001b[0m 1ms/step - loss: 79622266880.0000 - mse: 79622266880.0000\n",
      "Epoch 9/100\n",
      "\u001b[1m2237/2237\u001b[0m \u001b[32m━━━━━━━━━━━━━━━━━━━━\u001b[0m\u001b[37m\u001b[0m \u001b[1m3s\u001b[0m 1ms/step - loss: 79025487872.0000 - mse: 79025487872.0000\n",
      "Epoch 10/100\n",
      "\u001b[1m2237/2237\u001b[0m \u001b[32m━━━━━━━━━━━━━━━━━━━━\u001b[0m\u001b[37m\u001b[0m \u001b[1m3s\u001b[0m 1ms/step - loss: 77011345408.0000 - mse: 77011345408.0000\n",
      "Epoch 11/100\n",
      "\u001b[1m2237/2237\u001b[0m \u001b[32m━━━━━━━━━━━━━━━━━━━━\u001b[0m\u001b[37m\u001b[0m \u001b[1m3s\u001b[0m 1ms/step - loss: 75240693760.0000 - mse: 75240693760.0000\n",
      "Epoch 12/100\n",
      "\u001b[1m2237/2237\u001b[0m \u001b[32m━━━━━━━━━━━━━━━━━━━━\u001b[0m\u001b[37m\u001b[0m \u001b[1m3s\u001b[0m 1ms/step - loss: 74009452544.0000 - mse: 74009452544.0000\n",
      "Epoch 13/100\n",
      "\u001b[1m2237/2237\u001b[0m \u001b[32m━━━━━━━━━━━━━━━━━━━━\u001b[0m\u001b[37m\u001b[0m \u001b[1m3s\u001b[0m 1ms/step - loss: 71233757184.0000 - mse: 71233757184.0000\n",
      "Epoch 14/100\n",
      "\u001b[1m2237/2237\u001b[0m \u001b[32m━━━━━━━━━━━━━━━━━━━━\u001b[0m\u001b[37m\u001b[0m \u001b[1m3s\u001b[0m 1ms/step - loss: 67829358592.0000 - mse: 67829358592.0000\n",
      "Epoch 15/100\n",
      "\u001b[1m2237/2237\u001b[0m \u001b[32m━━━━━━━━━━━━━━━━━━━━\u001b[0m\u001b[37m\u001b[0m \u001b[1m3s\u001b[0m 1ms/step - loss: 65925324800.0000 - mse: 65925324800.0000\n",
      "Epoch 16/100\n",
      "\u001b[1m2237/2237\u001b[0m \u001b[32m━━━━━━━━━━━━━━━━━━━━\u001b[0m\u001b[37m\u001b[0m \u001b[1m3s\u001b[0m 1ms/step - loss: 65713508352.0000 - mse: 65713508352.0000\n",
      "Epoch 17/100\n",
      "\u001b[1m2237/2237\u001b[0m \u001b[32m━━━━━━━━━━━━━━━━━━━━\u001b[0m\u001b[37m\u001b[0m \u001b[1m3s\u001b[0m 1ms/step - loss: 64468713472.0000 - mse: 64468713472.0000\n",
      "Epoch 18/100\n",
      "\u001b[1m2237/2237\u001b[0m \u001b[32m━━━━━━━━━━━━━━━━━━━━\u001b[0m\u001b[37m\u001b[0m \u001b[1m3s\u001b[0m 1ms/step - loss: 59866767360.0000 - mse: 59866767360.0000\n",
      "Epoch 19/100\n",
      "\u001b[1m2237/2237\u001b[0m \u001b[32m━━━━━━━━━━━━━━━━━━━━\u001b[0m\u001b[37m\u001b[0m \u001b[1m3s\u001b[0m 1ms/step - loss: 57004298240.0000 - mse: 57004298240.0000\n",
      "Epoch 20/100\n",
      "\u001b[1m2237/2237\u001b[0m \u001b[32m━━━━━━━━━━━━━━━━━━━━\u001b[0m\u001b[37m\u001b[0m \u001b[1m3s\u001b[0m 1ms/step - loss: 54163513344.0000 - mse: 54163513344.0000\n",
      "Epoch 21/100\n",
      "\u001b[1m2237/2237\u001b[0m \u001b[32m━━━━━━━━━━━━━━━━━━━━\u001b[0m\u001b[37m\u001b[0m \u001b[1m3s\u001b[0m 1ms/step - loss: 52782440448.0000 - mse: 52782440448.0000\n",
      "Epoch 22/100\n",
      "\u001b[1m2237/2237\u001b[0m \u001b[32m━━━━━━━━━━━━━━━━━━━━\u001b[0m\u001b[37m\u001b[0m \u001b[1m3s\u001b[0m 1ms/step - loss: 49983143936.0000 - mse: 49983143936.0000\n",
      "Epoch 23/100\n",
      "\u001b[1m2237/2237\u001b[0m \u001b[32m━━━━━━━━━━━━━━━━━━━━\u001b[0m\u001b[37m\u001b[0m \u001b[1m3s\u001b[0m 1ms/step - loss: 47402684416.0000 - mse: 47402684416.0000\n",
      "Epoch 24/100\n",
      "\u001b[1m2237/2237\u001b[0m \u001b[32m━━━━━━━━━━━━━━━━━━━━\u001b[0m\u001b[37m\u001b[0m \u001b[1m3s\u001b[0m 1ms/step - loss: 47203024896.0000 - mse: 47203024896.0000\n",
      "Epoch 25/100\n",
      "\u001b[1m2237/2237\u001b[0m \u001b[32m━━━━━━━━━━━━━━━━━━━━\u001b[0m\u001b[37m\u001b[0m \u001b[1m3s\u001b[0m 1ms/step - loss: 43222855680.0000 - mse: 43222855680.0000\n",
      "Epoch 26/100\n",
      "\u001b[1m2237/2237\u001b[0m \u001b[32m━━━━━━━━━━━━━━━━━━━━\u001b[0m\u001b[37m\u001b[0m \u001b[1m3s\u001b[0m 1ms/step - loss: 41535885312.0000 - mse: 41535885312.0000\n",
      "Epoch 27/100\n",
      "\u001b[1m2237/2237\u001b[0m \u001b[32m━━━━━━━━━━━━━━━━━━━━\u001b[0m\u001b[37m\u001b[0m \u001b[1m3s\u001b[0m 1ms/step - loss: 42179940352.0000 - mse: 42179940352.0000\n",
      "Epoch 28/100\n",
      "\u001b[1m2237/2237\u001b[0m \u001b[32m━━━━━━━━━━━━━━━━━━━━\u001b[0m\u001b[37m\u001b[0m \u001b[1m3s\u001b[0m 1ms/step - loss: 39022886912.0000 - mse: 39022886912.0000\n",
      "Epoch 29/100\n",
      "\u001b[1m2237/2237\u001b[0m \u001b[32m━━━━━━━━━━━━━━━━━━━━\u001b[0m\u001b[37m\u001b[0m \u001b[1m3s\u001b[0m 1ms/step - loss: 38500077568.0000 - mse: 38500077568.0000\n",
      "Epoch 30/100\n",
      "\u001b[1m2237/2237\u001b[0m \u001b[32m━━━━━━━━━━━━━━━━━━━━\u001b[0m\u001b[37m\u001b[0m \u001b[1m3s\u001b[0m 1ms/step - loss: 35755532288.0000 - mse: 35755532288.0000\n",
      "Epoch 31/100\n",
      "\u001b[1m2237/2237\u001b[0m \u001b[32m━━━━━━━━━━━━━━━━━━━━\u001b[0m\u001b[37m\u001b[0m \u001b[1m3s\u001b[0m 1ms/step - loss: 34355658752.0000 - mse: 34355658752.0000\n",
      "Epoch 32/100\n",
      "\u001b[1m2237/2237\u001b[0m \u001b[32m━━━━━━━━━━━━━━━━━━━━\u001b[0m\u001b[37m\u001b[0m \u001b[1m3s\u001b[0m 1ms/step - loss: 31895371776.0000 - mse: 31895371776.0000\n",
      "Epoch 33/100\n",
      "\u001b[1m2237/2237\u001b[0m \u001b[32m━━━━━━━━━━━━━━━━━━━━\u001b[0m\u001b[37m\u001b[0m \u001b[1m3s\u001b[0m 1ms/step - loss: 30312550400.0000 - mse: 30312550400.0000\n",
      "Epoch 34/100\n",
      "\u001b[1m2237/2237\u001b[0m \u001b[32m━━━━━━━━━━━━━━━━━━━━\u001b[0m\u001b[37m\u001b[0m \u001b[1m3s\u001b[0m 1ms/step - loss: 29067816960.0000 - mse: 29067816960.0000\n",
      "Epoch 35/100\n",
      "\u001b[1m2237/2237\u001b[0m \u001b[32m━━━━━━━━━━━━━━━━━━━━\u001b[0m\u001b[37m\u001b[0m \u001b[1m3s\u001b[0m 1ms/step - loss: 27795243008.0000 - mse: 27795243008.0000\n",
      "Epoch 36/100\n",
      "\u001b[1m2237/2237\u001b[0m \u001b[32m━━━━━━━━━━━━━━━━━━━━\u001b[0m\u001b[37m\u001b[0m \u001b[1m3s\u001b[0m 1ms/step - loss: 26875158528.0000 - mse: 26875158528.0000\n",
      "Epoch 37/100\n",
      "\u001b[1m2237/2237\u001b[0m \u001b[32m━━━━━━━━━━━━━━━━━━━━\u001b[0m\u001b[37m\u001b[0m \u001b[1m3s\u001b[0m 1ms/step - loss: 27010357248.0000 - mse: 27010357248.0000\n",
      "Epoch 38/100\n",
      "\u001b[1m2237/2237\u001b[0m \u001b[32m━━━━━━━━━━━━━━━━━━━━\u001b[0m\u001b[37m\u001b[0m \u001b[1m3s\u001b[0m 1ms/step - loss: 28882466816.0000 - mse: 28882466816.0000\n",
      "Epoch 39/100\n",
      "\u001b[1m2237/2237\u001b[0m \u001b[32m━━━━━━━━━━━━━━━━━━━━\u001b[0m\u001b[37m\u001b[0m \u001b[1m3s\u001b[0m 1ms/step - loss: 27601924096.0000 - mse: 27601924096.0000\n",
      "Epoch 40/100\n",
      "\u001b[1m2237/2237\u001b[0m \u001b[32m━━━━━━━━━━━━━━━━━━━━\u001b[0m\u001b[37m\u001b[0m \u001b[1m3s\u001b[0m 1ms/step - loss: 26125422592.0000 - mse: 26125422592.0000\n",
      "Epoch 41/100\n",
      "\u001b[1m2237/2237\u001b[0m \u001b[32m━━━━━━━━━━━━━━━━━━━━\u001b[0m\u001b[37m\u001b[0m \u001b[1m3s\u001b[0m 1ms/step - loss: 25677780992.0000 - mse: 25677780992.0000\n",
      "Epoch 42/100\n",
      "\u001b[1m2237/2237\u001b[0m \u001b[32m━━━━━━━━━━━━━━━━━━━━\u001b[0m\u001b[37m\u001b[0m \u001b[1m3s\u001b[0m 1ms/step - loss: 25106931712.0000 - mse: 25106931712.0000\n",
      "Epoch 43/100\n",
      "\u001b[1m2237/2237\u001b[0m \u001b[32m━━━━━━━━━━━━━━━━━━━━\u001b[0m\u001b[37m\u001b[0m \u001b[1m3s\u001b[0m 1ms/step - loss: 25124569088.0000 - mse: 25124569088.0000\n",
      "Epoch 44/100\n",
      "\u001b[1m2237/2237\u001b[0m \u001b[32m━━━━━━━━━━━━━━━━━━━━\u001b[0m\u001b[37m\u001b[0m \u001b[1m3s\u001b[0m 1ms/step - loss: 25276983296.0000 - mse: 25276983296.0000\n",
      "Epoch 45/100\n",
      "\u001b[1m2237/2237\u001b[0m \u001b[32m━━━━━━━━━━━━━━━━━━━━\u001b[0m\u001b[37m\u001b[0m \u001b[1m3s\u001b[0m 1ms/step - loss: 25281918976.0000 - mse: 25281918976.0000\n",
      "Epoch 46/100\n",
      "\u001b[1m2237/2237\u001b[0m \u001b[32m━━━━━━━━━━━━━━━━━━━━\u001b[0m\u001b[37m\u001b[0m \u001b[1m3s\u001b[0m 1ms/step - loss: 25549643776.0000 - mse: 25549643776.0000\n",
      "Epoch 47/100\n",
      "\u001b[1m2237/2237\u001b[0m \u001b[32m━━━━━━━━━━━━━━━━━━━━\u001b[0m\u001b[37m\u001b[0m \u001b[1m3s\u001b[0m 1ms/step - loss: 25135196160.0000 - mse: 25135196160.0000\n",
      "Epoch 48/100\n",
      "\u001b[1m2237/2237\u001b[0m \u001b[32m━━━━━━━━━━━━━━━━━━━━\u001b[0m\u001b[37m\u001b[0m \u001b[1m3s\u001b[0m 1ms/step - loss: 25201647616.0000 - mse: 25201647616.0000\n",
      "Epoch 49/100\n",
      "\u001b[1m2237/2237\u001b[0m \u001b[32m━━━━━━━━━━━━━━━━━━━━\u001b[0m\u001b[37m\u001b[0m \u001b[1m3s\u001b[0m 1ms/step - loss: 25362014208.0000 - mse: 25362014208.0000\n",
      "Epoch 50/100\n",
      "\u001b[1m2237/2237\u001b[0m \u001b[32m━━━━━━━━━━━━━━━━━━━━\u001b[0m\u001b[37m\u001b[0m \u001b[1m3s\u001b[0m 1ms/step - loss: 24879435776.0000 - mse: 24879435776.0000\n",
      "Epoch 51/100\n",
      "\u001b[1m2237/2237\u001b[0m \u001b[32m━━━━━━━━━━━━━━━━━━━━\u001b[0m\u001b[37m\u001b[0m \u001b[1m3s\u001b[0m 1ms/step - loss: 24894183424.0000 - mse: 24894183424.0000\n",
      "Epoch 52/100\n",
      "\u001b[1m2237/2237\u001b[0m \u001b[32m━━━━━━━━━━━━━━━━━━━━\u001b[0m\u001b[37m\u001b[0m \u001b[1m3s\u001b[0m 1ms/step - loss: 25169704960.0000 - mse: 25169704960.0000\n",
      "Epoch 53/100\n",
      "\u001b[1m2237/2237\u001b[0m \u001b[32m━━━━━━━━━━━━━━━━━━━━\u001b[0m\u001b[37m\u001b[0m \u001b[1m3s\u001b[0m 1ms/step - loss: 28751046656.0000 - mse: 28751046656.0000\n",
      "Epoch 54/100\n",
      "\u001b[1m2237/2237\u001b[0m \u001b[32m━━━━━━━━━━━━━━━━━━━━\u001b[0m\u001b[37m\u001b[0m \u001b[1m3s\u001b[0m 1ms/step - loss: 27910555648.0000 - mse: 27910555648.0000\n",
      "Epoch 55/100\n",
      "\u001b[1m2237/2237\u001b[0m \u001b[32m━━━━━━━━━━━━━━━━━━━━\u001b[0m\u001b[37m\u001b[0m \u001b[1m3s\u001b[0m 1ms/step - loss: 25614694400.0000 - mse: 25614694400.0000\n",
      "Epoch 56/100\n",
      "\u001b[1m2237/2237\u001b[0m \u001b[32m━━━━━━━━━━━━━━━━━━━━\u001b[0m\u001b[37m\u001b[0m \u001b[1m3s\u001b[0m 1ms/step - loss: 24876124160.0000 - mse: 24876124160.0000\n",
      "Epoch 57/100\n",
      "\u001b[1m2237/2237\u001b[0m \u001b[32m━━━━━━━━━━━━━━━━━━━━\u001b[0m\u001b[37m\u001b[0m \u001b[1m3s\u001b[0m 1ms/step - loss: 25628717056.0000 - mse: 25628717056.0000\n",
      "Epoch 58/100\n",
      "\u001b[1m2237/2237\u001b[0m \u001b[32m━━━━━━━━━━━━━━━━━━━━\u001b[0m\u001b[37m\u001b[0m \u001b[1m3s\u001b[0m 1ms/step - loss: 28203032576.0000 - mse: 28203032576.0000\n",
      "Epoch 59/100\n",
      "\u001b[1m2237/2237\u001b[0m \u001b[32m━━━━━━━━━━━━━━━━━━━━\u001b[0m\u001b[37m\u001b[0m \u001b[1m3s\u001b[0m 1ms/step - loss: 28039258112.0000 - mse: 28039258112.0000\n",
      "Epoch 60/100\n"
     ]
    },
    {
     "name": "stdout",
     "output_type": "stream",
     "text": [
      "\u001b[1m2237/2237\u001b[0m \u001b[32m━━━━━━━━━━━━━━━━━━━━\u001b[0m\u001b[37m\u001b[0m \u001b[1m3s\u001b[0m 1ms/step - loss: 27294212096.0000 - mse: 27294212096.0000\n",
      "Epoch 61/100\n",
      "\u001b[1m2237/2237\u001b[0m \u001b[32m━━━━━━━━━━━━━━━━━━━━\u001b[0m\u001b[37m\u001b[0m \u001b[1m3s\u001b[0m 1ms/step - loss: 26901436416.0000 - mse: 26901436416.0000\n",
      "Epoch 62/100\n",
      "\u001b[1m2237/2237\u001b[0m \u001b[32m━━━━━━━━━━━━━━━━━━━━\u001b[0m\u001b[37m\u001b[0m \u001b[1m3s\u001b[0m 1ms/step - loss: 26021142528.0000 - mse: 26021142528.0000\n",
      "Epoch 63/100\n",
      "\u001b[1m2237/2237\u001b[0m \u001b[32m━━━━━━━━━━━━━━━━━━━━\u001b[0m\u001b[37m\u001b[0m \u001b[1m3s\u001b[0m 1ms/step - loss: 26004086784.0000 - mse: 26004086784.0000\n",
      "Epoch 64/100\n",
      "\u001b[1m2237/2237\u001b[0m \u001b[32m━━━━━━━━━━━━━━━━━━━━\u001b[0m\u001b[37m\u001b[0m \u001b[1m3s\u001b[0m 1ms/step - loss: 25800761344.0000 - mse: 25800761344.0000\n",
      "Epoch 65/100\n",
      "\u001b[1m2237/2237\u001b[0m \u001b[32m━━━━━━━━━━━━━━━━━━━━\u001b[0m\u001b[37m\u001b[0m \u001b[1m3s\u001b[0m 1ms/step - loss: 26527760384.0000 - mse: 26527760384.0000\n",
      "Epoch 66/100\n",
      "\u001b[1m2237/2237\u001b[0m \u001b[32m━━━━━━━━━━━━━━━━━━━━\u001b[0m\u001b[37m\u001b[0m \u001b[1m3s\u001b[0m 1ms/step - loss: 24933156864.0000 - mse: 24933156864.0000\n",
      "Epoch 67/100\n",
      "\u001b[1m2237/2237\u001b[0m \u001b[32m━━━━━━━━━━━━━━━━━━━━\u001b[0m\u001b[37m\u001b[0m \u001b[1m3s\u001b[0m 1ms/step - loss: 25798068224.0000 - mse: 25798068224.0000\n",
      "Epoch 68/100\n",
      "\u001b[1m2237/2237\u001b[0m \u001b[32m━━━━━━━━━━━━━━━━━━━━\u001b[0m\u001b[37m\u001b[0m \u001b[1m3s\u001b[0m 1ms/step - loss: 25269364736.0000 - mse: 25269364736.0000\n",
      "Epoch 69/100\n",
      "\u001b[1m2237/2237\u001b[0m \u001b[32m━━━━━━━━━━━━━━━━━━━━\u001b[0m\u001b[37m\u001b[0m \u001b[1m3s\u001b[0m 1ms/step - loss: 25123700736.0000 - mse: 25123700736.0000\n",
      "Epoch 70/100\n",
      "\u001b[1m2237/2237\u001b[0m \u001b[32m━━━━━━━━━━━━━━━━━━━━\u001b[0m\u001b[37m\u001b[0m \u001b[1m3s\u001b[0m 1ms/step - loss: 25464801280.0000 - mse: 25464801280.0000\n",
      "Epoch 71/100\n",
      "\u001b[1m2237/2237\u001b[0m \u001b[32m━━━━━━━━━━━━━━━━━━━━\u001b[0m\u001b[37m\u001b[0m \u001b[1m3s\u001b[0m 1ms/step - loss: 25312182272.0000 - mse: 25312182272.0000\n",
      "Epoch 72/100\n",
      "\u001b[1m2237/2237\u001b[0m \u001b[32m━━━━━━━━━━━━━━━━━━━━\u001b[0m\u001b[37m\u001b[0m \u001b[1m3s\u001b[0m 1ms/step - loss: 25520099328.0000 - mse: 25520099328.0000\n",
      "Epoch 73/100\n",
      "\u001b[1m2237/2237\u001b[0m \u001b[32m━━━━━━━━━━━━━━━━━━━━\u001b[0m\u001b[37m\u001b[0m \u001b[1m3s\u001b[0m 1ms/step - loss: 24992389120.0000 - mse: 24992389120.0000\n",
      "Epoch 74/100\n",
      "\u001b[1m2237/2237\u001b[0m \u001b[32m━━━━━━━━━━━━━━━━━━━━\u001b[0m\u001b[37m\u001b[0m \u001b[1m3s\u001b[0m 1ms/step - loss: 25105348608.0000 - mse: 25105348608.0000\n",
      "Epoch 75/100\n",
      "\u001b[1m2237/2237\u001b[0m \u001b[32m━━━━━━━━━━━━━━━━━━━━\u001b[0m\u001b[37m\u001b[0m \u001b[1m3s\u001b[0m 1ms/step - loss: 24717174784.0000 - mse: 24717174784.0000\n",
      "Epoch 76/100\n",
      "\u001b[1m2237/2237\u001b[0m \u001b[32m━━━━━━━━━━━━━━━━━━━━\u001b[0m\u001b[37m\u001b[0m \u001b[1m3s\u001b[0m 1ms/step - loss: 25046304768.0000 - mse: 25046304768.0000\n",
      "Epoch 77/100\n",
      "\u001b[1m2237/2237\u001b[0m \u001b[32m━━━━━━━━━━━━━━━━━━━━\u001b[0m\u001b[37m\u001b[0m \u001b[1m3s\u001b[0m 1ms/step - loss: 24810000384.0000 - mse: 24810000384.0000\n",
      "Epoch 78/100\n",
      "\u001b[1m2237/2237\u001b[0m \u001b[32m━━━━━━━━━━━━━━━━━━━━\u001b[0m\u001b[37m\u001b[0m \u001b[1m3s\u001b[0m 1ms/step - loss: 25963304960.0000 - mse: 25963304960.0000\n",
      "Epoch 79/100\n",
      "\u001b[1m2237/2237\u001b[0m \u001b[32m━━━━━━━━━━━━━━━━━━━━\u001b[0m\u001b[37m\u001b[0m \u001b[1m3s\u001b[0m 1ms/step - loss: 25323192320.0000 - mse: 25323192320.0000\n",
      "Epoch 80/100\n",
      "\u001b[1m2237/2237\u001b[0m \u001b[32m━━━━━━━━━━━━━━━━━━━━\u001b[0m\u001b[37m\u001b[0m \u001b[1m3s\u001b[0m 1ms/step - loss: 25233190912.0000 - mse: 25233190912.0000\n",
      "Epoch 81/100\n",
      "\u001b[1m2237/2237\u001b[0m \u001b[32m━━━━━━━━━━━━━━━━━━━━\u001b[0m\u001b[37m\u001b[0m \u001b[1m3s\u001b[0m 1ms/step - loss: 24896094208.0000 - mse: 24896094208.0000\n",
      "Epoch 82/100\n",
      "\u001b[1m2237/2237\u001b[0m \u001b[32m━━━━━━━━━━━━━━━━━━━━\u001b[0m\u001b[37m\u001b[0m \u001b[1m3s\u001b[0m 1ms/step - loss: 25367164928.0000 - mse: 25367164928.0000\n",
      "Epoch 83/100\n",
      "\u001b[1m2237/2237\u001b[0m \u001b[32m━━━━━━━━━━━━━━━━━━━━\u001b[0m\u001b[37m\u001b[0m \u001b[1m3s\u001b[0m 1ms/step - loss: 25202520064.0000 - mse: 25202520064.0000\n",
      "Epoch 84/100\n",
      "\u001b[1m2237/2237\u001b[0m \u001b[32m━━━━━━━━━━━━━━━━━━━━\u001b[0m\u001b[37m\u001b[0m \u001b[1m3s\u001b[0m 1ms/step - loss: 24958883840.0000 - mse: 24958883840.0000\n",
      "Epoch 85/100\n",
      "\u001b[1m2237/2237\u001b[0m \u001b[32m━━━━━━━━━━━━━━━━━━━━\u001b[0m\u001b[37m\u001b[0m \u001b[1m3s\u001b[0m 1ms/step - loss: 24663107584.0000 - mse: 24663107584.0000\n",
      "Epoch 86/100\n",
      "\u001b[1m2237/2237\u001b[0m \u001b[32m━━━━━━━━━━━━━━━━━━━━\u001b[0m\u001b[37m\u001b[0m \u001b[1m3s\u001b[0m 1ms/step - loss: 25720002560.0000 - mse: 25720002560.0000\n",
      "Epoch 87/100\n",
      "\u001b[1m2237/2237\u001b[0m \u001b[32m━━━━━━━━━━━━━━━━━━━━\u001b[0m\u001b[37m\u001b[0m \u001b[1m3s\u001b[0m 1ms/step - loss: 24671195136.0000 - mse: 24671195136.0000\n",
      "Epoch 88/100\n",
      "\u001b[1m2237/2237\u001b[0m \u001b[32m━━━━━━━━━━━━━━━━━━━━\u001b[0m\u001b[37m\u001b[0m \u001b[1m3s\u001b[0m 1ms/step - loss: 24988317696.0000 - mse: 24988317696.0000\n",
      "Epoch 89/100\n",
      "\u001b[1m2237/2237\u001b[0m \u001b[32m━━━━━━━━━━━━━━━━━━━━\u001b[0m\u001b[37m\u001b[0m \u001b[1m3s\u001b[0m 1ms/step - loss: 24721901568.0000 - mse: 24721901568.0000\n",
      "Epoch 90/100\n",
      "\u001b[1m2237/2237\u001b[0m \u001b[32m━━━━━━━━━━━━━━━━━━━━\u001b[0m\u001b[37m\u001b[0m \u001b[1m3s\u001b[0m 1ms/step - loss: 25178351616.0000 - mse: 25178351616.0000\n",
      "Epoch 91/100\n",
      "\u001b[1m2237/2237\u001b[0m \u001b[32m━━━━━━━━━━━━━━━━━━━━\u001b[0m\u001b[37m\u001b[0m \u001b[1m3s\u001b[0m 1ms/step - loss: 24573538304.0000 - mse: 24573538304.0000\n",
      "Epoch 92/100\n",
      "\u001b[1m2237/2237\u001b[0m \u001b[32m━━━━━━━━━━━━━━━━━━━━\u001b[0m\u001b[37m\u001b[0m \u001b[1m3s\u001b[0m 1ms/step - loss: 24542431232.0000 - mse: 24542431232.0000\n",
      "Epoch 93/100\n",
      "\u001b[1m2237/2237\u001b[0m \u001b[32m━━━━━━━━━━━━━━━━━━━━\u001b[0m\u001b[37m\u001b[0m \u001b[1m3s\u001b[0m 1ms/step - loss: 24466128896.0000 - mse: 24466128896.0000\n",
      "Epoch 94/100\n",
      "\u001b[1m2237/2237\u001b[0m \u001b[32m━━━━━━━━━━━━━━━━━━━━\u001b[0m\u001b[37m\u001b[0m \u001b[1m3s\u001b[0m 1ms/step - loss: 24641095680.0000 - mse: 24641095680.0000\n",
      "Epoch 95/100\n",
      "\u001b[1m2237/2237\u001b[0m \u001b[32m━━━━━━━━━━━━━━━━━━━━\u001b[0m\u001b[37m\u001b[0m \u001b[1m3s\u001b[0m 1ms/step - loss: 24324192256.0000 - mse: 24324192256.0000\n",
      "Epoch 96/100\n",
      "\u001b[1m2237/2237\u001b[0m \u001b[32m━━━━━━━━━━━━━━━━━━━━\u001b[0m\u001b[37m\u001b[0m \u001b[1m3s\u001b[0m 1ms/step - loss: 24072200192.0000 - mse: 24072200192.0000\n",
      "Epoch 97/100\n",
      "\u001b[1m2237/2237\u001b[0m \u001b[32m━━━━━━━━━━━━━━━━━━━━\u001b[0m\u001b[37m\u001b[0m \u001b[1m3s\u001b[0m 1ms/step - loss: 24682909696.0000 - mse: 24682909696.0000\n",
      "Epoch 98/100\n",
      "\u001b[1m2237/2237\u001b[0m \u001b[32m━━━━━━━━━━━━━━━━━━━━\u001b[0m\u001b[37m\u001b[0m \u001b[1m3s\u001b[0m 1ms/step - loss: 24455020544.0000 - mse: 24455020544.0000\n",
      "Epoch 99/100\n",
      "\u001b[1m2237/2237\u001b[0m \u001b[32m━━━━━━━━━━━━━━━━━━━━\u001b[0m\u001b[37m\u001b[0m \u001b[1m3s\u001b[0m 1ms/step - loss: 24270594048.0000 - mse: 24270594048.0000\n",
      "Epoch 100/100\n",
      "\u001b[1m2237/2237\u001b[0m \u001b[32m━━━━━━━━━━━━━━━━━━━━\u001b[0m\u001b[37m\u001b[0m \u001b[1m3s\u001b[0m 1ms/step - loss: 24203302912.0000 - mse: 24203302912.0000\n"
     ]
    },
    {
     "data": {
      "text/plain": [
       "<keras.src.callbacks.history.History at 0x14c97e59c50>"
      ]
     },
     "execution_count": 39,
     "metadata": {},
     "output_type": "execute_result"
    }
   ],
   "source": [
    "model.fit(X_train, y_train, epochs=100)"
   ]
  },
  {
   "cell_type": "code",
   "execution_count": 45,
   "id": "49b3a7f3",
   "metadata": {},
   "outputs": [
    {
     "name": "stdout",
     "output_type": "stream",
     "text": [
      "2237/2237 - 2s - 718us/step - loss: 1448744058880.0000 - mse: 1448744058880.0000\n"
     ]
    },
    {
     "data": {
      "text/plain": [
       "[1448744058880.0, 1448744058880.0]"
      ]
     },
     "execution_count": 45,
     "metadata": {},
     "output_type": "execute_result"
    }
   ],
   "source": [
    "model.evaluate(X_train, y_train, verbose = 2)"
   ]
  },
  {
   "cell_type": "code",
   "execution_count": 47,
   "id": "788877ed",
   "metadata": {},
   "outputs": [
    {
     "name": "stdout",
     "output_type": "stream",
     "text": [
      "\u001b[1m782/782\u001b[0m \u001b[32m━━━━━━━━━━━━━━━━━━━━\u001b[0m\u001b[37m\u001b[0m \u001b[1m0s\u001b[0m 549us/step\n"
     ]
    },
    {
     "name": "stderr",
     "output_type": "stream",
     "text": [
      "C:\\Users\\flori\\AppData\\Local\\Temp\\ipykernel_12412\\2925618443.py:2: RuntimeWarning: invalid value encountered in cast\n",
      "  y_pred = y_pred.flatten().astype(int)\n"
     ]
    },
    {
     "data": {
      "text/plain": [
       "array([306257, 278323, 142820, ..., 129912, 132994, 254535])"
      ]
     },
     "execution_count": 47,
     "metadata": {},
     "output_type": "execute_result"
    }
   ],
   "source": [
    "y_pred = model.predict(X_test)\n",
    "y_pred = y_pred.flatten().astype(int)\n",
    "y_pred"
   ]
  },
  {
   "cell_type": "code",
   "execution_count": 48,
   "id": "f58d2e5f",
   "metadata": {},
   "outputs": [
    {
     "data": {
      "text/plain": [
       "0.784"
      ]
     },
     "execution_count": 48,
     "metadata": {},
     "output_type": "execute_result"
    }
   ],
   "source": [
    "accuracy(y_pred, y_test, tolerance = 1000)"
   ]
  },
  {
   "cell_type": "markdown",
   "id": "63635aee",
   "metadata": {},
   "source": [
    "Le modele a actuelement une mse > 1 milliard, c'est vraiment mauvais (lié au format des données plus qu'au model)."
   ]
  },
  {
   "cell_type": "markdown",
   "id": "5b512b4c",
   "metadata": {},
   "source": [
    "4. Expérimentations et Résultats"
   ]
  },
  {
   "cell_type": "markdown",
   "id": "abdda046",
   "metadata": {},
   "source": [
    "Dans un premier temps, le modele LinearRegression a été un modele catastrophique pour cette base de donnée. En effet, le modele est bien trop simpliste pour une base aussi grande et contenant des données de dimension 10. "
   ]
  },
  {
   "cell_type": "markdown",
   "id": "06f31346",
   "metadata": {},
   "source": [
    "Le second modele est bien plus performant donnant des estimations des biens avec un bon ordre de grandeur (~1000€ pres).\n",
    "\n",
    "Cepandant si l'on veut un modele avec un peu plus de precision (~100€ pres), il ne devient plus assez efficace."
   ]
  },
  {
   "cell_type": "markdown",
   "id": "c5a8c541",
   "metadata": {},
   "source": [
    "Pour finir utiliser un reseau de neurone est une solution bien souvent plus performant mais necessite bien plus de ressource et temps d'entrainement."
   ]
  },
  {
   "cell_type": "markdown",
   "id": "33426a32",
   "metadata": {},
   "source": [
    "5. Conclusion et Perspectives\n"
   ]
  },
  {
   "cell_type": "code",
   "execution_count": null,
   "id": "8e50ac4c",
   "metadata": {},
   "outputs": [],
   "source": []
  }
 ],
 "metadata": {
  "kernelspec": {
   "display_name": "Python 3 (ipykernel)",
   "language": "python",
   "name": "python3"
  },
  "language_info": {
   "codemirror_mode": {
    "name": "ipython",
    "version": 3
   },
   "file_extension": ".py",
   "mimetype": "text/x-python",
   "name": "python",
   "nbconvert_exporter": "python",
   "pygments_lexer": "ipython3",
   "version": "3.11.2"
  }
 },
 "nbformat": 4,
 "nbformat_minor": 5
}
